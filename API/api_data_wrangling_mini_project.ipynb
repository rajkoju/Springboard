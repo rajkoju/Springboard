{
 "cells": [
  {
   "cell_type": "markdown",
   "metadata": {},
   "source": [
    "This exercise will require you to pull some data from the Qunadl API. Qaundl is currently the most widely used aggregator of financial market data."
   ]
  },
  {
   "cell_type": "markdown",
   "metadata": {},
   "source": [
    "As a first step, you will need to register a free account on the http://www.quandl.com website."
   ]
  },
  {
   "cell_type": "markdown",
   "metadata": {},
   "source": [
    "After you register, you will be provided with a unique API key, that you should store:"
   ]
  },
  {
   "cell_type": "code",
   "execution_count": 1,
   "metadata": {},
   "outputs": [],
   "source": [
    "# Store the API key as a string - according to PEP8, constants are always named in all upper case\n",
    "API_KEY = '.......'"
   ]
  },
  {
   "cell_type": "markdown",
   "metadata": {},
   "source": [
    "Qaundl has a large number of data sources, but, unfortunately, most of them require a Premium subscription. Still, there are also a good number of free datasets."
   ]
  },
  {
   "cell_type": "markdown",
   "metadata": {},
   "source": [
    "For this mini project, we will focus on equities data from the Frankfurt Stock Exhange (FSE), which is available for free. We'll try and analyze the stock prices of a company called Carl Zeiss Meditec, which manufactures tools for eye examinations, as well as medical lasers for laser eye surgery: https://www.zeiss.com/meditec/int/home.html. The company is listed under the stock ticker AFX_X."
   ]
  },
  {
   "cell_type": "markdown",
   "metadata": {},
   "source": [
    "You can find the detailed Quandl API instructions here: https://docs.quandl.com/docs/time-series"
   ]
  },
  {
   "cell_type": "markdown",
   "metadata": {},
   "source": [
    "While there is a dedicated Python package for connecting to the Quandl API, we would prefer that you use the *requests* package, which can be easily downloaded using *pip* or *conda*. You can find the documentation for the package here: http://docs.python-requests.org/en/master/ "
   ]
  },
  {
   "cell_type": "markdown",
   "metadata": {},
   "source": [
    "Finally, apart from the *requests* package, you are encouraged to not use any third party Python packages, such as *pandas*, and instead focus on what's available in the Python Standard Library (the *collections* module might come in handy: https://pymotw.com/3/collections/ ).\n",
    "Also, since you won't have access to DataFrames, you are encouraged to us Python's native data structures - preferably dictionaries, though some questions can also be answered using lists.\n",
    "You can read more on these data structures here: https://docs.python.org/3/tutorial/datastructures.html"
   ]
  },
  {
   "cell_type": "markdown",
   "metadata": {},
   "source": [
    "Keep in mind that the JSON responses you will be getting from the API map almost one-to-one to Python's dictionaries. Unfortunately, they can be very nested, so make sure you read up on indexing dictionaries in the documentation provided above."
   ]
  },
  {
   "cell_type": "code",
   "execution_count": 2,
   "metadata": {},
   "outputs": [],
   "source": [
    "# First, import the relevant modules\n",
    "import requests\n"
   ]
  },
  {
   "cell_type": "code",
   "execution_count": 3,
   "metadata": {},
   "outputs": [
    {
     "name": "stdout",
     "output_type": "stream",
     "text": [
      "<Response [200]>\n",
      "Response OK\n",
      "200\n"
     ]
    }
   ],
   "source": [
    "# Now, call the Quandl API and pull out a small sample of the data (only one day) to get a glimpse\n",
    "# into the JSON structure that will be returned\n",
    "\n",
    "res = requests.get(\"https://www.quandl.com/api/v3/datasets/FSE/AFX_X.json?api_key=...........\")\n",
    "\n",
    "print(res)\n",
    "\n",
    "if res:\n",
    "    print('Response OK')\n",
    "else:\n",
    "    print('Response Failed')\n",
    "\n",
    "print(res.status_code)"
   ]
  },
  {
   "cell_type": "code",
   "execution_count": 4,
   "metadata": {},
   "outputs": [
    {
     "name": "stdout",
     "output_type": "stream",
     "text": [
      "{'Allow': 'GET, HEAD, POST, PUT, DELETE, OPTIONS, PATCH', 'Cache-Control': 'no-store', 'Content-Encoding': 'gzip', 'Content-Security-Policy': \"frame-ancestors 'self';\", 'Content-Type': 'application/json; charset=utf-8', 'Date': 'Mon, 08 Mar 2021 21:47:02 GMT', 'ETag': 'W/\"722ad3fa0797b6132b9d63a72dad4725\"', 'Pragma': 'no-cache', 'Referrer-Policy': 'origin-when-cross-origin', 'Server': 'openresty', 'Strict-Transport-Security': 'max-age=31536000; includeSubDomains; preload', 'Vary': 'Origin', 'X-Content-Type-Options': 'nosniff', 'X-Frame-Options': 'SAMEORIGIN', 'X-Rack-CORS': 'miss; no-origin', 'X-RateLimit-Limit': '50000', 'X-RateLimit-Remaining': '49992', 'X-Request-Id': 'a2a6c708-3a2f-4f73-8e57-52376d8b05d2', 'X-Runtime': '1.152632', 'X-XSS-Protection': '1; mode=block', 'transfer-encoding': 'chunked', 'Connection': 'keep-alive', 'Set-Cookie': 'visid_incap_2261005=DE8g2plaQr6WwsY9G7BmDlWbRmAAAAAAQUIPAAAAAAAU/FTLhIDfvZiAdByd9tWo; expires=Tue, 08 Mar 2022 11:22:20 GMT; HttpOnly; path=/; Domain=.quandl.com; Secure; SameSite=None, nlbi_2261005=IJc4ezC2mjUPDmqmgSMXTwAAAABHv2vmzj7DHa9YIG4Oqj9q; path=/; Domain=.quandl.com; Secure; SameSite=None, incap_ses_1181_2261005=SfF1ALnRcBjsVfGwiMFjEFWbRmAAAAAAV0UOB86L6sOpwtOE8ddwuA==; path=/; Domain=.quandl.com; Secure; SameSite=None', 'X-CDN': 'Imperva', 'X-Iinfo': '12-73440400-73440415 NNNN CT(33 45 0) RT(1615240020112 55) q(0 0 1 -1) r(13 13) U2'}\n"
     ]
    }
   ],
   "source": [
    "# Inspect the JSON structure of the object you created, and take note of how nested it is,\n",
    "# as well as the overall structure\n",
    "print(res.headers)"
   ]
  },
  {
   "cell_type": "code",
   "execution_count": 5,
   "metadata": {},
   "outputs": [],
   "source": [
    "json = res.json()\n",
    "#print(json)"
   ]
  },
  {
   "cell_type": "code",
   "execution_count": 6,
   "metadata": {},
   "outputs": [
    {
     "data": {
      "text/plain": [
       "dict_keys(['dataset'])"
      ]
     },
     "execution_count": 6,
     "metadata": {},
     "output_type": "execute_result"
    }
   ],
   "source": [
    "json.keys()"
   ]
  },
  {
   "cell_type": "code",
   "execution_count": 7,
   "metadata": {},
   "outputs": [],
   "source": [
    "#json['dataset']"
   ]
  },
  {
   "cell_type": "code",
   "execution_count": 8,
   "metadata": {},
   "outputs": [
    {
     "data": {
      "text/plain": [
       "['2020-12-01',\n",
       " 112.2,\n",
       " 112.2,\n",
       " 111.5,\n",
       " 112.0,\n",
       " None,\n",
       " 51.0,\n",
       " 5703.0,\n",
       " None,\n",
       " None,\n",
       " None]"
      ]
     },
     "execution_count": 8,
     "metadata": {},
     "output_type": "execute_result"
    }
   ],
   "source": [
    "json['dataset']['data'][0]"
   ]
  },
  {
   "cell_type": "markdown",
   "metadata": {},
   "source": [
    "These are your tasks for this mini project:\n",
    "\n",
    "1. Collect data from the Franfurt Stock Exchange, for the ticker AFX_X, for the whole year 2017 (keep in mind that the date format is YYYY-MM-DD).\n",
    "2. Convert the returned JSON object into a Python dictionary.\n",
    "3. Calculate what the highest and lowest opening prices were for the stock in this period.\n",
    "4. What was the largest change in any one day (based on High and Low price)?\n",
    "5. What was the largest change between any two days (based on Closing Price)?\n",
    "6. What was the average daily trading volume during this year?\n",
    "7. (Optional) What was the median trading volume during this year. (Note: you may need to implement your own function for calculating the median.)"
   ]
  },
  {
   "cell_type": "code",
   "execution_count": 9,
   "metadata": {},
   "outputs": [
    {
     "name": "stdout",
     "output_type": "stream",
     "text": [
      "[['2017-12-29', 51.76, 51.94, 51.45, 51.76, None, 34640.0, 1792304.0, None, None, None], ['2017-12-28', 51.65, 51.82, 51.43, 51.6, None, 40660.0, 2099024.0, None, None, None]]\n",
      "255\n"
     ]
    }
   ],
   "source": [
    "Zeiss_2017=[]\n",
    "for value in json['dataset']['data']:\n",
    "    if '2017' in value[0]:\n",
    "        #print(value[0])\n",
    "        Zeiss_2017.append(value)\n",
    "print(Zeiss_2017[:2]) \n",
    "\n",
    "print(len(Zeiss_2017))"
   ]
  },
  {
   "cell_type": "code",
   "execution_count": 10,
   "metadata": {},
   "outputs": [
    {
     "name": "stdout",
     "output_type": "stream",
     "text": [
      "169 ['2017-05-01', None, 42.245, 41.655, 41.72, -0.44, 86348.0, 3606589.0, None, None, None]\n",
      "179 ['2017-04-17', None, 42.48, 41.985, 42.2, None, 88416.0, 3734717.0, None, None, None]\n",
      "180 ['2017-04-14', None, 42.48, 41.985, 42.2, None, 88416.0, 3734717.0, None, None, None]\n"
     ]
    }
   ],
   "source": [
    "Open_price=[]\n",
    "High=[]\n",
    "Low=[]\n",
    "Close=[]\n",
    "Trade_Vol=[]\n",
    "for i in Zeiss_2017:\n",
    "    Open_price.append(i[1])\n",
    "    High.append(i[2])\n",
    "    Low.append(i[3])\n",
    "    Close.append(i[4])\n",
    "    Trade_Vol.append(i[6])\n",
    "               \n",
    "#print(Open_price)\n",
    "#count=0\n",
    "#for i in Open_price:\n",
    "#    if not i:\n",
    "#        print(i,Zeiss_2017[count])\n",
    "#    count+=1\n",
    "    \n",
    "\n",
    "for i in range(len(Open_price)):\n",
    "    if not Open_price[i]:\n",
    "        print(i,Zeiss_2017[i])"
   ]
  },
  {
   "cell_type": "code",
   "execution_count": 11,
   "metadata": {},
   "outputs": [
    {
     "name": "stdout",
     "output_type": "stream",
     "text": [
      "In 2017, The highest and the lowest opening stock price for Carl Zeiss Meditec were 53.110 and 34.000\n"
     ]
    }
   ],
   "source": [
    "#Calculate what the highest and lowest opening prices were for the stock in this period.\n",
    "\n",
    "#remove none from opening price\n",
    "Open_price_wnone=[]\n",
    "for i in Open_price:\n",
    "    if i:\n",
    "        Open_price_wnone.append(i)\n",
    "\n",
    "print(\"In 2017, The highest and the lowest opening stock price for Carl Zeiss Meditec were %.3f and %.3f\" % (max(Open_price_wnone),min(Open_price_wnone)))\n",
    "        "
   ]
  },
  {
   "cell_type": "code",
   "execution_count": 12,
   "metadata": {},
   "outputs": [
    {
     "name": "stdout",
     "output_type": "stream",
     "text": [
      "The largest change in any one day is 2.810\n"
     ]
    }
   ],
   "source": [
    "#What was the largest change in any one day (based on High and Low price)?\n",
    "Change_day_price=[]\n",
    "for i in range(len(High)):\n",
    "     Change_day_price.append(High[i]-Low[i]) \n",
    "    \n",
    "for i in Change_day_price:\n",
    "    if not i:\n",
    "        print(\"None value\",i)\n",
    "        \n",
    "print(\"The largest change in any one day is %.3f\" % max(Change_day_price))  \n"
   ]
  },
  {
   "cell_type": "code",
   "execution_count": 13,
   "metadata": {},
   "outputs": [
    {
     "name": "stdout",
     "output_type": "stream",
     "text": [
      "The largest change in the closing price between two days is 2.560\n"
     ]
    }
   ],
   "source": [
    "#What was the largest change between any two days (based on Closing Price)?\n",
    "\n",
    "Change_twoday_price=[]\n",
    "for i in range(1,len(Close)):\n",
    "     Change_twoday_price.append(Close[i]-Close[i-1]) \n",
    "     \n",
    "#for i in Change_twoday_price:\n",
    "#    if not i:\n",
    "#        print(\"None value\",i)\n",
    "\n",
    "Change_price_wnone=[]\n",
    "for i in Change_twoday_price:\n",
    "    if i:\n",
    "        Change_price_wnone.append(i)\n",
    "        \n",
    "print(\"The largest change in the closing price between two days is %.3f\" % max(Change_price_wnone))  \n",
    "\n"
   ]
  },
  {
   "cell_type": "code",
   "execution_count": 14,
   "metadata": {},
   "outputs": [
    {
     "name": "stdout",
     "output_type": "stream",
     "text": [
      "Average daily trading volume 89124.337\n"
     ]
    }
   ],
   "source": [
    "#What was the average daily trading volume during this year?\n",
    "for i in Trade_Vol:\n",
    "    if not i:\n",
    "        print(\"None value\",i)\n",
    "\n",
    "print(\"Average daily trading volume %.3f\" %( sum(Trade_Vol)/len(Trade_Vol) ))\n"
   ]
  },
  {
   "cell_type": "code",
   "execution_count": 15,
   "metadata": {},
   "outputs": [
    {
     "name": "stdout",
     "output_type": "stream",
     "text": [
      "Median trading volume: 76286.000\n"
     ]
    }
   ],
   "source": [
    "#What was the median trading volume during this year?\n",
    "sort_trade_vol=sorted(Trade_Vol)\n",
    "\n",
    "\n",
    "def median_array(array):\n",
    "    n=len(array)\n",
    "    #print(n,n%2)\n",
    "    if (n%2)==0:\n",
    "        median_value=(array[int((n)/2)]+array[int((n-1)/2)])/2      \n",
    "    else:\n",
    "        median_value=array[int((n-1)/2)]  \n",
    "    return median_value\n",
    "    \n",
    "\n",
    "\n",
    "print(\"Median trading volume: %.3f\"% median_array(sort_trade_vol))\n",
    "\n",
    "#import numpy as np\n",
    "#print(np.median(sort_trade_vol))\n",
    "\n"
   ]
  }
 ],
 "metadata": {
  "kernelspec": {
   "display_name": "Python 3",
   "language": "python",
   "name": "python3"
  },
  "language_info": {
   "codemirror_mode": {
    "name": "ipython",
    "version": 3
   },
   "file_extension": ".py",
   "mimetype": "text/x-python",
   "name": "python",
   "nbconvert_exporter": "python",
   "pygments_lexer": "ipython3",
   "version": "3.7.6"
  }
 },
 "nbformat": 4,
 "nbformat_minor": 2
}
