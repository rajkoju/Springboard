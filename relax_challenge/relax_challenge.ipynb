{
 "cells": [
  {
   "cell_type": "markdown",
   "metadata": {},
   "source": [
    "## 1. Data Wrangling<a id='1._Data Wrangling'></a>"
   ]
  },
  {
   "cell_type": "code",
   "execution_count": 1,
   "metadata": {},
   "outputs": [],
   "source": [
    "# importing relevant packages\n",
    "import os\n",
    "import numpy as np\n",
    "import pandas as pd\n",
    "from datetime import datetime,timedelta\n",
    "import seaborn as sns\n",
    "import matplotlib.pyplot as plt\n",
    "from scipy import stats\n",
    "from sklearn.experimental import enable_iterative_imputer\n",
    "from sklearn.impute import IterativeImputer\n",
    "from sklearn.ensemble import ExtraTreesRegressor\n",
    "from sklearn import preprocessing\n",
    "from sklearn.model_selection import train_test_split, cross_val_score, GridSearchCV\n",
    "from sklearn.pipeline import Pipeline\n",
    "from sklearn.metrics import classification_report\n",
    "from sklearn.linear_model import LogisticRegression\n",
    "import collections\n",
    "import shap\n",
    "import pandas.core.algorithms as algos\n",
    "from pandas import Series\n",
    "import scipy.stats.stats as stats\n",
    "import traceback\n",
    "import re\n",
    "import string\n",
    "import warnings\n",
    "from datetime import datetime\n",
    "import time"
   ]
  },
  {
   "cell_type": "markdown",
   "metadata": {},
   "source": [
    "## 1.1 Reading user file <a id='1.1_Reading user file'></a>"
   ]
  },
  {
   "cell_type": "code",
   "execution_count": 2,
   "metadata": {},
   "outputs": [],
   "source": [
    "df_user=pd.read_csv(\"takehome_users.csv\",encoding = \"ISO-8859-1\")"
   ]
  },
  {
   "cell_type": "code",
   "execution_count": 3,
   "metadata": {},
   "outputs": [
    {
     "data": {
      "text/plain": [
       "(12000, 10)"
      ]
     },
     "execution_count": 3,
     "metadata": {},
     "output_type": "execute_result"
    }
   ],
   "source": [
    "df_user.shape"
   ]
  },
  {
   "cell_type": "code",
   "execution_count": 4,
   "metadata": {},
   "outputs": [
    {
     "name": "stdout",
     "output_type": "stream",
     "text": [
      "<class 'pandas.core.frame.DataFrame'>\n",
      "RangeIndex: 12000 entries, 0 to 11999\n",
      "Data columns (total 10 columns):\n",
      " #   Column                      Non-Null Count  Dtype  \n",
      "---  ------                      --------------  -----  \n",
      " 0   object_id                   12000 non-null  int64  \n",
      " 1   creation_time               12000 non-null  object \n",
      " 2   name                        12000 non-null  object \n",
      " 3   email                       12000 non-null  object \n",
      " 4   creation_source             12000 non-null  object \n",
      " 5   last_session_creation_time  8823 non-null   float64\n",
      " 6   opted_in_to_mailing_list    12000 non-null  int64  \n",
      " 7   enabled_for_marketing_drip  12000 non-null  int64  \n",
      " 8   org_id                      12000 non-null  int64  \n",
      " 9   invited_by_user_id          6417 non-null   float64\n",
      "dtypes: float64(2), int64(4), object(4)\n",
      "memory usage: 937.6+ KB\n"
     ]
    }
   ],
   "source": [
    "df_user.info()"
   ]
  },
  {
   "cell_type": "code",
   "execution_count": 5,
   "metadata": {},
   "outputs": [
    {
     "data": {
      "text/html": [
       "<div>\n",
       "<style scoped>\n",
       "    .dataframe tbody tr th:only-of-type {\n",
       "        vertical-align: middle;\n",
       "    }\n",
       "\n",
       "    .dataframe tbody tr th {\n",
       "        vertical-align: top;\n",
       "    }\n",
       "\n",
       "    .dataframe thead th {\n",
       "        text-align: right;\n",
       "    }\n",
       "</style>\n",
       "<table border=\"1\" class=\"dataframe\">\n",
       "  <thead>\n",
       "    <tr style=\"text-align: right;\">\n",
       "      <th></th>\n",
       "      <th>object_id</th>\n",
       "      <th>creation_time</th>\n",
       "      <th>name</th>\n",
       "      <th>email</th>\n",
       "      <th>creation_source</th>\n",
       "      <th>last_session_creation_time</th>\n",
       "      <th>opted_in_to_mailing_list</th>\n",
       "      <th>enabled_for_marketing_drip</th>\n",
       "      <th>org_id</th>\n",
       "      <th>invited_by_user_id</th>\n",
       "    </tr>\n",
       "  </thead>\n",
       "  <tbody>\n",
       "    <tr>\n",
       "      <th>0</th>\n",
       "      <td>1</td>\n",
       "      <td>2014-04-22 03:53:30</td>\n",
       "      <td>Clausen August</td>\n",
       "      <td>AugustCClausen@yahoo.com</td>\n",
       "      <td>GUEST_INVITE</td>\n",
       "      <td>1.398139e+09</td>\n",
       "      <td>1</td>\n",
       "      <td>0</td>\n",
       "      <td>11</td>\n",
       "      <td>10803.0</td>\n",
       "    </tr>\n",
       "    <tr>\n",
       "      <th>1</th>\n",
       "      <td>2</td>\n",
       "      <td>2013-11-15 03:45:04</td>\n",
       "      <td>Poole Matthew</td>\n",
       "      <td>MatthewPoole@gustr.com</td>\n",
       "      <td>ORG_INVITE</td>\n",
       "      <td>1.396238e+09</td>\n",
       "      <td>0</td>\n",
       "      <td>0</td>\n",
       "      <td>1</td>\n",
       "      <td>316.0</td>\n",
       "    </tr>\n",
       "    <tr>\n",
       "      <th>2</th>\n",
       "      <td>3</td>\n",
       "      <td>2013-03-19 23:14:52</td>\n",
       "      <td>Bottrill Mitchell</td>\n",
       "      <td>MitchellBottrill@gustr.com</td>\n",
       "      <td>ORG_INVITE</td>\n",
       "      <td>1.363735e+09</td>\n",
       "      <td>0</td>\n",
       "      <td>0</td>\n",
       "      <td>94</td>\n",
       "      <td>1525.0</td>\n",
       "    </tr>\n",
       "    <tr>\n",
       "      <th>3</th>\n",
       "      <td>4</td>\n",
       "      <td>2013-05-21 08:09:28</td>\n",
       "      <td>Clausen Nicklas</td>\n",
       "      <td>NicklasSClausen@yahoo.com</td>\n",
       "      <td>GUEST_INVITE</td>\n",
       "      <td>1.369210e+09</td>\n",
       "      <td>0</td>\n",
       "      <td>0</td>\n",
       "      <td>1</td>\n",
       "      <td>5151.0</td>\n",
       "    </tr>\n",
       "    <tr>\n",
       "      <th>4</th>\n",
       "      <td>5</td>\n",
       "      <td>2013-01-17 10:14:20</td>\n",
       "      <td>Raw Grace</td>\n",
       "      <td>GraceRaw@yahoo.com</td>\n",
       "      <td>GUEST_INVITE</td>\n",
       "      <td>1.358850e+09</td>\n",
       "      <td>0</td>\n",
       "      <td>0</td>\n",
       "      <td>193</td>\n",
       "      <td>5240.0</td>\n",
       "    </tr>\n",
       "  </tbody>\n",
       "</table>\n",
       "</div>"
      ],
      "text/plain": [
       "   object_id        creation_time               name  \\\n",
       "0          1  2014-04-22 03:53:30     Clausen August   \n",
       "1          2  2013-11-15 03:45:04      Poole Matthew   \n",
       "2          3  2013-03-19 23:14:52  Bottrill Mitchell   \n",
       "3          4  2013-05-21 08:09:28    Clausen Nicklas   \n",
       "4          5  2013-01-17 10:14:20          Raw Grace   \n",
       "\n",
       "                        email creation_source  last_session_creation_time  \\\n",
       "0    AugustCClausen@yahoo.com    GUEST_INVITE                1.398139e+09   \n",
       "1      MatthewPoole@gustr.com      ORG_INVITE                1.396238e+09   \n",
       "2  MitchellBottrill@gustr.com      ORG_INVITE                1.363735e+09   \n",
       "3   NicklasSClausen@yahoo.com    GUEST_INVITE                1.369210e+09   \n",
       "4          GraceRaw@yahoo.com    GUEST_INVITE                1.358850e+09   \n",
       "\n",
       "   opted_in_to_mailing_list  enabled_for_marketing_drip  org_id  \\\n",
       "0                         1                           0      11   \n",
       "1                         0                           0       1   \n",
       "2                         0                           0      94   \n",
       "3                         0                           0       1   \n",
       "4                         0                           0     193   \n",
       "\n",
       "   invited_by_user_id  \n",
       "0             10803.0  \n",
       "1               316.0  \n",
       "2              1525.0  \n",
       "3              5151.0  \n",
       "4              5240.0  "
      ]
     },
     "execution_count": 5,
     "metadata": {},
     "output_type": "execute_result"
    }
   ],
   "source": [
    "df_user.head()"
   ]
  },
  {
   "cell_type": "code",
   "execution_count": 6,
   "metadata": {},
   "outputs": [
    {
     "data": {
      "text/html": [
       "<div>\n",
       "<style scoped>\n",
       "    .dataframe tbody tr th:only-of-type {\n",
       "        vertical-align: middle;\n",
       "    }\n",
       "\n",
       "    .dataframe tbody tr th {\n",
       "        vertical-align: top;\n",
       "    }\n",
       "\n",
       "    .dataframe thead th {\n",
       "        text-align: right;\n",
       "    }\n",
       "</style>\n",
       "<table border=\"1\" class=\"dataframe\">\n",
       "  <thead>\n",
       "    <tr style=\"text-align: right;\">\n",
       "      <th></th>\n",
       "      <th>object_id</th>\n",
       "      <th>creation_time</th>\n",
       "      <th>name</th>\n",
       "      <th>email</th>\n",
       "      <th>creation_source</th>\n",
       "      <th>last_session_creation_time</th>\n",
       "      <th>opted_in_to_mailing_list</th>\n",
       "      <th>enabled_for_marketing_drip</th>\n",
       "      <th>org_id</th>\n",
       "      <th>invited_by_user_id</th>\n",
       "    </tr>\n",
       "  </thead>\n",
       "  <tbody>\n",
       "    <tr>\n",
       "      <th>11995</th>\n",
       "      <td>11996</td>\n",
       "      <td>2013-09-06 06:14:15</td>\n",
       "      <td>Meier Sophia</td>\n",
       "      <td>SophiaMeier@gustr.com</td>\n",
       "      <td>ORG_INVITE</td>\n",
       "      <td>1.378448e+09</td>\n",
       "      <td>0</td>\n",
       "      <td>0</td>\n",
       "      <td>89</td>\n",
       "      <td>8263.0</td>\n",
       "    </tr>\n",
       "    <tr>\n",
       "      <th>11996</th>\n",
       "      <td>11997</td>\n",
       "      <td>2013-01-10 18:28:37</td>\n",
       "      <td>Fisher Amelie</td>\n",
       "      <td>AmelieFisher@gmail.com</td>\n",
       "      <td>SIGNUP_GOOGLE_AUTH</td>\n",
       "      <td>1.358275e+09</td>\n",
       "      <td>0</td>\n",
       "      <td>0</td>\n",
       "      <td>200</td>\n",
       "      <td>NaN</td>\n",
       "    </tr>\n",
       "    <tr>\n",
       "      <th>11997</th>\n",
       "      <td>11998</td>\n",
       "      <td>2014-04-27 12:45:16</td>\n",
       "      <td>Haynes Jake</td>\n",
       "      <td>JakeHaynes@cuvox.de</td>\n",
       "      <td>GUEST_INVITE</td>\n",
       "      <td>1.398603e+09</td>\n",
       "      <td>1</td>\n",
       "      <td>1</td>\n",
       "      <td>83</td>\n",
       "      <td>8074.0</td>\n",
       "    </tr>\n",
       "    <tr>\n",
       "      <th>11998</th>\n",
       "      <td>11999</td>\n",
       "      <td>2012-05-31 11:55:59</td>\n",
       "      <td>Faber Annett</td>\n",
       "      <td>mhaerzxp@iuxiw.com</td>\n",
       "      <td>PERSONAL_PROJECTS</td>\n",
       "      <td>1.338638e+09</td>\n",
       "      <td>0</td>\n",
       "      <td>0</td>\n",
       "      <td>6</td>\n",
       "      <td>NaN</td>\n",
       "    </tr>\n",
       "    <tr>\n",
       "      <th>11999</th>\n",
       "      <td>12000</td>\n",
       "      <td>2014-01-26 08:57:12</td>\n",
       "      <td>Lima Thaís</td>\n",
       "      <td>ThaisMeloLima@hotmail.com</td>\n",
       "      <td>SIGNUP</td>\n",
       "      <td>1.390727e+09</td>\n",
       "      <td>0</td>\n",
       "      <td>1</td>\n",
       "      <td>0</td>\n",
       "      <td>NaN</td>\n",
       "    </tr>\n",
       "  </tbody>\n",
       "</table>\n",
       "</div>"
      ],
      "text/plain": [
       "       object_id        creation_time           name  \\\n",
       "11995      11996  2013-09-06 06:14:15   Meier Sophia   \n",
       "11996      11997  2013-01-10 18:28:37  Fisher Amelie   \n",
       "11997      11998  2014-04-27 12:45:16    Haynes Jake   \n",
       "11998      11999  2012-05-31 11:55:59   Faber Annett   \n",
       "11999      12000  2014-01-26 08:57:12     Lima Thaís   \n",
       "\n",
       "                           email     creation_source  \\\n",
       "11995      SophiaMeier@gustr.com          ORG_INVITE   \n",
       "11996     AmelieFisher@gmail.com  SIGNUP_GOOGLE_AUTH   \n",
       "11997        JakeHaynes@cuvox.de        GUEST_INVITE   \n",
       "11998         mhaerzxp@iuxiw.com   PERSONAL_PROJECTS   \n",
       "11999  ThaisMeloLima@hotmail.com              SIGNUP   \n",
       "\n",
       "       last_session_creation_time  opted_in_to_mailing_list  \\\n",
       "11995                1.378448e+09                         0   \n",
       "11996                1.358275e+09                         0   \n",
       "11997                1.398603e+09                         1   \n",
       "11998                1.338638e+09                         0   \n",
       "11999                1.390727e+09                         0   \n",
       "\n",
       "       enabled_for_marketing_drip  org_id  invited_by_user_id  \n",
       "11995                           0      89              8263.0  \n",
       "11996                           0     200                 NaN  \n",
       "11997                           1      83              8074.0  \n",
       "11998                           0       6                 NaN  \n",
       "11999                           1       0                 NaN  "
      ]
     },
     "execution_count": 6,
     "metadata": {},
     "output_type": "execute_result"
    }
   ],
   "source": [
    "df_user.tail()"
   ]
  },
  {
   "cell_type": "code",
   "execution_count": 7,
   "metadata": {},
   "outputs": [
    {
     "data": {
      "text/plain": [
       "object_id                        0\n",
       "creation_time                    0\n",
       "name                             0\n",
       "email                            0\n",
       "creation_source                  0\n",
       "last_session_creation_time    3177\n",
       "opted_in_to_mailing_list         0\n",
       "enabled_for_marketing_drip       0\n",
       "org_id                           0\n",
       "invited_by_user_id            5583\n",
       "dtype: int64"
      ]
     },
     "execution_count": 7,
     "metadata": {},
     "output_type": "execute_result"
    }
   ],
   "source": [
    "df_user.isnull().sum()"
   ]
  },
  {
   "cell_type": "code",
   "execution_count": 8,
   "metadata": {},
   "outputs": [
    {
     "name": "stdout",
     "output_type": "stream",
     "text": [
      "<class 'pandas.core.frame.DataFrame'>\n",
      "RangeIndex: 12000 entries, 0 to 11999\n",
      "Data columns (total 10 columns):\n",
      " #   Column                      Non-Null Count  Dtype  \n",
      "---  ------                      --------------  -----  \n",
      " 0   object_id                   12000 non-null  int64  \n",
      " 1   creation_time               12000 non-null  object \n",
      " 2   name                        12000 non-null  object \n",
      " 3   email                       12000 non-null  object \n",
      " 4   creation_source             12000 non-null  object \n",
      " 5   last_session_creation_time  8823 non-null   float64\n",
      " 6   opted_in_to_mailing_list    12000 non-null  int64  \n",
      " 7   enabled_for_marketing_drip  12000 non-null  int64  \n",
      " 8   org_id                      12000 non-null  int64  \n",
      " 9   invited_by_user_id          6417 non-null   float64\n",
      "dtypes: float64(2), int64(4), object(4)\n",
      "memory usage: 937.6+ KB\n"
     ]
    }
   ],
   "source": [
    "df_user.info()"
   ]
  },
  {
   "cell_type": "code",
   "execution_count": 9,
   "metadata": {},
   "outputs": [
    {
     "name": "stdout",
     "output_type": "stream",
     "text": [
      "creation_source ['GUEST_INVITE' 'ORG_INVITE' 'SIGNUP' 'PERSONAL_PROJECTS'\n",
      " 'SIGNUP_GOOGLE_AUTH']\n"
     ]
    }
   ],
   "source": [
    "#Visualizing the number of creation sources\n",
    "print(\"creation_source\",df_user.creation_source.unique())"
   ]
  },
  {
   "cell_type": "code",
   "execution_count": 10,
   "metadata": {},
   "outputs": [
    {
     "name": "stdout",
     "output_type": "stream",
     "text": [
      "[1 0]\n"
     ]
    }
   ],
   "source": [
    "#Visualizing the value in mailing list\n",
    "print(df_user.opted_in_to_mailing_list.unique())"
   ]
  },
  {
   "cell_type": "code",
   "execution_count": 11,
   "metadata": {},
   "outputs": [
    {
     "name": "stdout",
     "output_type": "stream",
     "text": [
      "[0 1]\n"
     ]
    }
   ],
   "source": [
    "#Visualizing the value in marketing drip\n",
    "print(df_user.enabled_for_marketing_drip.unique())\n"
   ]
  },
  {
   "cell_type": "code",
   "execution_count": 12,
   "metadata": {},
   "outputs": [
    {
     "name": "stdout",
     "output_type": "stream",
     "text": [
      "[ 11   1  94 193 197  37  74 302 318  69 130 254   0 175 211   2  58  54\n",
      "   7   6 123  81  56 134  92 251 283  98 401  33  59 109 276 208 332  64\n",
      " 235  63  14   4 127  32 224 304  61  51 229  88 325 150 347 203  21 409\n",
      " 215 141   5 107 184 310 367 389  89 242  68  16  49 185  91 172   8  43\n",
      " 249  26 139  70  10 252  53 119   3 196 335 375 303 307  25 370  83  27\n",
      " 306 118 295  19 301 100 112 263  39  12  86 402  42 103 373 268  30 406\n",
      "  48 313   9 138 261  35 264  95  55  60 234  28 410 170 374  15  17 364\n",
      "  62 244 342 225 121 255 411 217 165 415 104 329 278 116 151 290 200 187\n",
      " 122 353 135 328  36  13 341 349 198 153 108  77 142 275 176  87 191 102\n",
      " 245 154 218 385  76 321 159 371  50  75 333 137 292 286 131 178 213 376\n",
      " 366 192 300 316  52  40  79 398 336  20 269 147  47  18 382 365 188 144\n",
      "  45 343 231 338 311 340 334 163 156  84 110 285 380 148 272 414 237 129\n",
      " 346 362  82 282 152 331  71 160 105 221 171 361 136 143 164 413 128 273\n",
      " 352 327  31 394 162 289 381 319 205 320  29 222  22 262  99 271 412  93\n",
      " 368 356 179 309 120 330  65 296 339 236 383  41  44 186 405 274 169 281\n",
      " 117  73 126 372 395  96 258 189 181 256 174 291 106 265 190 214 226 344\n",
      " 284 158 399  80 239 114 201 157  78 210  72 209 132 326 146  97  46 195\n",
      " 266  23 305 299 297 253 250 345  24 194 161 358 207 227 149 177  38 322\n",
      " 267 223 113 351 288 317  67 280 125 228 238 133 270 115 202 293 386 216\n",
      " 219 337  66 246 298 350 204 357 354  57 259 124  85 248 312 404 277  90\n",
      " 408 390 314 377 359 220 308 241 111 168 294 140 180  34 101 145 387 166\n",
      " 260 391 400 324 212 369 247 182 240 199 243 279 233 379 155 397 230 315\n",
      " 363 407 388 167 232 392 348 287 384 173 323 355 206 183 360 257 378 403\n",
      " 393 396 416]\n",
      "417\n"
     ]
    }
   ],
   "source": [
    "#Visualizing the value in organization id\n",
    "print(df_user.org_id.unique())\n",
    "print(len(df_user.org_id.unique()))"
   ]
  },
  {
   "cell_type": "code",
   "execution_count": 13,
   "metadata": {},
   "outputs": [
    {
     "name": "stdout",
     "output_type": "stream",
     "text": [
      "[10803.   316.  1525. ...  5093. 11854.  5450.]\n",
      "2565\n"
     ]
    }
   ],
   "source": [
    "print(df_user.invited_by_user_id.unique() )\n",
    "print(len(df_user.invited_by_user_id.unique()) )"
   ]
  },
  {
   "cell_type": "markdown",
   "metadata": {},
   "source": [
    "## 1.2  Reading user engagement <a id='1.2_Reading user engagement'></a>"
   ]
  },
  {
   "cell_type": "code",
   "execution_count": 14,
   "metadata": {},
   "outputs": [],
   "source": [
    "df_engage=pd.read_csv(\"takehome_user_engagement.csv\")"
   ]
  },
  {
   "cell_type": "code",
   "execution_count": 15,
   "metadata": {},
   "outputs": [
    {
     "data": {
      "text/html": [
       "<div>\n",
       "<style scoped>\n",
       "    .dataframe tbody tr th:only-of-type {\n",
       "        vertical-align: middle;\n",
       "    }\n",
       "\n",
       "    .dataframe tbody tr th {\n",
       "        vertical-align: top;\n",
       "    }\n",
       "\n",
       "    .dataframe thead th {\n",
       "        text-align: right;\n",
       "    }\n",
       "</style>\n",
       "<table border=\"1\" class=\"dataframe\">\n",
       "  <thead>\n",
       "    <tr style=\"text-align: right;\">\n",
       "      <th></th>\n",
       "      <th>time_stamp</th>\n",
       "      <th>user_id</th>\n",
       "      <th>visited</th>\n",
       "    </tr>\n",
       "  </thead>\n",
       "  <tbody>\n",
       "    <tr>\n",
       "      <th>0</th>\n",
       "      <td>2014-04-22 03:53:30</td>\n",
       "      <td>1</td>\n",
       "      <td>1</td>\n",
       "    </tr>\n",
       "    <tr>\n",
       "      <th>1</th>\n",
       "      <td>2013-11-15 03:45:04</td>\n",
       "      <td>2</td>\n",
       "      <td>1</td>\n",
       "    </tr>\n",
       "    <tr>\n",
       "      <th>2</th>\n",
       "      <td>2013-11-29 03:45:04</td>\n",
       "      <td>2</td>\n",
       "      <td>1</td>\n",
       "    </tr>\n",
       "    <tr>\n",
       "      <th>3</th>\n",
       "      <td>2013-12-09 03:45:04</td>\n",
       "      <td>2</td>\n",
       "      <td>1</td>\n",
       "    </tr>\n",
       "    <tr>\n",
       "      <th>4</th>\n",
       "      <td>2013-12-25 03:45:04</td>\n",
       "      <td>2</td>\n",
       "      <td>1</td>\n",
       "    </tr>\n",
       "  </tbody>\n",
       "</table>\n",
       "</div>"
      ],
      "text/plain": [
       "            time_stamp  user_id  visited\n",
       "0  2014-04-22 03:53:30        1        1\n",
       "1  2013-11-15 03:45:04        2        1\n",
       "2  2013-11-29 03:45:04        2        1\n",
       "3  2013-12-09 03:45:04        2        1\n",
       "4  2013-12-25 03:45:04        2        1"
      ]
     },
     "execution_count": 15,
     "metadata": {},
     "output_type": "execute_result"
    }
   ],
   "source": [
    "df_engage.head()"
   ]
  },
  {
   "cell_type": "code",
   "execution_count": 16,
   "metadata": {},
   "outputs": [
    {
     "data": {
      "text/html": [
       "<div>\n",
       "<style scoped>\n",
       "    .dataframe tbody tr th:only-of-type {\n",
       "        vertical-align: middle;\n",
       "    }\n",
       "\n",
       "    .dataframe tbody tr th {\n",
       "        vertical-align: top;\n",
       "    }\n",
       "\n",
       "    .dataframe thead th {\n",
       "        text-align: right;\n",
       "    }\n",
       "</style>\n",
       "<table border=\"1\" class=\"dataframe\">\n",
       "  <thead>\n",
       "    <tr style=\"text-align: right;\">\n",
       "      <th></th>\n",
       "      <th>time_stamp</th>\n",
       "      <th>user_id</th>\n",
       "      <th>visited</th>\n",
       "    </tr>\n",
       "  </thead>\n",
       "  <tbody>\n",
       "    <tr>\n",
       "      <th>207912</th>\n",
       "      <td>2013-09-06 06:14:15</td>\n",
       "      <td>11996</td>\n",
       "      <td>1</td>\n",
       "    </tr>\n",
       "    <tr>\n",
       "      <th>207913</th>\n",
       "      <td>2013-01-15 18:28:37</td>\n",
       "      <td>11997</td>\n",
       "      <td>1</td>\n",
       "    </tr>\n",
       "    <tr>\n",
       "      <th>207914</th>\n",
       "      <td>2014-04-27 12:45:16</td>\n",
       "      <td>11998</td>\n",
       "      <td>1</td>\n",
       "    </tr>\n",
       "    <tr>\n",
       "      <th>207915</th>\n",
       "      <td>2012-06-02 11:55:59</td>\n",
       "      <td>11999</td>\n",
       "      <td>1</td>\n",
       "    </tr>\n",
       "    <tr>\n",
       "      <th>207916</th>\n",
       "      <td>2014-01-26 08:57:12</td>\n",
       "      <td>12000</td>\n",
       "      <td>1</td>\n",
       "    </tr>\n",
       "  </tbody>\n",
       "</table>\n",
       "</div>"
      ],
      "text/plain": [
       "                 time_stamp  user_id  visited\n",
       "207912  2013-09-06 06:14:15    11996        1\n",
       "207913  2013-01-15 18:28:37    11997        1\n",
       "207914  2014-04-27 12:45:16    11998        1\n",
       "207915  2012-06-02 11:55:59    11999        1\n",
       "207916  2014-01-26 08:57:12    12000        1"
      ]
     },
     "execution_count": 16,
     "metadata": {},
     "output_type": "execute_result"
    }
   ],
   "source": [
    "df_engage.tail()"
   ]
  },
  {
   "cell_type": "code",
   "execution_count": 17,
   "metadata": {},
   "outputs": [
    {
     "data": {
      "text/plain": [
       "(207917, 3)"
      ]
     },
     "execution_count": 17,
     "metadata": {},
     "output_type": "execute_result"
    }
   ],
   "source": [
    "df_engage.shape"
   ]
  },
  {
   "cell_type": "code",
   "execution_count": 18,
   "metadata": {},
   "outputs": [
    {
     "name": "stdout",
     "output_type": "stream",
     "text": [
      "<class 'pandas.core.frame.DataFrame'>\n",
      "RangeIndex: 207917 entries, 0 to 207916\n",
      "Data columns (total 3 columns):\n",
      " #   Column      Non-Null Count   Dtype \n",
      "---  ------      --------------   ----- \n",
      " 0   time_stamp  207917 non-null  object\n",
      " 1   user_id     207917 non-null  int64 \n",
      " 2   visited     207917 non-null  int64 \n",
      "dtypes: int64(2), object(1)\n",
      "memory usage: 4.8+ MB\n"
     ]
    }
   ],
   "source": [
    "df_engage.info()"
   ]
  },
  {
   "cell_type": "code",
   "execution_count": 19,
   "metadata": {},
   "outputs": [
    {
     "data": {
      "text/plain": [
       "time_stamp    0\n",
       "user_id       0\n",
       "visited       0\n",
       "dtype: int64"
      ]
     },
     "execution_count": 19,
     "metadata": {},
     "output_type": "execute_result"
    }
   ],
   "source": [
    "df_engage.isnull().sum()"
   ]
  },
  {
   "cell_type": "code",
   "execution_count": 20,
   "metadata": {},
   "outputs": [],
   "source": [
    "df_engage[\"time_stamp\"]=pd.to_datetime(df_engage.time_stamp)\n",
    "#df_engage['DateTime']=df_engage['time_stamp'].dt.strftime('%d/%m/%Y')\n",
    "#df_engage['DateTime']=pd.to_datetime(df_engage['DateTime'])\n",
    "#df_engage['Time']=df_engage['time_stamp'].dt.strftime('%H:%M')"
   ]
  },
  {
   "cell_type": "markdown",
   "metadata": {},
   "source": [
    "## 1.3  Identify adopted users <a id='1.3_Identify adopted users'></a>"
   ]
  },
  {
   "cell_type": "code",
   "execution_count": 21,
   "metadata": {},
   "outputs": [],
   "source": [
    "Total_user=df_user.shape[0]\n",
    "Adopted_user = np.zeros(Total_user)\n",
    "User_id_list = range(1,len(df_user.object_id))\n",
    "Total_log=np.zeros(Total_user)\n",
    "\n",
    "period=7\n",
    "min_log=3\n",
    "sevenday_period=pd.Timedelta(days=period)\n",
    "\n",
    "usersId=df_engage.user_id.unique()\n",
    "\n",
    "for i in usersId:\n",
    "#for i in [2]:\n",
    "    df_user_log=df_engage[df_engage.user_id==i].sort_values(by=\"time_stamp\")\n",
    "    total_user_log=df_user_log.shape[0]\n",
    "    Total_log[i-1]=total_user_log\n",
    "    \n",
    "    if (total_user_log>=min_log):\n",
    "        Date_log=df_user_log.time_stamp\n",
    "        frequent=False\n",
    "        for s in range(2,total_user_log):\n",
    "            log1=Date_log.iloc[s]\n",
    "            log2=Date_log.iloc[s-1]\n",
    "            diff1=(log1-log2)\n",
    "            #print(i,s,log2, log1, diff1) \n",
    "            if (diff1 <=sevenday_period) :\n",
    "                log2=Date_log.iloc[s-1]\n",
    "                log3=Date_log.iloc[s-2]\n",
    "                diff2=(log2-log3)\n",
    "                if (diff2 <=sevenday_period) : \n",
    "                    frequent=True\n",
    "                    #print(i,s,log3,log2, log1, diff1, diff2, frequent) \n",
    "                    Adopted_user[i-1]=1\n",
    "  \n",
    "                    break\n",
    "                \n",
    "    #if (frequent==False):\n",
    "    #    print(i,frequent)\n"
   ]
  },
  {
   "cell_type": "code",
   "execution_count": 22,
   "metadata": {},
   "outputs": [],
   "source": [
    "data_tuples=list(zip(User_id_list,Total_log, Adopted_user))\n",
    "df_adopted=pd.DataFrame(data_tuples, columns=['object_id','log_count','adopted'])\n",
    "#df_adopted(4)"
   ]
  },
  {
   "cell_type": "code",
   "execution_count": 23,
   "metadata": {},
   "outputs": [
    {
     "data": {
      "text/html": [
       "<div>\n",
       "<style scoped>\n",
       "    .dataframe tbody tr th:only-of-type {\n",
       "        vertical-align: middle;\n",
       "    }\n",
       "\n",
       "    .dataframe tbody tr th {\n",
       "        vertical-align: top;\n",
       "    }\n",
       "\n",
       "    .dataframe thead th {\n",
       "        text-align: right;\n",
       "    }\n",
       "</style>\n",
       "<table border=\"1\" class=\"dataframe\">\n",
       "  <thead>\n",
       "    <tr style=\"text-align: right;\">\n",
       "      <th></th>\n",
       "      <th>object_id</th>\n",
       "      <th>creation_time</th>\n",
       "      <th>name</th>\n",
       "      <th>email</th>\n",
       "      <th>creation_source</th>\n",
       "      <th>last_session_creation_time</th>\n",
       "      <th>opted_in_to_mailing_list</th>\n",
       "      <th>enabled_for_marketing_drip</th>\n",
       "      <th>org_id</th>\n",
       "      <th>invited_by_user_id</th>\n",
       "      <th>log_count</th>\n",
       "      <th>adopted</th>\n",
       "    </tr>\n",
       "  </thead>\n",
       "  <tbody>\n",
       "    <tr>\n",
       "      <th>0</th>\n",
       "      <td>1</td>\n",
       "      <td>2014-04-22 03:53:30</td>\n",
       "      <td>Clausen August</td>\n",
       "      <td>AugustCClausen@yahoo.com</td>\n",
       "      <td>GUEST_INVITE</td>\n",
       "      <td>1.398139e+09</td>\n",
       "      <td>1</td>\n",
       "      <td>0</td>\n",
       "      <td>11</td>\n",
       "      <td>10803.0</td>\n",
       "      <td>1.0</td>\n",
       "      <td>0.0</td>\n",
       "    </tr>\n",
       "    <tr>\n",
       "      <th>1</th>\n",
       "      <td>2</td>\n",
       "      <td>2013-11-15 03:45:04</td>\n",
       "      <td>Poole Matthew</td>\n",
       "      <td>MatthewPoole@gustr.com</td>\n",
       "      <td>ORG_INVITE</td>\n",
       "      <td>1.396238e+09</td>\n",
       "      <td>0</td>\n",
       "      <td>0</td>\n",
       "      <td>1</td>\n",
       "      <td>316.0</td>\n",
       "      <td>14.0</td>\n",
       "      <td>1.0</td>\n",
       "    </tr>\n",
       "    <tr>\n",
       "      <th>2</th>\n",
       "      <td>3</td>\n",
       "      <td>2013-03-19 23:14:52</td>\n",
       "      <td>Bottrill Mitchell</td>\n",
       "      <td>MitchellBottrill@gustr.com</td>\n",
       "      <td>ORG_INVITE</td>\n",
       "      <td>1.363735e+09</td>\n",
       "      <td>0</td>\n",
       "      <td>0</td>\n",
       "      <td>94</td>\n",
       "      <td>1525.0</td>\n",
       "      <td>1.0</td>\n",
       "      <td>0.0</td>\n",
       "    </tr>\n",
       "    <tr>\n",
       "      <th>3</th>\n",
       "      <td>4</td>\n",
       "      <td>2013-05-21 08:09:28</td>\n",
       "      <td>Clausen Nicklas</td>\n",
       "      <td>NicklasSClausen@yahoo.com</td>\n",
       "      <td>GUEST_INVITE</td>\n",
       "      <td>1.369210e+09</td>\n",
       "      <td>0</td>\n",
       "      <td>0</td>\n",
       "      <td>1</td>\n",
       "      <td>5151.0</td>\n",
       "      <td>1.0</td>\n",
       "      <td>0.0</td>\n",
       "    </tr>\n",
       "    <tr>\n",
       "      <th>4</th>\n",
       "      <td>5</td>\n",
       "      <td>2013-01-17 10:14:20</td>\n",
       "      <td>Raw Grace</td>\n",
       "      <td>GraceRaw@yahoo.com</td>\n",
       "      <td>GUEST_INVITE</td>\n",
       "      <td>1.358850e+09</td>\n",
       "      <td>0</td>\n",
       "      <td>0</td>\n",
       "      <td>193</td>\n",
       "      <td>5240.0</td>\n",
       "      <td>1.0</td>\n",
       "      <td>0.0</td>\n",
       "    </tr>\n",
       "    <tr>\n",
       "      <th>5</th>\n",
       "      <td>6</td>\n",
       "      <td>2013-12-17 03:37:06</td>\n",
       "      <td>Cunha Eduardo</td>\n",
       "      <td>EduardoPereiraCunha@yahoo.com</td>\n",
       "      <td>GUEST_INVITE</td>\n",
       "      <td>1.387424e+09</td>\n",
       "      <td>0</td>\n",
       "      <td>0</td>\n",
       "      <td>197</td>\n",
       "      <td>11241.0</td>\n",
       "      <td>1.0</td>\n",
       "      <td>0.0</td>\n",
       "    </tr>\n",
       "    <tr>\n",
       "      <th>6</th>\n",
       "      <td>7</td>\n",
       "      <td>2012-12-16 13:24:32</td>\n",
       "      <td>Sewell Tyler</td>\n",
       "      <td>TylerSewell@jourrapide.com</td>\n",
       "      <td>SIGNUP</td>\n",
       "      <td>1.356010e+09</td>\n",
       "      <td>0</td>\n",
       "      <td>1</td>\n",
       "      <td>37</td>\n",
       "      <td>NaN</td>\n",
       "      <td>1.0</td>\n",
       "      <td>0.0</td>\n",
       "    </tr>\n",
       "    <tr>\n",
       "      <th>7</th>\n",
       "      <td>8</td>\n",
       "      <td>2013-07-31 05:34:02</td>\n",
       "      <td>Hamilton Danielle</td>\n",
       "      <td>DanielleHamilton@yahoo.com</td>\n",
       "      <td>PERSONAL_PROJECTS</td>\n",
       "      <td>NaN</td>\n",
       "      <td>1</td>\n",
       "      <td>1</td>\n",
       "      <td>74</td>\n",
       "      <td>NaN</td>\n",
       "      <td>0.0</td>\n",
       "      <td>0.0</td>\n",
       "    </tr>\n",
       "    <tr>\n",
       "      <th>8</th>\n",
       "      <td>9</td>\n",
       "      <td>2013-11-05 04:04:24</td>\n",
       "      <td>Amsel Paul</td>\n",
       "      <td>PaulAmsel@hotmail.com</td>\n",
       "      <td>PERSONAL_PROJECTS</td>\n",
       "      <td>NaN</td>\n",
       "      <td>0</td>\n",
       "      <td>0</td>\n",
       "      <td>302</td>\n",
       "      <td>NaN</td>\n",
       "      <td>0.0</td>\n",
       "      <td>0.0</td>\n",
       "    </tr>\n",
       "    <tr>\n",
       "      <th>9</th>\n",
       "      <td>10</td>\n",
       "      <td>2013-01-16 22:08:03</td>\n",
       "      <td>Santos Carla</td>\n",
       "      <td>CarlaFerreiraSantos@gustr.com</td>\n",
       "      <td>ORG_INVITE</td>\n",
       "      <td>1.401833e+09</td>\n",
       "      <td>1</td>\n",
       "      <td>1</td>\n",
       "      <td>318</td>\n",
       "      <td>4143.0</td>\n",
       "      <td>284.0</td>\n",
       "      <td>1.0</td>\n",
       "    </tr>\n",
       "    <tr>\n",
       "      <th>10</th>\n",
       "      <td>11</td>\n",
       "      <td>2013-12-26 03:55:54</td>\n",
       "      <td>Paulsen Malthe</td>\n",
       "      <td>MaltheAPaulsen@gustr.com</td>\n",
       "      <td>SIGNUP</td>\n",
       "      <td>1.388117e+09</td>\n",
       "      <td>0</td>\n",
       "      <td>0</td>\n",
       "      <td>69</td>\n",
       "      <td>NaN</td>\n",
       "      <td>1.0</td>\n",
       "      <td>0.0</td>\n",
       "    </tr>\n",
       "    <tr>\n",
       "      <th>11</th>\n",
       "      <td>12</td>\n",
       "      <td>2014-04-17 23:48:38</td>\n",
       "      <td>Mathiesen Lærke</td>\n",
       "      <td>LaerkeLMathiesen@cuvox.de</td>\n",
       "      <td>ORG_INVITE</td>\n",
       "      <td>NaN</td>\n",
       "      <td>0</td>\n",
       "      <td>0</td>\n",
       "      <td>130</td>\n",
       "      <td>9270.0</td>\n",
       "      <td>0.0</td>\n",
       "      <td>0.0</td>\n",
       "    </tr>\n",
       "    <tr>\n",
       "      <th>12</th>\n",
       "      <td>13</td>\n",
       "      <td>2014-03-30 16:19:38</td>\n",
       "      <td>Fry Alexander</td>\n",
       "      <td>AlexanderDFry@cuvox.de</td>\n",
       "      <td>ORG_INVITE</td>\n",
       "      <td>1.396196e+09</td>\n",
       "      <td>0</td>\n",
       "      <td>0</td>\n",
       "      <td>254</td>\n",
       "      <td>11204.0</td>\n",
       "      <td>1.0</td>\n",
       "      <td>0.0</td>\n",
       "    </tr>\n",
       "    <tr>\n",
       "      <th>13</th>\n",
       "      <td>14</td>\n",
       "      <td>2012-10-11 16:14:33</td>\n",
       "      <td>Rivera Bret</td>\n",
       "      <td>BretKRivera@gmail.com</td>\n",
       "      <td>SIGNUP</td>\n",
       "      <td>1.350058e+09</td>\n",
       "      <td>0</td>\n",
       "      <td>0</td>\n",
       "      <td>0</td>\n",
       "      <td>NaN</td>\n",
       "      <td>1.0</td>\n",
       "      <td>0.0</td>\n",
       "    </tr>\n",
       "    <tr>\n",
       "      <th>14</th>\n",
       "      <td>15</td>\n",
       "      <td>2013-07-16 21:33:54</td>\n",
       "      <td>Theiss Ralf</td>\n",
       "      <td>RalfTheiss@hotmail.com</td>\n",
       "      <td>PERSONAL_PROJECTS</td>\n",
       "      <td>NaN</td>\n",
       "      <td>0</td>\n",
       "      <td>0</td>\n",
       "      <td>175</td>\n",
       "      <td>NaN</td>\n",
       "      <td>0.0</td>\n",
       "      <td>0.0</td>\n",
       "    </tr>\n",
       "  </tbody>\n",
       "</table>\n",
       "</div>"
      ],
      "text/plain": [
       "    object_id        creation_time               name  \\\n",
       "0           1  2014-04-22 03:53:30     Clausen August   \n",
       "1           2  2013-11-15 03:45:04      Poole Matthew   \n",
       "2           3  2013-03-19 23:14:52  Bottrill Mitchell   \n",
       "3           4  2013-05-21 08:09:28    Clausen Nicklas   \n",
       "4           5  2013-01-17 10:14:20          Raw Grace   \n",
       "5           6  2013-12-17 03:37:06      Cunha Eduardo   \n",
       "6           7  2012-12-16 13:24:32       Sewell Tyler   \n",
       "7           8  2013-07-31 05:34:02  Hamilton Danielle   \n",
       "8           9  2013-11-05 04:04:24         Amsel Paul   \n",
       "9          10  2013-01-16 22:08:03       Santos Carla   \n",
       "10         11  2013-12-26 03:55:54     Paulsen Malthe   \n",
       "11         12  2014-04-17 23:48:38    Mathiesen Lærke   \n",
       "12         13  2014-03-30 16:19:38      Fry Alexander   \n",
       "13         14  2012-10-11 16:14:33        Rivera Bret   \n",
       "14         15  2013-07-16 21:33:54        Theiss Ralf   \n",
       "\n",
       "                            email    creation_source  \\\n",
       "0        AugustCClausen@yahoo.com       GUEST_INVITE   \n",
       "1          MatthewPoole@gustr.com         ORG_INVITE   \n",
       "2      MitchellBottrill@gustr.com         ORG_INVITE   \n",
       "3       NicklasSClausen@yahoo.com       GUEST_INVITE   \n",
       "4              GraceRaw@yahoo.com       GUEST_INVITE   \n",
       "5   EduardoPereiraCunha@yahoo.com       GUEST_INVITE   \n",
       "6      TylerSewell@jourrapide.com             SIGNUP   \n",
       "7      DanielleHamilton@yahoo.com  PERSONAL_PROJECTS   \n",
       "8           PaulAmsel@hotmail.com  PERSONAL_PROJECTS   \n",
       "9   CarlaFerreiraSantos@gustr.com         ORG_INVITE   \n",
       "10       MaltheAPaulsen@gustr.com             SIGNUP   \n",
       "11      LaerkeLMathiesen@cuvox.de         ORG_INVITE   \n",
       "12         AlexanderDFry@cuvox.de         ORG_INVITE   \n",
       "13          BretKRivera@gmail.com             SIGNUP   \n",
       "14         RalfTheiss@hotmail.com  PERSONAL_PROJECTS   \n",
       "\n",
       "    last_session_creation_time  opted_in_to_mailing_list  \\\n",
       "0                 1.398139e+09                         1   \n",
       "1                 1.396238e+09                         0   \n",
       "2                 1.363735e+09                         0   \n",
       "3                 1.369210e+09                         0   \n",
       "4                 1.358850e+09                         0   \n",
       "5                 1.387424e+09                         0   \n",
       "6                 1.356010e+09                         0   \n",
       "7                          NaN                         1   \n",
       "8                          NaN                         0   \n",
       "9                 1.401833e+09                         1   \n",
       "10                1.388117e+09                         0   \n",
       "11                         NaN                         0   \n",
       "12                1.396196e+09                         0   \n",
       "13                1.350058e+09                         0   \n",
       "14                         NaN                         0   \n",
       "\n",
       "    enabled_for_marketing_drip  org_id  invited_by_user_id  log_count  adopted  \n",
       "0                            0      11             10803.0        1.0      0.0  \n",
       "1                            0       1               316.0       14.0      1.0  \n",
       "2                            0      94              1525.0        1.0      0.0  \n",
       "3                            0       1              5151.0        1.0      0.0  \n",
       "4                            0     193              5240.0        1.0      0.0  \n",
       "5                            0     197             11241.0        1.0      0.0  \n",
       "6                            1      37                 NaN        1.0      0.0  \n",
       "7                            1      74                 NaN        0.0      0.0  \n",
       "8                            0     302                 NaN        0.0      0.0  \n",
       "9                            1     318              4143.0      284.0      1.0  \n",
       "10                           0      69                 NaN        1.0      0.0  \n",
       "11                           0     130              9270.0        0.0      0.0  \n",
       "12                           0     254             11204.0        1.0      0.0  \n",
       "13                           0       0                 NaN        1.0      0.0  \n",
       "14                           0     175                 NaN        0.0      0.0  "
      ]
     },
     "execution_count": 23,
     "metadata": {},
     "output_type": "execute_result"
    }
   ],
   "source": [
    "df=df_user.merge(df_adopted, on = 'object_id')\n",
    "df.head(15)"
   ]
  },
  {
   "cell_type": "markdown",
   "metadata": {},
   "source": [
    "## 1.4  Generate additional features replacing missing values <a id='1.4_Generate additional features replacing missing values'></a>"
   ]
  },
  {
   "cell_type": "code",
   "execution_count": 24,
   "metadata": {},
   "outputs": [
    {
     "data": {
      "text/html": [
       "<div>\n",
       "<style scoped>\n",
       "    .dataframe tbody tr th:only-of-type {\n",
       "        vertical-align: middle;\n",
       "    }\n",
       "\n",
       "    .dataframe tbody tr th {\n",
       "        vertical-align: top;\n",
       "    }\n",
       "\n",
       "    .dataframe thead th {\n",
       "        text-align: right;\n",
       "    }\n",
       "</style>\n",
       "<table border=\"1\" class=\"dataframe\">\n",
       "  <thead>\n",
       "    <tr style=\"text-align: right;\">\n",
       "      <th></th>\n",
       "      <th>object_id</th>\n",
       "      <th>creation_time</th>\n",
       "      <th>name</th>\n",
       "      <th>email</th>\n",
       "      <th>creation_source</th>\n",
       "      <th>last_session_creation_time</th>\n",
       "      <th>opted_in_to_mailing_list</th>\n",
       "      <th>enabled_for_marketing_drip</th>\n",
       "      <th>org_id</th>\n",
       "      <th>invited_by_user_id</th>\n",
       "      <th>log_count</th>\n",
       "      <th>adopted</th>\n",
       "      <th>creation_time_utc</th>\n",
       "      <th>delta_last_creation</th>\n",
       "      <th>delta_creation</th>\n",
       "      <th>delta_login</th>\n",
       "    </tr>\n",
       "  </thead>\n",
       "  <tbody>\n",
       "    <tr>\n",
       "      <th>0</th>\n",
       "      <td>1</td>\n",
       "      <td>2014-04-22 03:53:30</td>\n",
       "      <td>Clausen August</td>\n",
       "      <td>AugustCClausen@yahoo.com</td>\n",
       "      <td>GUEST_INVITE</td>\n",
       "      <td>1.398139e+09</td>\n",
       "      <td>1</td>\n",
       "      <td>0</td>\n",
       "      <td>11</td>\n",
       "      <td>10803.0</td>\n",
       "      <td>1.0</td>\n",
       "      <td>0.0</td>\n",
       "      <td>1.398139e+09</td>\n",
       "      <td>0.0</td>\n",
       "      <td>225126915.0</td>\n",
       "      <td>225126915.0</td>\n",
       "    </tr>\n",
       "    <tr>\n",
       "      <th>1</th>\n",
       "      <td>2</td>\n",
       "      <td>2013-11-15 03:45:04</td>\n",
       "      <td>Poole Matthew</td>\n",
       "      <td>MatthewPoole@gustr.com</td>\n",
       "      <td>ORG_INVITE</td>\n",
       "      <td>1.396238e+09</td>\n",
       "      <td>0</td>\n",
       "      <td>0</td>\n",
       "      <td>1</td>\n",
       "      <td>316.0</td>\n",
       "      <td>14.0</td>\n",
       "      <td>1.0</td>\n",
       "      <td>1.384487e+09</td>\n",
       "      <td>11750400.0</td>\n",
       "      <td>238778621.0</td>\n",
       "      <td>227028221.0</td>\n",
       "    </tr>\n",
       "    <tr>\n",
       "      <th>2</th>\n",
       "      <td>3</td>\n",
       "      <td>2013-03-19 23:14:52</td>\n",
       "      <td>Bottrill Mitchell</td>\n",
       "      <td>MitchellBottrill@gustr.com</td>\n",
       "      <td>ORG_INVITE</td>\n",
       "      <td>1.363735e+09</td>\n",
       "      <td>0</td>\n",
       "      <td>0</td>\n",
       "      <td>94</td>\n",
       "      <td>1525.0</td>\n",
       "      <td>1.0</td>\n",
       "      <td>0.0</td>\n",
       "      <td>1.363735e+09</td>\n",
       "      <td>0.0</td>\n",
       "      <td>259530833.0</td>\n",
       "      <td>259530833.0</td>\n",
       "    </tr>\n",
       "    <tr>\n",
       "      <th>3</th>\n",
       "      <td>4</td>\n",
       "      <td>2013-05-21 08:09:28</td>\n",
       "      <td>Clausen Nicklas</td>\n",
       "      <td>NicklasSClausen@yahoo.com</td>\n",
       "      <td>GUEST_INVITE</td>\n",
       "      <td>1.369210e+09</td>\n",
       "      <td>0</td>\n",
       "      <td>0</td>\n",
       "      <td>1</td>\n",
       "      <td>5151.0</td>\n",
       "      <td>1.0</td>\n",
       "      <td>0.0</td>\n",
       "      <td>1.369124e+09</td>\n",
       "      <td>86400.0</td>\n",
       "      <td>254141957.0</td>\n",
       "      <td>254055557.0</td>\n",
       "    </tr>\n",
       "    <tr>\n",
       "      <th>4</th>\n",
       "      <td>5</td>\n",
       "      <td>2013-01-17 10:14:20</td>\n",
       "      <td>Raw Grace</td>\n",
       "      <td>GraceRaw@yahoo.com</td>\n",
       "      <td>GUEST_INVITE</td>\n",
       "      <td>1.358850e+09</td>\n",
       "      <td>0</td>\n",
       "      <td>0</td>\n",
       "      <td>193</td>\n",
       "      <td>5240.0</td>\n",
       "      <td>1.0</td>\n",
       "      <td>0.0</td>\n",
       "      <td>1.358418e+09</td>\n",
       "      <td>432000.0</td>\n",
       "      <td>264848065.0</td>\n",
       "      <td>264416065.0</td>\n",
       "    </tr>\n",
       "    <tr>\n",
       "      <th>5</th>\n",
       "      <td>6</td>\n",
       "      <td>2013-12-17 03:37:06</td>\n",
       "      <td>Cunha Eduardo</td>\n",
       "      <td>EduardoPereiraCunha@yahoo.com</td>\n",
       "      <td>GUEST_INVITE</td>\n",
       "      <td>1.387424e+09</td>\n",
       "      <td>0</td>\n",
       "      <td>0</td>\n",
       "      <td>197</td>\n",
       "      <td>11241.0</td>\n",
       "      <td>1.0</td>\n",
       "      <td>0.0</td>\n",
       "      <td>1.387251e+09</td>\n",
       "      <td>172800.0</td>\n",
       "      <td>236014299.0</td>\n",
       "      <td>235841499.0</td>\n",
       "    </tr>\n",
       "    <tr>\n",
       "      <th>6</th>\n",
       "      <td>7</td>\n",
       "      <td>2012-12-16 13:24:32</td>\n",
       "      <td>Sewell Tyler</td>\n",
       "      <td>TylerSewell@jourrapide.com</td>\n",
       "      <td>SIGNUP</td>\n",
       "      <td>1.356010e+09</td>\n",
       "      <td>0</td>\n",
       "      <td>1</td>\n",
       "      <td>37</td>\n",
       "      <td>NaN</td>\n",
       "      <td>1.0</td>\n",
       "      <td>0.0</td>\n",
       "      <td>1.355664e+09</td>\n",
       "      <td>345600.0</td>\n",
       "      <td>267601453.0</td>\n",
       "      <td>267255853.0</td>\n",
       "    </tr>\n",
       "    <tr>\n",
       "      <th>7</th>\n",
       "      <td>8</td>\n",
       "      <td>2013-07-31 05:34:02</td>\n",
       "      <td>Hamilton Danielle</td>\n",
       "      <td>DanielleHamilton@yahoo.com</td>\n",
       "      <td>PERSONAL_PROJECTS</td>\n",
       "      <td>1.375249e+09</td>\n",
       "      <td>1</td>\n",
       "      <td>1</td>\n",
       "      <td>74</td>\n",
       "      <td>NaN</td>\n",
       "      <td>0.0</td>\n",
       "      <td>0.0</td>\n",
       "      <td>1.375249e+09</td>\n",
       "      <td>0.0</td>\n",
       "      <td>248016883.0</td>\n",
       "      <td>248016883.0</td>\n",
       "    </tr>\n",
       "    <tr>\n",
       "      <th>8</th>\n",
       "      <td>9</td>\n",
       "      <td>2013-11-05 04:04:24</td>\n",
       "      <td>Amsel Paul</td>\n",
       "      <td>PaulAmsel@hotmail.com</td>\n",
       "      <td>PERSONAL_PROJECTS</td>\n",
       "      <td>1.383624e+09</td>\n",
       "      <td>0</td>\n",
       "      <td>0</td>\n",
       "      <td>302</td>\n",
       "      <td>NaN</td>\n",
       "      <td>0.0</td>\n",
       "      <td>0.0</td>\n",
       "      <td>1.383624e+09</td>\n",
       "      <td>0.0</td>\n",
       "      <td>239641461.0</td>\n",
       "      <td>239641461.0</td>\n",
       "    </tr>\n",
       "    <tr>\n",
       "      <th>9</th>\n",
       "      <td>10</td>\n",
       "      <td>2013-01-16 22:08:03</td>\n",
       "      <td>Santos Carla</td>\n",
       "      <td>CarlaFerreiraSantos@gustr.com</td>\n",
       "      <td>ORG_INVITE</td>\n",
       "      <td>1.401833e+09</td>\n",
       "      <td>1</td>\n",
       "      <td>1</td>\n",
       "      <td>318</td>\n",
       "      <td>4143.0</td>\n",
       "      <td>284.0</td>\n",
       "      <td>1.0</td>\n",
       "      <td>1.358374e+09</td>\n",
       "      <td>43459200.0</td>\n",
       "      <td>264891642.0</td>\n",
       "      <td>221432442.0</td>\n",
       "    </tr>\n",
       "    <tr>\n",
       "      <th>10</th>\n",
       "      <td>11</td>\n",
       "      <td>2013-12-26 03:55:54</td>\n",
       "      <td>Paulsen Malthe</td>\n",
       "      <td>MaltheAPaulsen@gustr.com</td>\n",
       "      <td>SIGNUP</td>\n",
       "      <td>1.388117e+09</td>\n",
       "      <td>0</td>\n",
       "      <td>0</td>\n",
       "      <td>69</td>\n",
       "      <td>NaN</td>\n",
       "      <td>1.0</td>\n",
       "      <td>0.0</td>\n",
       "      <td>1.388030e+09</td>\n",
       "      <td>86400.0</td>\n",
       "      <td>235235571.0</td>\n",
       "      <td>235149171.0</td>\n",
       "    </tr>\n",
       "    <tr>\n",
       "      <th>11</th>\n",
       "      <td>12</td>\n",
       "      <td>2014-04-17 23:48:38</td>\n",
       "      <td>Mathiesen Lærke</td>\n",
       "      <td>LaerkeLMathiesen@cuvox.de</td>\n",
       "      <td>ORG_INVITE</td>\n",
       "      <td>1.397779e+09</td>\n",
       "      <td>0</td>\n",
       "      <td>0</td>\n",
       "      <td>130</td>\n",
       "      <td>9270.0</td>\n",
       "      <td>0.0</td>\n",
       "      <td>0.0</td>\n",
       "      <td>1.397779e+09</td>\n",
       "      <td>0.0</td>\n",
       "      <td>225487207.0</td>\n",
       "      <td>225487207.0</td>\n",
       "    </tr>\n",
       "    <tr>\n",
       "      <th>12</th>\n",
       "      <td>13</td>\n",
       "      <td>2014-03-30 16:19:38</td>\n",
       "      <td>Fry Alexander</td>\n",
       "      <td>AlexanderDFry@cuvox.de</td>\n",
       "      <td>ORG_INVITE</td>\n",
       "      <td>1.396196e+09</td>\n",
       "      <td>0</td>\n",
       "      <td>0</td>\n",
       "      <td>254</td>\n",
       "      <td>11204.0</td>\n",
       "      <td>1.0</td>\n",
       "      <td>0.0</td>\n",
       "      <td>1.396196e+09</td>\n",
       "      <td>0.0</td>\n",
       "      <td>227069347.0</td>\n",
       "      <td>227069347.0</td>\n",
       "    </tr>\n",
       "    <tr>\n",
       "      <th>13</th>\n",
       "      <td>14</td>\n",
       "      <td>2012-10-11 16:14:33</td>\n",
       "      <td>Rivera Bret</td>\n",
       "      <td>BretKRivera@gmail.com</td>\n",
       "      <td>SIGNUP</td>\n",
       "      <td>1.350058e+09</td>\n",
       "      <td>0</td>\n",
       "      <td>0</td>\n",
       "      <td>0</td>\n",
       "      <td>NaN</td>\n",
       "      <td>1.0</td>\n",
       "      <td>0.0</td>\n",
       "      <td>1.349972e+09</td>\n",
       "      <td>86400.0</td>\n",
       "      <td>273293652.0</td>\n",
       "      <td>273207252.0</td>\n",
       "    </tr>\n",
       "    <tr>\n",
       "      <th>14</th>\n",
       "      <td>15</td>\n",
       "      <td>2013-07-16 21:33:54</td>\n",
       "      <td>Theiss Ralf</td>\n",
       "      <td>RalfTheiss@hotmail.com</td>\n",
       "      <td>PERSONAL_PROJECTS</td>\n",
       "      <td>1.374010e+09</td>\n",
       "      <td>0</td>\n",
       "      <td>0</td>\n",
       "      <td>175</td>\n",
       "      <td>NaN</td>\n",
       "      <td>0.0</td>\n",
       "      <td>0.0</td>\n",
       "      <td>1.374010e+09</td>\n",
       "      <td>0.0</td>\n",
       "      <td>249255291.0</td>\n",
       "      <td>249255291.0</td>\n",
       "    </tr>\n",
       "  </tbody>\n",
       "</table>\n",
       "</div>"
      ],
      "text/plain": [
       "    object_id       creation_time               name  \\\n",
       "0           1 2014-04-22 03:53:30     Clausen August   \n",
       "1           2 2013-11-15 03:45:04      Poole Matthew   \n",
       "2           3 2013-03-19 23:14:52  Bottrill Mitchell   \n",
       "3           4 2013-05-21 08:09:28    Clausen Nicklas   \n",
       "4           5 2013-01-17 10:14:20          Raw Grace   \n",
       "5           6 2013-12-17 03:37:06      Cunha Eduardo   \n",
       "6           7 2012-12-16 13:24:32       Sewell Tyler   \n",
       "7           8 2013-07-31 05:34:02  Hamilton Danielle   \n",
       "8           9 2013-11-05 04:04:24         Amsel Paul   \n",
       "9          10 2013-01-16 22:08:03       Santos Carla   \n",
       "10         11 2013-12-26 03:55:54     Paulsen Malthe   \n",
       "11         12 2014-04-17 23:48:38    Mathiesen Lærke   \n",
       "12         13 2014-03-30 16:19:38      Fry Alexander   \n",
       "13         14 2012-10-11 16:14:33        Rivera Bret   \n",
       "14         15 2013-07-16 21:33:54        Theiss Ralf   \n",
       "\n",
       "                            email    creation_source  \\\n",
       "0        AugustCClausen@yahoo.com       GUEST_INVITE   \n",
       "1          MatthewPoole@gustr.com         ORG_INVITE   \n",
       "2      MitchellBottrill@gustr.com         ORG_INVITE   \n",
       "3       NicklasSClausen@yahoo.com       GUEST_INVITE   \n",
       "4              GraceRaw@yahoo.com       GUEST_INVITE   \n",
       "5   EduardoPereiraCunha@yahoo.com       GUEST_INVITE   \n",
       "6      TylerSewell@jourrapide.com             SIGNUP   \n",
       "7      DanielleHamilton@yahoo.com  PERSONAL_PROJECTS   \n",
       "8           PaulAmsel@hotmail.com  PERSONAL_PROJECTS   \n",
       "9   CarlaFerreiraSantos@gustr.com         ORG_INVITE   \n",
       "10       MaltheAPaulsen@gustr.com             SIGNUP   \n",
       "11      LaerkeLMathiesen@cuvox.de         ORG_INVITE   \n",
       "12         AlexanderDFry@cuvox.de         ORG_INVITE   \n",
       "13          BretKRivera@gmail.com             SIGNUP   \n",
       "14         RalfTheiss@hotmail.com  PERSONAL_PROJECTS   \n",
       "\n",
       "    last_session_creation_time  opted_in_to_mailing_list  \\\n",
       "0                 1.398139e+09                         1   \n",
       "1                 1.396238e+09                         0   \n",
       "2                 1.363735e+09                         0   \n",
       "3                 1.369210e+09                         0   \n",
       "4                 1.358850e+09                         0   \n",
       "5                 1.387424e+09                         0   \n",
       "6                 1.356010e+09                         0   \n",
       "7                 1.375249e+09                         1   \n",
       "8                 1.383624e+09                         0   \n",
       "9                 1.401833e+09                         1   \n",
       "10                1.388117e+09                         0   \n",
       "11                1.397779e+09                         0   \n",
       "12                1.396196e+09                         0   \n",
       "13                1.350058e+09                         0   \n",
       "14                1.374010e+09                         0   \n",
       "\n",
       "    enabled_for_marketing_drip  org_id  invited_by_user_id  log_count  \\\n",
       "0                            0      11             10803.0        1.0   \n",
       "1                            0       1               316.0       14.0   \n",
       "2                            0      94              1525.0        1.0   \n",
       "3                            0       1              5151.0        1.0   \n",
       "4                            0     193              5240.0        1.0   \n",
       "5                            0     197             11241.0        1.0   \n",
       "6                            1      37                 NaN        1.0   \n",
       "7                            1      74                 NaN        0.0   \n",
       "8                            0     302                 NaN        0.0   \n",
       "9                            1     318              4143.0      284.0   \n",
       "10                           0      69                 NaN        1.0   \n",
       "11                           0     130              9270.0        0.0   \n",
       "12                           0     254             11204.0        1.0   \n",
       "13                           0       0                 NaN        1.0   \n",
       "14                           0     175                 NaN        0.0   \n",
       "\n",
       "    adopted  creation_time_utc  delta_last_creation  delta_creation  \\\n",
       "0       0.0       1.398139e+09                  0.0     225126915.0   \n",
       "1       1.0       1.384487e+09           11750400.0     238778621.0   \n",
       "2       0.0       1.363735e+09                  0.0     259530833.0   \n",
       "3       0.0       1.369124e+09              86400.0     254141957.0   \n",
       "4       0.0       1.358418e+09             432000.0     264848065.0   \n",
       "5       0.0       1.387251e+09             172800.0     236014299.0   \n",
       "6       0.0       1.355664e+09             345600.0     267601453.0   \n",
       "7       0.0       1.375249e+09                  0.0     248016883.0   \n",
       "8       0.0       1.383624e+09                  0.0     239641461.0   \n",
       "9       1.0       1.358374e+09           43459200.0     264891642.0   \n",
       "10      0.0       1.388030e+09              86400.0     235235571.0   \n",
       "11      0.0       1.397779e+09                  0.0     225487207.0   \n",
       "12      0.0       1.396196e+09                  0.0     227069347.0   \n",
       "13      0.0       1.349972e+09              86400.0     273293652.0   \n",
       "14      0.0       1.374010e+09                  0.0     249255291.0   \n",
       "\n",
       "    delta_login  \n",
       "0   225126915.0  \n",
       "1   227028221.0  \n",
       "2   259530833.0  \n",
       "3   254055557.0  \n",
       "4   264416065.0  \n",
       "5   235841499.0  \n",
       "6   267255853.0  \n",
       "7   248016883.0  \n",
       "8   239641461.0  \n",
       "9   221432442.0  \n",
       "10  235149171.0  \n",
       "11  225487207.0  \n",
       "12  227069347.0  \n",
       "13  273207252.0  \n",
       "14  249255291.0  "
      ]
     },
     "execution_count": 24,
     "metadata": {},
     "output_type": "execute_result"
    }
   ],
   "source": [
    "#addition of new features\n",
    "df[\"creation_time\"]=pd.to_datetime(df.creation_time)\n",
    "df[\"creation_time_utc\"]=(df.creation_time - pd.to_datetime('1970-01-01')).dt.total_seconds()\n",
    "\n",
    "#Replace mission values in last session\n",
    "df.last_session_creation_time.fillna(df.creation_time_utc,inplace=True)  #if account is created but never log in replace with creation time\n",
    "\n",
    "#account creation to last login\n",
    "df['delta_last_creation']=df[\"last_session_creation_time\"]-df[\"creation_time_utc\"]\n",
    "\n",
    "#current time\n",
    "current_time=int(time.time())\n",
    "\n",
    "\n",
    "#account creation from current time\n",
    "df['delta_creation']=current_time-df[\"creation_time_utc\"]\n",
    "df['delta_login']=current_time-df[\"last_session_creation_time\"]\n",
    "df.head(15)\n",
    "\n"
   ]
  },
  {
   "cell_type": "code",
   "execution_count": 25,
   "metadata": {},
   "outputs": [
    {
     "data": {
      "text/html": [
       "<div>\n",
       "<style scoped>\n",
       "    .dataframe tbody tr th:only-of-type {\n",
       "        vertical-align: middle;\n",
       "    }\n",
       "\n",
       "    .dataframe tbody tr th {\n",
       "        vertical-align: top;\n",
       "    }\n",
       "\n",
       "    .dataframe thead th {\n",
       "        text-align: right;\n",
       "    }\n",
       "</style>\n",
       "<table border=\"1\" class=\"dataframe\">\n",
       "  <thead>\n",
       "    <tr style=\"text-align: right;\">\n",
       "      <th></th>\n",
       "      <th>object_id</th>\n",
       "      <th>creation_time</th>\n",
       "      <th>name</th>\n",
       "      <th>email</th>\n",
       "      <th>creation_source</th>\n",
       "      <th>last_session_creation_time</th>\n",
       "      <th>opted_in_to_mailing_list</th>\n",
       "      <th>enabled_for_marketing_drip</th>\n",
       "      <th>org_id</th>\n",
       "      <th>invited_by_user_id</th>\n",
       "      <th>log_count</th>\n",
       "      <th>adopted</th>\n",
       "      <th>creation_time_utc</th>\n",
       "      <th>delta_last_creation</th>\n",
       "      <th>delta_creation</th>\n",
       "      <th>delta_login</th>\n",
       "    </tr>\n",
       "  </thead>\n",
       "  <tbody>\n",
       "    <tr>\n",
       "      <th>0</th>\n",
       "      <td>1</td>\n",
       "      <td>2014-04-22 03:53:30</td>\n",
       "      <td>Clausen August</td>\n",
       "      <td>AugustCClausen@yahoo.com</td>\n",
       "      <td>GUEST_INVITE</td>\n",
       "      <td>1.398139e+09</td>\n",
       "      <td>1</td>\n",
       "      <td>0</td>\n",
       "      <td>11</td>\n",
       "      <td>10803.0</td>\n",
       "      <td>1.0</td>\n",
       "      <td>0.0</td>\n",
       "      <td>1.398139e+09</td>\n",
       "      <td>0.0</td>\n",
       "      <td>225126915.0</td>\n",
       "      <td>225126915.0</td>\n",
       "    </tr>\n",
       "    <tr>\n",
       "      <th>1</th>\n",
       "      <td>2</td>\n",
       "      <td>2013-11-15 03:45:04</td>\n",
       "      <td>Poole Matthew</td>\n",
       "      <td>MatthewPoole@gustr.com</td>\n",
       "      <td>ORG_INVITE</td>\n",
       "      <td>1.396238e+09</td>\n",
       "      <td>0</td>\n",
       "      <td>0</td>\n",
       "      <td>1</td>\n",
       "      <td>316.0</td>\n",
       "      <td>14.0</td>\n",
       "      <td>1.0</td>\n",
       "      <td>1.384487e+09</td>\n",
       "      <td>11750400.0</td>\n",
       "      <td>238778621.0</td>\n",
       "      <td>227028221.0</td>\n",
       "    </tr>\n",
       "    <tr>\n",
       "      <th>2</th>\n",
       "      <td>3</td>\n",
       "      <td>2013-03-19 23:14:52</td>\n",
       "      <td>Bottrill Mitchell</td>\n",
       "      <td>MitchellBottrill@gustr.com</td>\n",
       "      <td>ORG_INVITE</td>\n",
       "      <td>1.363735e+09</td>\n",
       "      <td>0</td>\n",
       "      <td>0</td>\n",
       "      <td>94</td>\n",
       "      <td>1525.0</td>\n",
       "      <td>1.0</td>\n",
       "      <td>0.0</td>\n",
       "      <td>1.363735e+09</td>\n",
       "      <td>0.0</td>\n",
       "      <td>259530833.0</td>\n",
       "      <td>259530833.0</td>\n",
       "    </tr>\n",
       "    <tr>\n",
       "      <th>3</th>\n",
       "      <td>4</td>\n",
       "      <td>2013-05-21 08:09:28</td>\n",
       "      <td>Clausen Nicklas</td>\n",
       "      <td>NicklasSClausen@yahoo.com</td>\n",
       "      <td>GUEST_INVITE</td>\n",
       "      <td>1.369210e+09</td>\n",
       "      <td>0</td>\n",
       "      <td>0</td>\n",
       "      <td>1</td>\n",
       "      <td>5151.0</td>\n",
       "      <td>1.0</td>\n",
       "      <td>0.0</td>\n",
       "      <td>1.369124e+09</td>\n",
       "      <td>86400.0</td>\n",
       "      <td>254141957.0</td>\n",
       "      <td>254055557.0</td>\n",
       "    </tr>\n",
       "    <tr>\n",
       "      <th>4</th>\n",
       "      <td>5</td>\n",
       "      <td>2013-01-17 10:14:20</td>\n",
       "      <td>Raw Grace</td>\n",
       "      <td>GraceRaw@yahoo.com</td>\n",
       "      <td>GUEST_INVITE</td>\n",
       "      <td>1.358850e+09</td>\n",
       "      <td>0</td>\n",
       "      <td>0</td>\n",
       "      <td>193</td>\n",
       "      <td>5240.0</td>\n",
       "      <td>1.0</td>\n",
       "      <td>0.0</td>\n",
       "      <td>1.358418e+09</td>\n",
       "      <td>432000.0</td>\n",
       "      <td>264848065.0</td>\n",
       "      <td>264416065.0</td>\n",
       "    </tr>\n",
       "    <tr>\n",
       "      <th>5</th>\n",
       "      <td>6</td>\n",
       "      <td>2013-12-17 03:37:06</td>\n",
       "      <td>Cunha Eduardo</td>\n",
       "      <td>EduardoPereiraCunha@yahoo.com</td>\n",
       "      <td>GUEST_INVITE</td>\n",
       "      <td>1.387424e+09</td>\n",
       "      <td>0</td>\n",
       "      <td>0</td>\n",
       "      <td>197</td>\n",
       "      <td>11241.0</td>\n",
       "      <td>1.0</td>\n",
       "      <td>0.0</td>\n",
       "      <td>1.387251e+09</td>\n",
       "      <td>172800.0</td>\n",
       "      <td>236014299.0</td>\n",
       "      <td>235841499.0</td>\n",
       "    </tr>\n",
       "    <tr>\n",
       "      <th>6</th>\n",
       "      <td>7</td>\n",
       "      <td>2012-12-16 13:24:32</td>\n",
       "      <td>Sewell Tyler</td>\n",
       "      <td>TylerSewell@jourrapide.com</td>\n",
       "      <td>SIGNUP</td>\n",
       "      <td>1.356010e+09</td>\n",
       "      <td>0</td>\n",
       "      <td>1</td>\n",
       "      <td>37</td>\n",
       "      <td>0.0</td>\n",
       "      <td>1.0</td>\n",
       "      <td>0.0</td>\n",
       "      <td>1.355664e+09</td>\n",
       "      <td>345600.0</td>\n",
       "      <td>267601453.0</td>\n",
       "      <td>267255853.0</td>\n",
       "    </tr>\n",
       "    <tr>\n",
       "      <th>7</th>\n",
       "      <td>8</td>\n",
       "      <td>2013-07-31 05:34:02</td>\n",
       "      <td>Hamilton Danielle</td>\n",
       "      <td>DanielleHamilton@yahoo.com</td>\n",
       "      <td>PERSONAL_PROJECTS</td>\n",
       "      <td>1.375249e+09</td>\n",
       "      <td>1</td>\n",
       "      <td>1</td>\n",
       "      <td>74</td>\n",
       "      <td>0.0</td>\n",
       "      <td>0.0</td>\n",
       "      <td>0.0</td>\n",
       "      <td>1.375249e+09</td>\n",
       "      <td>0.0</td>\n",
       "      <td>248016883.0</td>\n",
       "      <td>248016883.0</td>\n",
       "    </tr>\n",
       "    <tr>\n",
       "      <th>8</th>\n",
       "      <td>9</td>\n",
       "      <td>2013-11-05 04:04:24</td>\n",
       "      <td>Amsel Paul</td>\n",
       "      <td>PaulAmsel@hotmail.com</td>\n",
       "      <td>PERSONAL_PROJECTS</td>\n",
       "      <td>1.383624e+09</td>\n",
       "      <td>0</td>\n",
       "      <td>0</td>\n",
       "      <td>302</td>\n",
       "      <td>0.0</td>\n",
       "      <td>0.0</td>\n",
       "      <td>0.0</td>\n",
       "      <td>1.383624e+09</td>\n",
       "      <td>0.0</td>\n",
       "      <td>239641461.0</td>\n",
       "      <td>239641461.0</td>\n",
       "    </tr>\n",
       "    <tr>\n",
       "      <th>9</th>\n",
       "      <td>10</td>\n",
       "      <td>2013-01-16 22:08:03</td>\n",
       "      <td>Santos Carla</td>\n",
       "      <td>CarlaFerreiraSantos@gustr.com</td>\n",
       "      <td>ORG_INVITE</td>\n",
       "      <td>1.401833e+09</td>\n",
       "      <td>1</td>\n",
       "      <td>1</td>\n",
       "      <td>318</td>\n",
       "      <td>4143.0</td>\n",
       "      <td>284.0</td>\n",
       "      <td>1.0</td>\n",
       "      <td>1.358374e+09</td>\n",
       "      <td>43459200.0</td>\n",
       "      <td>264891642.0</td>\n",
       "      <td>221432442.0</td>\n",
       "    </tr>\n",
       "    <tr>\n",
       "      <th>10</th>\n",
       "      <td>11</td>\n",
       "      <td>2013-12-26 03:55:54</td>\n",
       "      <td>Paulsen Malthe</td>\n",
       "      <td>MaltheAPaulsen@gustr.com</td>\n",
       "      <td>SIGNUP</td>\n",
       "      <td>1.388117e+09</td>\n",
       "      <td>0</td>\n",
       "      <td>0</td>\n",
       "      <td>69</td>\n",
       "      <td>0.0</td>\n",
       "      <td>1.0</td>\n",
       "      <td>0.0</td>\n",
       "      <td>1.388030e+09</td>\n",
       "      <td>86400.0</td>\n",
       "      <td>235235571.0</td>\n",
       "      <td>235149171.0</td>\n",
       "    </tr>\n",
       "    <tr>\n",
       "      <th>11</th>\n",
       "      <td>12</td>\n",
       "      <td>2014-04-17 23:48:38</td>\n",
       "      <td>Mathiesen Lærke</td>\n",
       "      <td>LaerkeLMathiesen@cuvox.de</td>\n",
       "      <td>ORG_INVITE</td>\n",
       "      <td>1.397779e+09</td>\n",
       "      <td>0</td>\n",
       "      <td>0</td>\n",
       "      <td>130</td>\n",
       "      <td>9270.0</td>\n",
       "      <td>0.0</td>\n",
       "      <td>0.0</td>\n",
       "      <td>1.397779e+09</td>\n",
       "      <td>0.0</td>\n",
       "      <td>225487207.0</td>\n",
       "      <td>225487207.0</td>\n",
       "    </tr>\n",
       "    <tr>\n",
       "      <th>12</th>\n",
       "      <td>13</td>\n",
       "      <td>2014-03-30 16:19:38</td>\n",
       "      <td>Fry Alexander</td>\n",
       "      <td>AlexanderDFry@cuvox.de</td>\n",
       "      <td>ORG_INVITE</td>\n",
       "      <td>1.396196e+09</td>\n",
       "      <td>0</td>\n",
       "      <td>0</td>\n",
       "      <td>254</td>\n",
       "      <td>11204.0</td>\n",
       "      <td>1.0</td>\n",
       "      <td>0.0</td>\n",
       "      <td>1.396196e+09</td>\n",
       "      <td>0.0</td>\n",
       "      <td>227069347.0</td>\n",
       "      <td>227069347.0</td>\n",
       "    </tr>\n",
       "    <tr>\n",
       "      <th>13</th>\n",
       "      <td>14</td>\n",
       "      <td>2012-10-11 16:14:33</td>\n",
       "      <td>Rivera Bret</td>\n",
       "      <td>BretKRivera@gmail.com</td>\n",
       "      <td>SIGNUP</td>\n",
       "      <td>1.350058e+09</td>\n",
       "      <td>0</td>\n",
       "      <td>0</td>\n",
       "      <td>0</td>\n",
       "      <td>0.0</td>\n",
       "      <td>1.0</td>\n",
       "      <td>0.0</td>\n",
       "      <td>1.349972e+09</td>\n",
       "      <td>86400.0</td>\n",
       "      <td>273293652.0</td>\n",
       "      <td>273207252.0</td>\n",
       "    </tr>\n",
       "    <tr>\n",
       "      <th>14</th>\n",
       "      <td>15</td>\n",
       "      <td>2013-07-16 21:33:54</td>\n",
       "      <td>Theiss Ralf</td>\n",
       "      <td>RalfTheiss@hotmail.com</td>\n",
       "      <td>PERSONAL_PROJECTS</td>\n",
       "      <td>1.374010e+09</td>\n",
       "      <td>0</td>\n",
       "      <td>0</td>\n",
       "      <td>175</td>\n",
       "      <td>0.0</td>\n",
       "      <td>0.0</td>\n",
       "      <td>0.0</td>\n",
       "      <td>1.374010e+09</td>\n",
       "      <td>0.0</td>\n",
       "      <td>249255291.0</td>\n",
       "      <td>249255291.0</td>\n",
       "    </tr>\n",
       "  </tbody>\n",
       "</table>\n",
       "</div>"
      ],
      "text/plain": [
       "    object_id       creation_time               name  \\\n",
       "0           1 2014-04-22 03:53:30     Clausen August   \n",
       "1           2 2013-11-15 03:45:04      Poole Matthew   \n",
       "2           3 2013-03-19 23:14:52  Bottrill Mitchell   \n",
       "3           4 2013-05-21 08:09:28    Clausen Nicklas   \n",
       "4           5 2013-01-17 10:14:20          Raw Grace   \n",
       "5           6 2013-12-17 03:37:06      Cunha Eduardo   \n",
       "6           7 2012-12-16 13:24:32       Sewell Tyler   \n",
       "7           8 2013-07-31 05:34:02  Hamilton Danielle   \n",
       "8           9 2013-11-05 04:04:24         Amsel Paul   \n",
       "9          10 2013-01-16 22:08:03       Santos Carla   \n",
       "10         11 2013-12-26 03:55:54     Paulsen Malthe   \n",
       "11         12 2014-04-17 23:48:38    Mathiesen Lærke   \n",
       "12         13 2014-03-30 16:19:38      Fry Alexander   \n",
       "13         14 2012-10-11 16:14:33        Rivera Bret   \n",
       "14         15 2013-07-16 21:33:54        Theiss Ralf   \n",
       "\n",
       "                            email    creation_source  \\\n",
       "0        AugustCClausen@yahoo.com       GUEST_INVITE   \n",
       "1          MatthewPoole@gustr.com         ORG_INVITE   \n",
       "2      MitchellBottrill@gustr.com         ORG_INVITE   \n",
       "3       NicklasSClausen@yahoo.com       GUEST_INVITE   \n",
       "4              GraceRaw@yahoo.com       GUEST_INVITE   \n",
       "5   EduardoPereiraCunha@yahoo.com       GUEST_INVITE   \n",
       "6      TylerSewell@jourrapide.com             SIGNUP   \n",
       "7      DanielleHamilton@yahoo.com  PERSONAL_PROJECTS   \n",
       "8           PaulAmsel@hotmail.com  PERSONAL_PROJECTS   \n",
       "9   CarlaFerreiraSantos@gustr.com         ORG_INVITE   \n",
       "10       MaltheAPaulsen@gustr.com             SIGNUP   \n",
       "11      LaerkeLMathiesen@cuvox.de         ORG_INVITE   \n",
       "12         AlexanderDFry@cuvox.de         ORG_INVITE   \n",
       "13          BretKRivera@gmail.com             SIGNUP   \n",
       "14         RalfTheiss@hotmail.com  PERSONAL_PROJECTS   \n",
       "\n",
       "    last_session_creation_time  opted_in_to_mailing_list  \\\n",
       "0                 1.398139e+09                         1   \n",
       "1                 1.396238e+09                         0   \n",
       "2                 1.363735e+09                         0   \n",
       "3                 1.369210e+09                         0   \n",
       "4                 1.358850e+09                         0   \n",
       "5                 1.387424e+09                         0   \n",
       "6                 1.356010e+09                         0   \n",
       "7                 1.375249e+09                         1   \n",
       "8                 1.383624e+09                         0   \n",
       "9                 1.401833e+09                         1   \n",
       "10                1.388117e+09                         0   \n",
       "11                1.397779e+09                         0   \n",
       "12                1.396196e+09                         0   \n",
       "13                1.350058e+09                         0   \n",
       "14                1.374010e+09                         0   \n",
       "\n",
       "    enabled_for_marketing_drip  org_id  invited_by_user_id  log_count  \\\n",
       "0                            0      11             10803.0        1.0   \n",
       "1                            0       1               316.0       14.0   \n",
       "2                            0      94              1525.0        1.0   \n",
       "3                            0       1              5151.0        1.0   \n",
       "4                            0     193              5240.0        1.0   \n",
       "5                            0     197             11241.0        1.0   \n",
       "6                            1      37                 0.0        1.0   \n",
       "7                            1      74                 0.0        0.0   \n",
       "8                            0     302                 0.0        0.0   \n",
       "9                            1     318              4143.0      284.0   \n",
       "10                           0      69                 0.0        1.0   \n",
       "11                           0     130              9270.0        0.0   \n",
       "12                           0     254             11204.0        1.0   \n",
       "13                           0       0                 0.0        1.0   \n",
       "14                           0     175                 0.0        0.0   \n",
       "\n",
       "    adopted  creation_time_utc  delta_last_creation  delta_creation  \\\n",
       "0       0.0       1.398139e+09                  0.0     225126915.0   \n",
       "1       1.0       1.384487e+09           11750400.0     238778621.0   \n",
       "2       0.0       1.363735e+09                  0.0     259530833.0   \n",
       "3       0.0       1.369124e+09              86400.0     254141957.0   \n",
       "4       0.0       1.358418e+09             432000.0     264848065.0   \n",
       "5       0.0       1.387251e+09             172800.0     236014299.0   \n",
       "6       0.0       1.355664e+09             345600.0     267601453.0   \n",
       "7       0.0       1.375249e+09                  0.0     248016883.0   \n",
       "8       0.0       1.383624e+09                  0.0     239641461.0   \n",
       "9       1.0       1.358374e+09           43459200.0     264891642.0   \n",
       "10      0.0       1.388030e+09              86400.0     235235571.0   \n",
       "11      0.0       1.397779e+09                  0.0     225487207.0   \n",
       "12      0.0       1.396196e+09                  0.0     227069347.0   \n",
       "13      0.0       1.349972e+09              86400.0     273293652.0   \n",
       "14      0.0       1.374010e+09                  0.0     249255291.0   \n",
       "\n",
       "    delta_login  \n",
       "0   225126915.0  \n",
       "1   227028221.0  \n",
       "2   259530833.0  \n",
       "3   254055557.0  \n",
       "4   264416065.0  \n",
       "5   235841499.0  \n",
       "6   267255853.0  \n",
       "7   248016883.0  \n",
       "8   239641461.0  \n",
       "9   221432442.0  \n",
       "10  235149171.0  \n",
       "11  225487207.0  \n",
       "12  227069347.0  \n",
       "13  273207252.0  \n",
       "14  249255291.0  "
      ]
     },
     "execution_count": 25,
     "metadata": {},
     "output_type": "execute_result"
    }
   ],
   "source": [
    "df.invited_by_user_id.fillna(0,inplace=True)   #if no invited by any user replace with zero\n",
    "df.head(15)\n"
   ]
  },
  {
   "cell_type": "code",
   "execution_count": 26,
   "metadata": {},
   "outputs": [
    {
     "name": "stdout",
     "output_type": "stream",
     "text": [
      "<class 'pandas.core.frame.DataFrame'>\n",
      "Int64Index: 11999 entries, 0 to 11998\n",
      "Data columns (total 16 columns):\n",
      " #   Column                      Non-Null Count  Dtype         \n",
      "---  ------                      --------------  -----         \n",
      " 0   object_id                   11999 non-null  int64         \n",
      " 1   creation_time               11999 non-null  datetime64[ns]\n",
      " 2   name                        11999 non-null  object        \n",
      " 3   email                       11999 non-null  object        \n",
      " 4   creation_source             11999 non-null  object        \n",
      " 5   last_session_creation_time  11999 non-null  float64       \n",
      " 6   opted_in_to_mailing_list    11999 non-null  int64         \n",
      " 7   enabled_for_marketing_drip  11999 non-null  int64         \n",
      " 8   org_id                      11999 non-null  int64         \n",
      " 9   invited_by_user_id          11999 non-null  float64       \n",
      " 10  log_count                   11999 non-null  float64       \n",
      " 11  adopted                     11999 non-null  float64       \n",
      " 12  creation_time_utc           11999 non-null  float64       \n",
      " 13  delta_last_creation         11999 non-null  float64       \n",
      " 14  delta_creation              11999 non-null  float64       \n",
      " 15  delta_login                 11999 non-null  float64       \n",
      "dtypes: datetime64[ns](1), float64(8), int64(4), object(3)\n",
      "memory usage: 1.6+ MB\n"
     ]
    }
   ],
   "source": [
    "df.info()"
   ]
  },
  {
   "cell_type": "markdown",
   "metadata": {},
   "source": [
    "## 2  Exploratory Data analysis <a id='1.4_Exploratory Data analysis'></a>\n"
   ]
  },
  {
   "cell_type": "markdown",
   "metadata": {},
   "source": [
    "## 2.1  Explore the data <a id='2.2_ Explore the data'></a>"
   ]
  },
  {
   "cell_type": "code",
   "execution_count": 27,
   "metadata": {},
   "outputs": [
    {
     "name": "stdout",
     "output_type": "stream",
     "text": [
      "0.0    10200\n",
      "1.0     1799\n",
      "Name: adopted, dtype: int64\n"
     ]
    },
    {
     "data": {
      "image/png": "[encoded data removed]",
      "text/plain": [
       "<Figure size 432x288 with 1 Axes>"
      ]
     },
     "metadata": {
      "needs_background": "light"
     },
     "output_type": "display_data"
    }
   ],
   "source": [
    "print(df.adopted.value_counts())\n",
    "\n",
    "x = df.adopted.replace(to_replace=[0, 1], value=['Non-adopted','Adopted'])\n",
    "g1=sns.countplot(x=x)\n",
    "g1.set(ylabel='Counts')\n",
    "g1.set(xlabel=None)\n",
    "plt.show()"
   ]
  },
  {
   "cell_type": "code",
   "execution_count": 28,
   "metadata": {},
   "outputs": [],
   "source": [
    "#table = pd.pivot_table(df, values='Creation_source', index=['A', 'B'],columns=['C'], aggfunc=np.sum)\n",
    "#table = pd.pivot_table(df, values='D', index=['A', 'B'],columns=['C'], aggfunc=np.sum)\n",
    "#table = pd.pivot_table(df, values='adopted', columns=['Creation_source'], aggfunc=np.sum)\n",
    "#pd.pivot_table(df,index=[\"creation_source\"],columns=['adopted'],aggfunc=np.sum)"
   ]
  },
  {
   "cell_type": "code",
   "execution_count": 29,
   "metadata": {},
   "outputs": [],
   "source": [
    "#df.groupby('creation_source')['adopted'].value_counts().plot(kind='bar')\n",
    "#df.groupby('creation_source')['adopted'].value_counts().reset_index(name='sum')"
   ]
  },
  {
   "cell_type": "code",
   "execution_count": 30,
   "metadata": {},
   "outputs": [
    {
     "name": "stdout",
     "output_type": "stream",
     "text": [
      "ORG_INVITE            4254\n",
      "GUEST_INVITE          2163\n",
      "PERSONAL_PROJECTS     2111\n",
      "SIGNUP                2086\n",
      "SIGNUP_GOOGLE_AUTH    1385\n",
      "Name: creation_source, dtype: int64\n"
     ]
    },
    {
     "data": {
      "text/html": [
       "<div>\n",
       "<style scoped>\n",
       "    .dataframe tbody tr th:only-of-type {\n",
       "        vertical-align: middle;\n",
       "    }\n",
       "\n",
       "    .dataframe tbody tr th {\n",
       "        vertical-align: top;\n",
       "    }\n",
       "\n",
       "    .dataframe thead th {\n",
       "        text-align: right;\n",
       "    }\n",
       "</style>\n",
       "<table border=\"1\" class=\"dataframe\">\n",
       "  <thead>\n",
       "    <tr style=\"text-align: right;\">\n",
       "      <th></th>\n",
       "      <th>creation_source</th>\n",
       "      <th>adopted</th>\n",
       "      <th>sum</th>\n",
       "    </tr>\n",
       "  </thead>\n",
       "  <tbody>\n",
       "    <tr>\n",
       "      <th>0</th>\n",
       "      <td>GUEST_INVITE</td>\n",
       "      <td>0.0</td>\n",
       "      <td>1757</td>\n",
       "    </tr>\n",
       "    <tr>\n",
       "      <th>1</th>\n",
       "      <td>GUEST_INVITE</td>\n",
       "      <td>1.0</td>\n",
       "      <td>406</td>\n",
       "    </tr>\n",
       "    <tr>\n",
       "      <th>2</th>\n",
       "      <td>ORG_INVITE</td>\n",
       "      <td>0.0</td>\n",
       "      <td>3623</td>\n",
       "    </tr>\n",
       "    <tr>\n",
       "      <th>3</th>\n",
       "      <td>ORG_INVITE</td>\n",
       "      <td>1.0</td>\n",
       "      <td>631</td>\n",
       "    </tr>\n",
       "    <tr>\n",
       "      <th>4</th>\n",
       "      <td>PERSONAL_PROJECTS</td>\n",
       "      <td>0.0</td>\n",
       "      <td>1927</td>\n",
       "    </tr>\n",
       "    <tr>\n",
       "      <th>5</th>\n",
       "      <td>PERSONAL_PROJECTS</td>\n",
       "      <td>1.0</td>\n",
       "      <td>184</td>\n",
       "    </tr>\n",
       "    <tr>\n",
       "      <th>6</th>\n",
       "      <td>SIGNUP</td>\n",
       "      <td>0.0</td>\n",
       "      <td>1760</td>\n",
       "    </tr>\n",
       "    <tr>\n",
       "      <th>7</th>\n",
       "      <td>SIGNUP</td>\n",
       "      <td>1.0</td>\n",
       "      <td>326</td>\n",
       "    </tr>\n",
       "    <tr>\n",
       "      <th>8</th>\n",
       "      <td>SIGNUP_GOOGLE_AUTH</td>\n",
       "      <td>0.0</td>\n",
       "      <td>1133</td>\n",
       "    </tr>\n",
       "    <tr>\n",
       "      <th>9</th>\n",
       "      <td>SIGNUP_GOOGLE_AUTH</td>\n",
       "      <td>1.0</td>\n",
       "      <td>252</td>\n",
       "    </tr>\n",
       "  </tbody>\n",
       "</table>\n",
       "</div>"
      ],
      "text/plain": [
       "      creation_source  adopted   sum\n",
       "0        GUEST_INVITE      0.0  1757\n",
       "1        GUEST_INVITE      1.0   406\n",
       "2          ORG_INVITE      0.0  3623\n",
       "3          ORG_INVITE      1.0   631\n",
       "4   PERSONAL_PROJECTS      0.0  1927\n",
       "5   PERSONAL_PROJECTS      1.0   184\n",
       "6              SIGNUP      0.0  1760\n",
       "7              SIGNUP      1.0   326\n",
       "8  SIGNUP_GOOGLE_AUTH      0.0  1133\n",
       "9  SIGNUP_GOOGLE_AUTH      1.0   252"
      ]
     },
     "execution_count": 30,
     "metadata": {},
     "output_type": "execute_result"
    }
   ],
   "source": [
    "print(df.creation_source.value_counts())\n",
    "\n",
    "pivedu_source=df.groupby('creation_source')['adopted'].value_counts().reset_index(name='sum')\n",
    "pivedu_source\n"
   ]
  },
  {
   "cell_type": "code",
   "execution_count": 31,
   "metadata": {},
   "outputs": [
    {
     "data": {
      "text/html": [
       "<div>\n",
       "<style scoped>\n",
       "    .dataframe tbody tr th:only-of-type {\n",
       "        vertical-align: middle;\n",
       "    }\n",
       "\n",
       "    .dataframe tbody tr th {\n",
       "        vertical-align: top;\n",
       "    }\n",
       "\n",
       "    .dataframe thead tr th {\n",
       "        text-align: left;\n",
       "    }\n",
       "\n",
       "    .dataframe thead tr:last-of-type th {\n",
       "        text-align: right;\n",
       "    }\n",
       "</style>\n",
       "<table border=\"1\" class=\"dataframe\">\n",
       "  <thead>\n",
       "    <tr>\n",
       "      <th></th>\n",
       "      <th colspan=\"2\" halign=\"left\">sum</th>\n",
       "    </tr>\n",
       "    <tr>\n",
       "      <th>adopted</th>\n",
       "      <th>0.0</th>\n",
       "      <th>1.0</th>\n",
       "    </tr>\n",
       "    <tr>\n",
       "      <th>creation_source</th>\n",
       "      <th></th>\n",
       "      <th></th>\n",
       "    </tr>\n",
       "  </thead>\n",
       "  <tbody>\n",
       "    <tr>\n",
       "      <th>GUEST_INVITE</th>\n",
       "      <td>1757</td>\n",
       "      <td>406</td>\n",
       "    </tr>\n",
       "    <tr>\n",
       "      <th>ORG_INVITE</th>\n",
       "      <td>3623</td>\n",
       "      <td>631</td>\n",
       "    </tr>\n",
       "    <tr>\n",
       "      <th>PERSONAL_PROJECTS</th>\n",
       "      <td>1927</td>\n",
       "      <td>184</td>\n",
       "    </tr>\n",
       "    <tr>\n",
       "      <th>SIGNUP</th>\n",
       "      <td>1760</td>\n",
       "      <td>326</td>\n",
       "    </tr>\n",
       "    <tr>\n",
       "      <th>SIGNUP_GOOGLE_AUTH</th>\n",
       "      <td>1133</td>\n",
       "      <td>252</td>\n",
       "    </tr>\n",
       "  </tbody>\n",
       "</table>\n",
       "</div>"
      ],
      "text/plain": [
       "                     sum     \n",
       "adopted              0.0  1.0\n",
       "creation_source              \n",
       "GUEST_INVITE        1757  406\n",
       "ORG_INVITE          3623  631\n",
       "PERSONAL_PROJECTS   1927  184\n",
       "SIGNUP              1760  326\n",
       "SIGNUP_GOOGLE_AUTH  1133  252"
      ]
     },
     "execution_count": 31,
     "metadata": {},
     "output_type": "execute_result"
    }
   ],
   "source": [
    "pivedu1_source=pd.pivot_table(pivedu_source,index=[\"creation_source\"],columns=['adopted'])\n",
    "pivedu1_source"
   ]
  },
  {
   "cell_type": "code",
   "execution_count": 32,
   "metadata": {},
   "outputs": [
    {
     "data": {
      "image/png": "[encoded data removed]",
      "text/plain": [
       "<Figure size 432x288 with 1 Axes>"
      ]
     },
     "metadata": {
      "needs_background": "light"
     },
     "output_type": "display_data"
    }
   ],
   "source": [
    "pivedu1_source.plot(kind='bar',stacked=True)\n",
    "plt.ylabel('Counts')\n",
    "plt.legend(['non-adopted', 'adopted'])\n",
    "plt.show()"
   ]
  },
  {
   "cell_type": "code",
   "execution_count": 33,
   "metadata": {},
   "outputs": [
    {
     "data": {
      "image/png": "[encoded data removed]",
      "text/plain": [
       "<Figure size 432x288 with 1 Axes>"
      ]
     },
     "metadata": {
      "needs_background": "light"
     },
     "output_type": "display_data"
    }
   ],
   "source": [
    "pivedu_opt=df.groupby('opted_in_to_mailing_list')['adopted'].value_counts().reset_index(name='sum')\n",
    "pivedu1_opt=pd.pivot_table(pivedu_opt,index=[\"opted_in_to_mailing_list\"],columns=['adopted'])\n",
    "pivedu1_opt.plot(kind='bar')\n",
    "plt.ylabel('Counts')\n",
    "plt.legend(['non-adopted', 'adopted'])\n",
    "plt.show()\n",
    "\n",
    "\n"
   ]
  },
  {
   "cell_type": "code",
   "execution_count": 34,
   "metadata": {},
   "outputs": [
    {
     "data": {
      "image/png": "[encoded data removed]",
      "text/plain": [
       "<Figure size 432x288 with 1 Axes>"
      ]
     },
     "metadata": {
      "needs_background": "light"
     },
     "output_type": "display_data"
    }
   ],
   "source": [
    "pivedu_en=df.groupby('enabled_for_marketing_drip')['adopted'].value_counts().reset_index(name='sum')\n",
    "pivedu1_en=pd.pivot_table(pivedu_en,index=[\"enabled_for_marketing_drip\"],columns=['adopted'])\n",
    "pivedu1_en.plot(kind='bar')\n",
    "plt.ylabel('Counts')\n",
    "plt.legend(['non-adopted', 'adopted'])\n",
    "plt.show()\n"
   ]
  },
  {
   "cell_type": "code",
   "execution_count": 35,
   "metadata": {},
   "outputs": [
    {
     "data": {
      "image/png": "[encoded data removed]",
      "text/plain": [
       "<Figure size 432x288 with 1 Axes>"
      ]
     },
     "metadata": {
      "needs_background": "light"
     },
     "output_type": "display_data"
    }
   ],
   "source": [
    "plt.figsize=(5, 5)\n",
    "sns.set_context(\"notebook\", font_scale=2)\n",
    "g=sns.boxplot(x=\"adopted\", y=\"log_count\", data=df)\n",
    "g.set_xticklabels(g.get_xticklabels(), rotation=90,size=14)\n",
    "g.set(xlabel=None)\n",
    "g.xaxis.label.set_size(14)\n",
    "g.yaxis.label.set_size(14)\n",
    "plt.show()"
   ]
  },
  {
   "cell_type": "code",
   "execution_count": 36,
   "metadata": {},
   "outputs": [
    {
     "data": {
      "image/png": "[encoded data removed]",
      "text/plain": [
       "<Figure size 432x288 with 1 Axes>"
      ]
     },
     "metadata": {
      "needs_background": "light"
     },
     "output_type": "display_data"
    }
   ],
   "source": [
    "plt.figsize=(5, 5)\n",
    "sns.set_context(\"notebook\", font_scale=2)\n",
    "g=sns.boxplot(x=\"adopted\", y=\"delta_last_creation\", data=df)\n",
    "g.set_xticklabels(g.get_xticklabels(), rotation=90,size=14)\n",
    "g.set(yscale=\"log\")\n",
    "#g.set(xlabel=None)\n",
    "g.set(ylabel=\"last_login_to_creation time (sec)\")\n",
    "g.xaxis.label.set_size(14)\n",
    "g.yaxis.label.set_size(14)\n",
    "plt.show()\n"
   ]
  },
  {
   "cell_type": "code",
   "execution_count": 37,
   "metadata": {},
   "outputs": [
    {
     "data": {
      "image/png": "[encoded data removed]",
      "text/plain": [
       "<Figure size 432x288 with 1 Axes>"
      ]
     },
     "metadata": {
      "needs_background": "light"
     },
     "output_type": "display_data"
    }
   ],
   "source": [
    "plt.figsize=(5, 5)\n",
    "sns.set_context(\"notebook\", font_scale=2)\n",
    "g=sns.boxplot(x=\"adopted\", y=\"delta_login\", data=df)\n",
    "g.set_xticklabels(g.get_xticklabels(), rotation=90,size=14)\n",
    "#g.set(yscale=\"log\")\n",
    "g.set(xlabel=None)\n",
    "g.set(ylabel=\"last_login_to_current time (sec)\")\n",
    "g.xaxis.label.set_size(14)\n",
    "g.yaxis.label.set_size(14)\n",
    "plt.show()\n",
    "\n",
    "\n"
   ]
  },
  {
   "cell_type": "code",
   "execution_count": 38,
   "metadata": {},
   "outputs": [
    {
     "data": {
      "image/png": "[encoded data removed]",
      "text/plain": [
       "<Figure size 432x288 with 1 Axes>"
      ]
     },
     "metadata": {
      "needs_background": "light"
     },
     "output_type": "display_data"
    }
   ],
   "source": [
    "plt.figsize=(5, 5)\n",
    "sns.set_context(\"notebook\", font_scale=2)\n",
    "g=sns.boxplot(x=\"adopted\", y=\"delta_creation\", data=df)\n",
    "g.set_xticklabels(g.get_xticklabels(), rotation=90,size=14)\n",
    "#g.set(yscale=\"log\")\n",
    "#g.set(xlabel=None)\n",
    "g.set(ylabel=\"creation time to current time (sec)\")\n",
    "g.xaxis.label.set_size(14)\n",
    "g.yaxis.label.set_size(14)\n",
    "plt.show()\n"
   ]
  },
  {
   "cell_type": "markdown",
   "metadata": {},
   "source": [
    "## 2.2  Feature correlation heatmap <a id='2.2_Feature correlation heatmap'></a>"
   ]
  },
  {
   "cell_type": "code",
   "execution_count": 39,
   "metadata": {},
   "outputs": [
    {
     "data": {
      "text/plain": [
       "Index(['object_id', 'creation_time', 'name', 'email', 'creation_source',\n",
       "       'last_session_creation_time', 'opted_in_to_mailing_list',\n",
       "       'enabled_for_marketing_drip', 'org_id', 'invited_by_user_id',\n",
       "       'log_count', 'adopted', 'creation_time_utc', 'delta_last_creation',\n",
       "       'delta_creation', 'delta_login'],\n",
       "      dtype='object')"
      ]
     },
     "execution_count": 39,
     "metadata": {},
     "output_type": "execute_result"
    }
   ],
   "source": [
    "df.columns"
   ]
  },
  {
   "cell_type": "code",
   "execution_count": 40,
   "metadata": {},
   "outputs": [
    {
     "data": {
      "text/plain": [
       "['creation_source',\n",
       " 'last_session_creation_time',\n",
       " 'opted_in_to_mailing_list',\n",
       " 'enabled_for_marketing_drip',\n",
       " 'org_id',\n",
       " 'invited_by_user_id',\n",
       " 'log_count',\n",
       " 'adopted',\n",
       " 'creation_time_utc',\n",
       " 'delta_last_creation',\n",
       " 'delta_creation',\n",
       " 'delta_login']"
      ]
     },
     "execution_count": 40,
     "metadata": {},
     "output_type": "execute_result"
    }
   ],
   "source": [
    "features = [x for x in df.columns if x not in ['object_id','creation_time','name','email']]\n",
    "features\n",
    "\n"
   ]
  },
  {
   "cell_type": "code",
   "execution_count": 41,
   "metadata": {},
   "outputs": [],
   "source": [
    "df_feature=df[features]"
   ]
  },
  {
   "cell_type": "code",
   "execution_count": 42,
   "metadata": {},
   "outputs": [
    {
     "data": {
      "image/png": "[encoded data removed]",
      "text/plain": [
       "<Figure size 1008x1008 with 2 Axes>"
      ]
     },
     "metadata": {
      "needs_background": "light"
     },
     "output_type": "display_data"
    }
   ],
   "source": [
    "plt.subplots(figsize=(14,14))\n",
    "\n",
    "corr = df_feature.corr(method='pearson')\n",
    "ax = sns.heatmap(corr, annot=True,annot_kws={'size':10}, fmt=\".2f\")\n",
    "plt.savefig('heatmap.png',dpi=600)"
   ]
  },
  {
   "cell_type": "markdown",
   "metadata": {},
   "source": [
    "## 3  Pre-Processing and Training Data <a id='3_Pre-Processing and Training Data'></a>\n"
   ]
  },
  {
   "cell_type": "code",
   "execution_count": 43,
   "metadata": {},
   "outputs": [
    {
     "data": {
      "text/plain": [
       "Index(['object_id', 'creation_time', 'name', 'email', 'creation_source',\n",
       "       'last_session_creation_time', 'opted_in_to_mailing_list',\n",
       "       'enabled_for_marketing_drip', 'org_id', 'invited_by_user_id',\n",
       "       'log_count', 'adopted', 'creation_time_utc', 'delta_last_creation',\n",
       "       'delta_creation', 'delta_login'],\n",
       "      dtype='object')"
      ]
     },
     "execution_count": 43,
     "metadata": {},
     "output_type": "execute_result"
    }
   ],
   "source": [
    "df.columns"
   ]
  },
  {
   "cell_type": "code",
   "execution_count": 44,
   "metadata": {},
   "outputs": [],
   "source": [
    "columns_to_drop=['object_id','creation_time','name','email']\n",
    "dff=df.copy()\n",
    "dff=dff.drop(columns=columns_to_drop)"
   ]
  },
  {
   "cell_type": "code",
   "execution_count": 45,
   "metadata": {},
   "outputs": [],
   "source": [
    "from sklearn.preprocessing import OneHotEncoder\n",
    "df_encoded =pd.get_dummies(dff, columns=['creation_source'])"
   ]
  },
  {
   "cell_type": "code",
   "execution_count": 46,
   "metadata": {},
   "outputs": [
    {
     "data": {
      "text/html": [
       "<div>\n",
       "<style scoped>\n",
       "    .dataframe tbody tr th:only-of-type {\n",
       "        vertical-align: middle;\n",
       "    }\n",
       "\n",
       "    .dataframe tbody tr th {\n",
       "        vertical-align: top;\n",
       "    }\n",
       "\n",
       "    .dataframe thead th {\n",
       "        text-align: right;\n",
       "    }\n",
       "</style>\n",
       "<table border=\"1\" class=\"dataframe\">\n",
       "  <thead>\n",
       "    <tr style=\"text-align: right;\">\n",
       "      <th></th>\n",
       "      <th>last_session_creation_time</th>\n",
       "      <th>opted_in_to_mailing_list</th>\n",
       "      <th>enabled_for_marketing_drip</th>\n",
       "      <th>org_id</th>\n",
       "      <th>invited_by_user_id</th>\n",
       "      <th>log_count</th>\n",
       "      <th>adopted</th>\n",
       "      <th>creation_time_utc</th>\n",
       "      <th>delta_last_creation</th>\n",
       "      <th>delta_creation</th>\n",
       "      <th>delta_login</th>\n",
       "      <th>creation_source_GUEST_INVITE</th>\n",
       "      <th>creation_source_ORG_INVITE</th>\n",
       "      <th>creation_source_PERSONAL_PROJECTS</th>\n",
       "      <th>creation_source_SIGNUP</th>\n",
       "      <th>creation_source_SIGNUP_GOOGLE_AUTH</th>\n",
       "    </tr>\n",
       "  </thead>\n",
       "  <tbody>\n",
       "    <tr>\n",
       "      <th>0</th>\n",
       "      <td>1.398139e+09</td>\n",
       "      <td>1</td>\n",
       "      <td>0</td>\n",
       "      <td>11</td>\n",
       "      <td>10803.0</td>\n",
       "      <td>1.0</td>\n",
       "      <td>0.0</td>\n",
       "      <td>1.398139e+09</td>\n",
       "      <td>0.0</td>\n",
       "      <td>225126915.0</td>\n",
       "      <td>225126915.0</td>\n",
       "      <td>1</td>\n",
       "      <td>0</td>\n",
       "      <td>0</td>\n",
       "      <td>0</td>\n",
       "      <td>0</td>\n",
       "    </tr>\n",
       "    <tr>\n",
       "      <th>1</th>\n",
       "      <td>1.396238e+09</td>\n",
       "      <td>0</td>\n",
       "      <td>0</td>\n",
       "      <td>1</td>\n",
       "      <td>316.0</td>\n",
       "      <td>14.0</td>\n",
       "      <td>1.0</td>\n",
       "      <td>1.384487e+09</td>\n",
       "      <td>11750400.0</td>\n",
       "      <td>238778621.0</td>\n",
       "      <td>227028221.0</td>\n",
       "      <td>0</td>\n",
       "      <td>1</td>\n",
       "      <td>0</td>\n",
       "      <td>0</td>\n",
       "      <td>0</td>\n",
       "    </tr>\n",
       "    <tr>\n",
       "      <th>2</th>\n",
       "      <td>1.363735e+09</td>\n",
       "      <td>0</td>\n",
       "      <td>0</td>\n",
       "      <td>94</td>\n",
       "      <td>1525.0</td>\n",
       "      <td>1.0</td>\n",
       "      <td>0.0</td>\n",
       "      <td>1.363735e+09</td>\n",
       "      <td>0.0</td>\n",
       "      <td>259530833.0</td>\n",
       "      <td>259530833.0</td>\n",
       "      <td>0</td>\n",
       "      <td>1</td>\n",
       "      <td>0</td>\n",
       "      <td>0</td>\n",
       "      <td>0</td>\n",
       "    </tr>\n",
       "    <tr>\n",
       "      <th>3</th>\n",
       "      <td>1.369210e+09</td>\n",
       "      <td>0</td>\n",
       "      <td>0</td>\n",
       "      <td>1</td>\n",
       "      <td>5151.0</td>\n",
       "      <td>1.0</td>\n",
       "      <td>0.0</td>\n",
       "      <td>1.369124e+09</td>\n",
       "      <td>86400.0</td>\n",
       "      <td>254141957.0</td>\n",
       "      <td>254055557.0</td>\n",
       "      <td>1</td>\n",
       "      <td>0</td>\n",
       "      <td>0</td>\n",
       "      <td>0</td>\n",
       "      <td>0</td>\n",
       "    </tr>\n",
       "    <tr>\n",
       "      <th>4</th>\n",
       "      <td>1.358850e+09</td>\n",
       "      <td>0</td>\n",
       "      <td>0</td>\n",
       "      <td>193</td>\n",
       "      <td>5240.0</td>\n",
       "      <td>1.0</td>\n",
       "      <td>0.0</td>\n",
       "      <td>1.358418e+09</td>\n",
       "      <td>432000.0</td>\n",
       "      <td>264848065.0</td>\n",
       "      <td>264416065.0</td>\n",
       "      <td>1</td>\n",
       "      <td>0</td>\n",
       "      <td>0</td>\n",
       "      <td>0</td>\n",
       "      <td>0</td>\n",
       "    </tr>\n",
       "  </tbody>\n",
       "</table>\n",
       "</div>"
      ],
      "text/plain": [
       "   last_session_creation_time  opted_in_to_mailing_list  \\\n",
       "0                1.398139e+09                         1   \n",
       "1                1.396238e+09                         0   \n",
       "2                1.363735e+09                         0   \n",
       "3                1.369210e+09                         0   \n",
       "4                1.358850e+09                         0   \n",
       "\n",
       "   enabled_for_marketing_drip  org_id  invited_by_user_id  log_count  adopted  \\\n",
       "0                           0      11             10803.0        1.0      0.0   \n",
       "1                           0       1               316.0       14.0      1.0   \n",
       "2                           0      94              1525.0        1.0      0.0   \n",
       "3                           0       1              5151.0        1.0      0.0   \n",
       "4                           0     193              5240.0        1.0      0.0   \n",
       "\n",
       "   creation_time_utc  delta_last_creation  delta_creation  delta_login  \\\n",
       "0       1.398139e+09                  0.0     225126915.0  225126915.0   \n",
       "1       1.384487e+09           11750400.0     238778621.0  227028221.0   \n",
       "2       1.363735e+09                  0.0     259530833.0  259530833.0   \n",
       "3       1.369124e+09              86400.0     254141957.0  254055557.0   \n",
       "4       1.358418e+09             432000.0     264848065.0  264416065.0   \n",
       "\n",
       "   creation_source_GUEST_INVITE  creation_source_ORG_INVITE  \\\n",
       "0                             1                           0   \n",
       "1                             0                           1   \n",
       "2                             0                           1   \n",
       "3                             1                           0   \n",
       "4                             1                           0   \n",
       "\n",
       "   creation_source_PERSONAL_PROJECTS  creation_source_SIGNUP  \\\n",
       "0                                  0                       0   \n",
       "1                                  0                       0   \n",
       "2                                  0                       0   \n",
       "3                                  0                       0   \n",
       "4                                  0                       0   \n",
       "\n",
       "   creation_source_SIGNUP_GOOGLE_AUTH  \n",
       "0                                   0  \n",
       "1                                   0  \n",
       "2                                   0  \n",
       "3                                   0  \n",
       "4                                   0  "
      ]
     },
     "execution_count": 46,
     "metadata": {},
     "output_type": "execute_result"
    }
   ],
   "source": [
    "df_encoded.head()"
   ]
  },
  {
   "cell_type": "code",
   "execution_count": 47,
   "metadata": {},
   "outputs": [
    {
     "name": "stdout",
     "output_type": "stream",
     "text": [
      "<class 'pandas.core.frame.DataFrame'>\n",
      "Int64Index: 11999 entries, 0 to 11998\n",
      "Data columns (total 16 columns):\n",
      " #   Column                              Non-Null Count  Dtype  \n",
      "---  ------                              --------------  -----  \n",
      " 0   last_session_creation_time          11999 non-null  float64\n",
      " 1   opted_in_to_mailing_list            11999 non-null  int64  \n",
      " 2   enabled_for_marketing_drip          11999 non-null  int64  \n",
      " 3   org_id                              11999 non-null  int64  \n",
      " 4   invited_by_user_id                  11999 non-null  float64\n",
      " 5   log_count                           11999 non-null  float64\n",
      " 6   adopted                             11999 non-null  float64\n",
      " 7   creation_time_utc                   11999 non-null  float64\n",
      " 8   delta_last_creation                 11999 non-null  float64\n",
      " 9   delta_creation                      11999 non-null  float64\n",
      " 10  delta_login                         11999 non-null  float64\n",
      " 11  creation_source_GUEST_INVITE        11999 non-null  uint8  \n",
      " 12  creation_source_ORG_INVITE          11999 non-null  uint8  \n",
      " 13  creation_source_PERSONAL_PROJECTS   11999 non-null  uint8  \n",
      " 14  creation_source_SIGNUP              11999 non-null  uint8  \n",
      " 15  creation_source_SIGNUP_GOOGLE_AUTH  11999 non-null  uint8  \n",
      "dtypes: float64(8), int64(3), uint8(5)\n",
      "memory usage: 1.5 MB\n"
     ]
    }
   ],
   "source": [
    "df_encoded.info()"
   ]
  },
  {
   "cell_type": "code",
   "execution_count": 48,
   "metadata": {},
   "outputs": [],
   "source": [
    "from sklearn import __version__ as sklearn_version\n",
    "from sklearn.decomposition import PCA\n",
    "from sklearn.preprocessing import scale\n",
    "from sklearn.model_selection import train_test_split, cross_validate, GridSearchCV, learning_curve\n",
    "from sklearn.preprocessing import StandardScaler, MinMaxScaler\n",
    "from sklearn.dummy import DummyRegressor\n",
    "from sklearn.linear_model import LinearRegression\n",
    "from sklearn.ensemble import RandomForestRegressor\n",
    "from sklearn.metrics import r2_score, mean_squared_error, mean_absolute_error\n",
    "from sklearn.pipeline import make_pipeline\n",
    "from sklearn.impute import SimpleImputer\n",
    "from sklearn.feature_selection import SelectKBest, f_regression\n",
    "import datetime"
   ]
  },
  {
   "cell_type": "code",
   "execution_count": 49,
   "metadata": {},
   "outputs": [],
   "source": [
    "X_train, X_test, y_train, y_test = train_test_split(df_encoded.drop(columns='adopted'), \n",
    "                                                    df_encoded.adopted, test_size=0.3, \n",
    "                                                    random_state=47)\n"
   ]
  },
  {
   "cell_type": "code",
   "execution_count": 50,
   "metadata": {},
   "outputs": [],
   "source": [
    "import statsmodels.api as sm\n",
    "from statsmodels.stats.outliers_influence import variance_inflation_factor\n"
   ]
  },
  {
   "cell_type": "code",
   "execution_count": 51,
   "metadata": {},
   "outputs": [],
   "source": [
    "max_bin = 20\n",
    "force_bin = 3\n",
    "\n",
    "# define a binning function\n",
    "def mono_bin(Y, X, n = max_bin):    \n",
    "    df1 = pd.DataFrame({\"X\": X, \"Y\": Y})\n",
    "    justmiss = df1[['X','Y']][df1.X.isnull()]\n",
    "    notmiss = df1[['X','Y']][df1.X.notnull()]\n",
    "    #print(\"justmiss\", justmiss)\n",
    "    #print(\"notmiss\", notmiss)\n",
    "    r = 0\n",
    "    while np.abs(r) < 1:\n",
    "        try:\n",
    "            d1 = pd.DataFrame({\"X\": notmiss.X, \"Y\": notmiss.Y, \"Bucket\": pd.qcut(notmiss.X, n)})\n",
    "            d2 = d1.groupby('Bucket', as_index=True)\n",
    "            r, p = stats.spearmanr(d2.mean().X, d2.mean().Y)\n",
    "            #print(\"I am here 1\",r, n,len(d2))\n",
    "            n = n - 1 \n",
    "            \n",
    "        except Exception as e:\n",
    "            n = n - 1\n",
    "            #print(\"I am here e\",n)\n",
    "\n",
    "    if len(d2) == 1:\n",
    "        #print(\"I am second step \",r, n)\n",
    "        n = force_bin         \n",
    "        bins = algos.quantile(notmiss.X, np.linspace(0, 1, n))\n",
    "        if len(np.unique(bins)) == 2:\n",
    "            bins = np.insert(bins, 0, 1)\n",
    "            bins[1] = bins[1]-(bins[1]/2)\n",
    "        d1 = pd.DataFrame({\"X\": notmiss.X, \"Y\": notmiss.Y, \"Bucket\": pd.cut(notmiss.X, np.unique(bins),include_lowest=True)}) \n",
    "        d2 = d1.groupby('Bucket', as_index=True)\n",
    "    \n",
    "    d3 = pd.DataFrame({},index=[])\n",
    "    d3[\"MIN_VALUE\"] = d2.min().X\n",
    "    d3[\"MAX_VALUE\"] = d2.max().X\n",
    "    d3[\"COUNT\"] = d2.count().Y\n",
    "    d3[\"EVENT\"] = d2.sum().Y\n",
    "    d3[\"NONEVENT\"] = d2.count().Y - d2.sum().Y\n",
    "    d3=d3.reset_index(drop=True)\n",
    "    \n",
    "    if len(justmiss.index) > 0:\n",
    "        d4 = pd.DataFrame({'MIN_VALUE':np.nan},index=[0])\n",
    "        d4[\"MAX_VALUE\"] = np.nan\n",
    "        #print(justmiss.count().Y)\n",
    "        d4[\"COUNT\"] = justmiss.count().Y\n",
    "        d4[\"EVENT\"] = justmiss.sum().Y\n",
    "        d4[\"NONEVENT\"] = justmiss.count().Y - justmiss.sum().Y\n",
    "        d3 = d3.append(d4,ignore_index=True)\n",
    "    \n",
    "    d3[\"EVENT_RATE\"] = d3.EVENT/d3.COUNT\n",
    "    d3[\"NON_EVENT_RATE\"] = d3.NONEVENT/d3.COUNT\n",
    "    d3[\"DIST_EVENT\"] = d3.EVENT/d3.sum().EVENT\n",
    "    d3[\"DIST_NON_EVENT\"] = d3.NONEVENT/d3.sum().NONEVENT\n",
    "    print(np.log(d3.DIST_EVENT/d3.DIST_NON_EVENT))\n",
    "    d3[\"WOE\"] = np.log(d3.DIST_EVENT/d3.DIST_NON_EVENT)\n",
    "    d3[\"IV\"] = (d3.DIST_EVENT-d3.DIST_NON_EVENT)*np.log(d3.DIST_EVENT/d3.DIST_NON_EVENT)\n",
    "    d3[\"VAR_NAME\"] = \"VAR\"\n",
    "    d3 = d3[['VAR_NAME','MIN_VALUE', 'MAX_VALUE', 'COUNT', 'EVENT', 'EVENT_RATE', 'NONEVENT', 'NON_EVENT_RATE', 'DIST_EVENT','DIST_NON_EVENT','WOE', 'IV']]       \n",
    "    d3 = d3.replace([np.inf, -np.inf], 0)\n",
    "    d3.IV = d3.IV.sum()\n",
    "    \n",
    "    return(d3)\n",
    "\n",
    "def char_bin(Y, X):\n",
    "        \n",
    "    df1 = pd.DataFrame({\"X\": X, \"Y\": Y})\n",
    "    justmiss = df1[['X','Y']][df1.X.isnull()]\n",
    "    notmiss = df1[['X','Y']][df1.X.notnull()]    \n",
    "    df2 = notmiss.groupby('X',as_index=True)\n",
    "    d3 = pd.DataFrame({},index=[])\n",
    "    d3[\"COUNT\"] = df2.count().Y\n",
    "    d3[\"MIN_VALUE\"] = df2.sum().Y.index\n",
    "    d3[\"MAX_VALUE\"] = d3[\"MIN_VALUE\"]\n",
    "    d3[\"EVENT\"] = df2.sum().Y\n",
    "    d3[\"NONEVENT\"] = df2.count().Y - df2.sum().Y\n",
    "    \n",
    "    if len(justmiss.index) > 0:\n",
    "        d4 = pd.DataFrame({'MIN_VALUE':np.nan},index=[0])\n",
    "        d4[\"MAX_VALUE\"] = np.nan\n",
    "        d4[\"COUNT\"] = justmiss.count().Y\n",
    "        d4[\"EVENT\"] = justmiss.sum().Y\n",
    "        d4[\"NONEVENT\"] = justmiss.count().Y - justmiss.sum().Y\n",
    "        d3 = d3.append(d4,ignore_index=True)\n",
    "    \n",
    "    d3[\"EVENT_RATE\"] = d3.EVENT/d3.COUNT\n",
    "    d3[\"NON_EVENT_RATE\"] = d3.NONEVENT/d3.COUNT\n",
    "    d3[\"DIST_EVENT\"] = d3.EVENT/d3.sum().EVENT\n",
    "    d3[\"DIST_NON_EVENT\"] = d3.NONEVENT/d3.sum().NONEVENT\n",
    "    d3[\"WOE\"] = np.log(d3.DIST_EVENT/d3.DIST_NON_EVENT)\n",
    "    d3[\"IV\"] = (d3.DIST_EVENT-d3.DIST_NON_EVENT)*np.log(d3.DIST_EVENT/d3.DIST_NON_EVENT)\n",
    "    d3[\"VAR_NAME\"] = \"VAR\"\n",
    "    d3 = d3[['VAR_NAME','MIN_VALUE', 'MAX_VALUE', 'COUNT', 'EVENT', 'EVENT_RATE', 'NONEVENT', 'NON_EVENT_RATE', 'DIST_EVENT','DIST_NON_EVENT','WOE', 'IV']]      \n",
    "    d3 = d3.replace([np.inf, -np.inf], 0)\n",
    "    d3.IV = d3.IV.sum()\n",
    "    #print(\"hi\",d3.IV )\n",
    "    d3 = d3.reset_index(drop=True)\n",
    "    \n",
    "    return(d3)\n",
    "\n",
    "def data_vars(df1, target):\n",
    "    \n",
    "    stack = traceback.extract_stack()\n",
    "    filename, lineno, function_name, code = stack[-2]\n",
    "    vars_name = re.compile(r'\\((.*?)\\).*$').search(code).groups()[0]\n",
    "    final = (re.findall(r\"[\\w']+\", vars_name))[-1]\n",
    "    \n",
    "    x = df1.dtypes.index\n",
    "    count = -1\n",
    "    for i in x:\n",
    "        print(i)\n",
    "        if i.upper() not in (final.upper()):\n",
    "            if np.issubdtype(df1[i], np.number) and len(Series.unique(df1[i])) > 2:\n",
    "                #print(\"Number and unique value greater than 2\")\n",
    "                conv = mono_bin(target, df1[i])\n",
    "                conv[\"VAR_NAME\"] = i\n",
    "                count = count + 1\n",
    "            else:\n",
    "                #print(\"I am here 2\")\n",
    "                conv = char_bin(target, df1[i])\n",
    "                conv[\"VAR_NAME\"] = i            \n",
    "                count = count + 1\n",
    "                \n",
    "            if count == 0:\n",
    "                iv_df = conv\n",
    "            else:\n",
    "                iv_df = iv_df.append(conv,ignore_index=True)\n",
    "    \n",
    "    iv = pd.DataFrame({'IV':iv_df.groupby('VAR_NAME').IV.max()})\n",
    "    iv = iv.reset_index()\n",
    "    return(iv_df,iv)"
   ]
  },
  {
   "cell_type": "code",
   "execution_count": 52,
   "metadata": {},
   "outputs": [
    {
     "name": "stdout",
     "output_type": "stream",
     "text": [
      "last_session_creation_time\n",
      "0   -1.591258\n",
      "1   -1.172450\n",
      "2   -1.133895\n",
      "3    1.574169\n",
      "dtype: float64\n",
      "opted_in_to_mailing_list\n",
      "enabled_for_marketing_drip\n",
      "org_id\n",
      "0   -0.483242\n",
      "1    0.015985\n",
      "2    0.171562\n",
      "3    0.196394\n",
      "dtype: float64\n",
      "invited_by_user_id\n",
      "0   -0.077606\n",
      "1    0.073728\n",
      "dtype: float64\n",
      "log_count\n",
      "0        -inf\n",
      "1    2.548689\n",
      "dtype: float64\n",
      "creation_time_utc\n"
     ]
    },
    {
     "name": "stderr",
     "output_type": "stream",
     "text": [
      "divide by zero encountered in log\n"
     ]
    },
    {
     "name": "stdout",
     "output_type": "stream",
     "text": [
      "0    0.162079\n",
      "1    0.134688\n",
      "2   -0.354503\n",
      "dtype: float64\n",
      "delta_last_creation\n",
      "0        -inf\n",
      "1    0.938176\n",
      "dtype: float64\n",
      "delta_creation\n",
      "0   -0.354503\n",
      "1    0.134688\n",
      "2    0.162079\n",
      "dtype: float64\n",
      "delta_login\n"
     ]
    },
    {
     "name": "stderr",
     "output_type": "stream",
     "text": [
      "divide by zero encountered in log\n"
     ]
    },
    {
     "name": "stdout",
     "output_type": "stream",
     "text": [
      "0    1.574169\n",
      "1   -1.134399\n",
      "2   -1.171947\n",
      "3   -1.591258\n",
      "dtype: float64\n",
      "creation_source_GUEST_INVITE\n",
      "creation_source_ORG_INVITE\n",
      "creation_source_PERSONAL_PROJECTS\n",
      "creation_source_SIGNUP\n",
      "creation_source_SIGNUP_GOOGLE_AUTH\n"
     ]
    }
   ],
   "source": [
    "final_iv, IV = data_vars(X_train, y_train)"
   ]
  },
  {
   "cell_type": "code",
   "execution_count": 53,
   "metadata": {},
   "outputs": [
    {
     "data": {
      "text/plain": [
       "(8399, 6)"
      ]
     },
     "metadata": {},
     "output_type": "display_data"
    },
    {
     "data": {
      "text/html": [
       "<div>\n",
       "<style scoped>\n",
       "    .dataframe tbody tr th:only-of-type {\n",
       "        vertical-align: middle;\n",
       "    }\n",
       "\n",
       "    .dataframe tbody tr th {\n",
       "        vertical-align: top;\n",
       "    }\n",
       "\n",
       "    .dataframe thead th {\n",
       "        text-align: right;\n",
       "    }\n",
       "</style>\n",
       "<table border=\"1\" class=\"dataframe\">\n",
       "  <thead>\n",
       "    <tr style=\"text-align: right;\">\n",
       "      <th></th>\n",
       "      <th>creation_source_GUEST_INVITE</th>\n",
       "      <th>creation_source_PERSONAL_PROJECTS</th>\n",
       "      <th>creation_time_utc</th>\n",
       "      <th>delta_creation</th>\n",
       "      <th>delta_last_creation</th>\n",
       "      <th>org_id</th>\n",
       "    </tr>\n",
       "  </thead>\n",
       "  <tbody>\n",
       "    <tr>\n",
       "      <th>10376</th>\n",
       "      <td>0</td>\n",
       "      <td>0</td>\n",
       "      <td>1.388074e+09</td>\n",
       "      <td>235191373.0</td>\n",
       "      <td>0.0</td>\n",
       "      <td>189</td>\n",
       "    </tr>\n",
       "    <tr>\n",
       "      <th>9343</th>\n",
       "      <td>0</td>\n",
       "      <td>0</td>\n",
       "      <td>1.389648e+09</td>\n",
       "      <td>233617473.0</td>\n",
       "      <td>11836800.0</td>\n",
       "      <td>116</td>\n",
       "    </tr>\n",
       "    <tr>\n",
       "      <th>5341</th>\n",
       "      <td>1</td>\n",
       "      <td>0</td>\n",
       "      <td>1.396200e+09</td>\n",
       "      <td>227065459.0</td>\n",
       "      <td>0.0</td>\n",
       "      <td>5</td>\n",
       "    </tr>\n",
       "    <tr>\n",
       "      <th>1647</th>\n",
       "      <td>0</td>\n",
       "      <td>0</td>\n",
       "      <td>1.386496e+09</td>\n",
       "      <td>236769398.0</td>\n",
       "      <td>0.0</td>\n",
       "      <td>27</td>\n",
       "    </tr>\n",
       "    <tr>\n",
       "      <th>9119</th>\n",
       "      <td>1</td>\n",
       "      <td>0</td>\n",
       "      <td>1.347338e+09</td>\n",
       "      <td>275927498.0</td>\n",
       "      <td>54432000.0</td>\n",
       "      <td>288</td>\n",
       "    </tr>\n",
       "  </tbody>\n",
       "</table>\n",
       "</div>"
      ],
      "text/plain": [
       "       creation_source_GUEST_INVITE  creation_source_PERSONAL_PROJECTS  \\\n",
       "10376                             0                                  0   \n",
       "9343                              0                                  0   \n",
       "5341                              1                                  0   \n",
       "1647                              0                                  0   \n",
       "9119                              1                                  0   \n",
       "\n",
       "       creation_time_utc  delta_creation  delta_last_creation  org_id  \n",
       "10376       1.388074e+09     235191373.0                  0.0     189  \n",
       "9343        1.389648e+09     233617473.0           11836800.0     116  \n",
       "5341        1.396200e+09     227065459.0                  0.0       5  \n",
       "1647        1.386496e+09     236769398.0                  0.0      27  \n",
       "9119        1.347338e+09     275927498.0           54432000.0     288  "
      ]
     },
     "execution_count": 53,
     "metadata": {},
     "output_type": "execute_result"
    }
   ],
   "source": [
    "#features = list(IV[(IV['IV'] >= 0.01) & (IV['IV'] <= 0.8)]['VAR_NAME'])\n",
    "features = list(IV[(IV['IV'] >= 0.01) & (IV['IV'] <= 0.8)]['VAR_NAME'])\n",
    "X2 = X_train[features]\n",
    "display(X2.shape)\n",
    "X2.head()"
   ]
  },
  {
   "cell_type": "code",
   "execution_count": 54,
   "metadata": {},
   "outputs": [
    {
     "data": {
      "text/plain": [
       "6"
      ]
     },
     "metadata": {},
     "output_type": "display_data"
    },
    {
     "name": "stdout",
     "output_type": "stream",
     "text": [
      "(0, 1.0485051533063487)\n",
      "(1, 1.054877662259871)\n",
      "(2, 134.71577842217306)\n",
      "(3, 135.3846140488455)\n",
      "(4, 1.0616751794727002)\n",
      "(5, 1.004100543574585)\n"
     ]
    }
   ],
   "source": [
    "display(X2.shape[1])\n",
    "for i in range(X2.shape[1]):\n",
    "    print((i, variance_inflation_factor(X2.values, i) ))\n"
   ]
  },
  {
   "cell_type": "code",
   "execution_count": 55,
   "metadata": {},
   "outputs": [
    {
     "name": "stdout",
     "output_type": "stream",
     "text": [
      "Iteration # 1\n",
      "Removing delta_creation with VIF of 135.384614\n",
      "Iteration # 2\n",
      "Complete\n"
     ]
    }
   ],
   "source": [
    "def iterate_vif(df, vif_threshold=5, max_vif=6):\n",
    "    count = 0\n",
    "    while max_vif > vif_threshold:\n",
    "        count += 1\n",
    "        print(\"Iteration # \"+str(count))\n",
    "        vif = pd.DataFrame()\n",
    "        vif[\"VIFactor\"] = [variance_inflation_factor(df.values, i) for i in range(df.shape[1])]\n",
    "        vif[\"features\"] = df.columns\n",
    "        \n",
    "        if vif['VIFactor'].max() > vif_threshold:\n",
    "            print('Removing %s with VIF of %f' % (vif[vif['VIFactor'] == vif['VIFactor'].max()]['features'].values[0], vif['VIFactor'].max()))\n",
    "            df = df.drop(vif[vif['VIFactor'] == vif['VIFactor'].max()]['features'].values[0], axis=1)\n",
    "            max_vif = vif['VIFactor'].max()\n",
    "        else:\n",
    "            print('Complete')\n",
    "            return df, vif.sort_values('VIFactor')  \n",
    "\n",
    "X1 = X2._get_numeric_data()\n",
    "final_df, final_vif = iterate_vif(X1)"
   ]
  },
  {
   "cell_type": "code",
   "execution_count": 56,
   "metadata": {},
   "outputs": [
    {
     "data": {
      "text/plain": [
       "5"
      ]
     },
     "metadata": {},
     "output_type": "display_data"
    },
    {
     "data": {
      "text/plain": [
       "Index(['creation_source_GUEST_INVITE', 'creation_source_PERSONAL_PROJECTS',\n",
       "       'creation_time_utc', 'delta_last_creation', 'org_id'],\n",
       "      dtype='object')"
      ]
     },
     "metadata": {},
     "output_type": "display_data"
    },
    {
     "data": {
      "text/html": [
       "<div>\n",
       "<style scoped>\n",
       "    .dataframe tbody tr th:only-of-type {\n",
       "        vertical-align: middle;\n",
       "    }\n",
       "\n",
       "    .dataframe tbody tr th {\n",
       "        vertical-align: top;\n",
       "    }\n",
       "\n",
       "    .dataframe thead th {\n",
       "        text-align: right;\n",
       "    }\n",
       "</style>\n",
       "<table border=\"1\" class=\"dataframe\">\n",
       "  <thead>\n",
       "    <tr style=\"text-align: right;\">\n",
       "      <th></th>\n",
       "      <th>creation_source_GUEST_INVITE</th>\n",
       "      <th>creation_source_PERSONAL_PROJECTS</th>\n",
       "      <th>creation_time_utc</th>\n",
       "      <th>delta_last_creation</th>\n",
       "      <th>org_id</th>\n",
       "    </tr>\n",
       "  </thead>\n",
       "  <tbody>\n",
       "    <tr>\n",
       "      <th>10376</th>\n",
       "      <td>0</td>\n",
       "      <td>0</td>\n",
       "      <td>1.388074e+09</td>\n",
       "      <td>0.0</td>\n",
       "      <td>189</td>\n",
       "    </tr>\n",
       "    <tr>\n",
       "      <th>9343</th>\n",
       "      <td>0</td>\n",
       "      <td>0</td>\n",
       "      <td>1.389648e+09</td>\n",
       "      <td>11836800.0</td>\n",
       "      <td>116</td>\n",
       "    </tr>\n",
       "    <tr>\n",
       "      <th>5341</th>\n",
       "      <td>1</td>\n",
       "      <td>0</td>\n",
       "      <td>1.396200e+09</td>\n",
       "      <td>0.0</td>\n",
       "      <td>5</td>\n",
       "    </tr>\n",
       "    <tr>\n",
       "      <th>1647</th>\n",
       "      <td>0</td>\n",
       "      <td>0</td>\n",
       "      <td>1.386496e+09</td>\n",
       "      <td>0.0</td>\n",
       "      <td>27</td>\n",
       "    </tr>\n",
       "    <tr>\n",
       "      <th>9119</th>\n",
       "      <td>1</td>\n",
       "      <td>0</td>\n",
       "      <td>1.347338e+09</td>\n",
       "      <td>54432000.0</td>\n",
       "      <td>288</td>\n",
       "    </tr>\n",
       "  </tbody>\n",
       "</table>\n",
       "</div>"
      ],
      "text/plain": [
       "       creation_source_GUEST_INVITE  creation_source_PERSONAL_PROJECTS  \\\n",
       "10376                             0                                  0   \n",
       "9343                              0                                  0   \n",
       "5341                              1                                  0   \n",
       "1647                              0                                  0   \n",
       "9119                              1                                  0   \n",
       "\n",
       "       creation_time_utc  delta_last_creation  org_id  \n",
       "10376       1.388074e+09                  0.0     189  \n",
       "9343        1.389648e+09           11836800.0     116  \n",
       "5341        1.396200e+09                  0.0       5  \n",
       "1647        1.386496e+09                  0.0      27  \n",
       "9119        1.347338e+09           54432000.0     288  "
      ]
     },
     "execution_count": 56,
     "metadata": {},
     "output_type": "execute_result"
    }
   ],
   "source": [
    "X_train=final_df\n",
    "display(len(X_train.columns))\n",
    "display(X_train.columns)\n",
    "X_train.head()"
   ]
  },
  {
   "cell_type": "markdown",
   "metadata": {},
   "source": [
    "## 4  Data modeling <a id='4_Data modeling'></a>"
   ]
  },
  {
   "cell_type": "code",
   "execution_count": 57,
   "metadata": {},
   "outputs": [],
   "source": [
    "from sklearn.metrics import confusion_matrix\n",
    "from sklearn.metrics import classification_report\n",
    "import matplotlib.pyplot as plt\n",
    "from sklearn.metrics import roc_auc_score\n",
    "from sklearn.metrics import roc_curve"
   ]
  },
  {
   "cell_type": "code",
   "execution_count": 58,
   "metadata": {},
   "outputs": [
    {
     "data": {
      "text/html": [
       "<div>\n",
       "<style scoped>\n",
       "    .dataframe tbody tr th:only-of-type {\n",
       "        vertical-align: middle;\n",
       "    }\n",
       "\n",
       "    .dataframe tbody tr th {\n",
       "        vertical-align: top;\n",
       "    }\n",
       "\n",
       "    .dataframe thead th {\n",
       "        text-align: right;\n",
       "    }\n",
       "</style>\n",
       "<table border=\"1\" class=\"dataframe\">\n",
       "  <thead>\n",
       "    <tr style=\"text-align: right;\">\n",
       "      <th></th>\n",
       "      <th>creation_source_GUEST_INVITE</th>\n",
       "      <th>creation_source_PERSONAL_PROJECTS</th>\n",
       "      <th>creation_time_utc</th>\n",
       "      <th>delta_last_creation</th>\n",
       "      <th>org_id</th>\n",
       "    </tr>\n",
       "  </thead>\n",
       "  <tbody>\n",
       "    <tr>\n",
       "      <th>1369</th>\n",
       "      <td>1</td>\n",
       "      <td>0</td>\n",
       "      <td>1.397246e+09</td>\n",
       "      <td>0.0</td>\n",
       "      <td>40</td>\n",
       "    </tr>\n",
       "    <tr>\n",
       "      <th>10776</th>\n",
       "      <td>0</td>\n",
       "      <td>0</td>\n",
       "      <td>1.399296e+09</td>\n",
       "      <td>259200.0</td>\n",
       "      <td>133</td>\n",
       "    </tr>\n",
       "    <tr>\n",
       "      <th>10621</th>\n",
       "      <td>1</td>\n",
       "      <td>0</td>\n",
       "      <td>1.372769e+09</td>\n",
       "      <td>0.0</td>\n",
       "      <td>311</td>\n",
       "    </tr>\n",
       "    <tr>\n",
       "      <th>5568</th>\n",
       "      <td>0</td>\n",
       "      <td>1</td>\n",
       "      <td>1.363876e+09</td>\n",
       "      <td>0.0</td>\n",
       "      <td>1</td>\n",
       "    </tr>\n",
       "    <tr>\n",
       "      <th>40</th>\n",
       "      <td>0</td>\n",
       "      <td>0</td>\n",
       "      <td>1.398901e+09</td>\n",
       "      <td>0.0</td>\n",
       "      <td>64</td>\n",
       "    </tr>\n",
       "  </tbody>\n",
       "</table>\n",
       "</div>"
      ],
      "text/plain": [
       "       creation_source_GUEST_INVITE  creation_source_PERSONAL_PROJECTS  \\\n",
       "1369                              1                                  0   \n",
       "10776                             0                                  0   \n",
       "10621                             1                                  0   \n",
       "5568                              0                                  1   \n",
       "40                                0                                  0   \n",
       "\n",
       "       creation_time_utc  delta_last_creation  org_id  \n",
       "1369        1.397246e+09                  0.0      40  \n",
       "10776       1.399296e+09             259200.0     133  \n",
       "10621       1.372769e+09                  0.0     311  \n",
       "5568        1.363876e+09                  0.0       1  \n",
       "40          1.398901e+09                  0.0      64  "
      ]
     },
     "execution_count": 58,
     "metadata": {},
     "output_type": "execute_result"
    }
   ],
   "source": [
    "X_test=X_test[X_train.columns]\n",
    "X_test.head()"
   ]
  },
  {
   "cell_type": "markdown",
   "metadata": {},
   "source": [
    "## 4.1  Logistic regression <a id='4.1_Logistic regression'></a>"
   ]
  },
  {
   "cell_type": "code",
   "execution_count": 59,
   "metadata": {},
   "outputs": [],
   "source": [
    "def run_regression_accuracy(X_train, y_train, X_test, y_test):\n",
    "    logreg = LogisticRegression()\n",
    "    logreg.fit(X_train, y_train)\n",
    "    y_pred = logreg.predict(X_test)\n",
    "    print('Accuracy of logistic regression classifier on test set: {:.2f}'.format(logreg.score(X_test, y_test)))\n",
    "    #cm = confusion_matrix(y_test, y_pred)\n",
    "    #print('\\nConfusion matrix: \\n',cm)\n",
    "    \n",
    "    matrix = confusion_matrix(y_test, y_pred)\n",
    "    matrix = matrix.astype('float') / matrix.sum(axis=1)[:, np.newaxis]\n",
    "    \n",
    "    print('\\nConfusion matrix: \\n',matrix)\n",
    "    \n",
    "    print('\\nClassification report: \\n',classification_report(y_test, y_pred))\n",
    "\n",
    "    logit_roc_auc = roc_auc_score(y_test, logreg.predict(X_test))\n",
    "    fpr, tpr, thresholds = roc_curve(y_test, logreg.predict_proba(X_test)[:,1])\n",
    "\n",
    "    plt.figure()\n",
    "    plt.plot(fpr, tpr, label='Logistic Regression (area = %0.2f)' % logit_roc_auc)\n",
    "    plt.plot([0, 1], [0, 1],'r--')\n",
    "    plt.xlim([0.0, 1.0])\n",
    "    plt.ylim([0.0, 1.05])\n",
    "    plt.xlabel('False Positive Rate')\n",
    "    plt.ylabel('True Positive Rate')\n",
    "    plt.title('Receiver operating characteristic')\n",
    "    plt.legend(loc=\"lower right\")\n",
    "    plt.savefig('Log_ROC')\n",
    "    plt.show()\n",
    "  \n",
    "    return logreg\n"
   ]
  },
  {
   "cell_type": "code",
   "execution_count": 60,
   "metadata": {},
   "outputs": [
    {
     "name": "stdout",
     "output_type": "stream",
     "text": [
      "Accuracy of logistic regression classifier on test set: 0.97\n",
      "\n",
      "Confusion matrix: \n",
      " [[0.99347045 0.00652955]\n",
      " [0.18808194 0.81191806]]\n",
      "\n",
      "Classification report: \n",
      "               precision    recall  f1-score   support\n",
      "\n",
      "         0.0       0.97      0.99      0.98      3063\n",
      "         1.0       0.96      0.81      0.88       537\n",
      "\n",
      "    accuracy                           0.97      3600\n",
      "   macro avg       0.96      0.90      0.93      3600\n",
      "weighted avg       0.97      0.97      0.97      3600\n",
      "\n"
     ]
    },
    {
     "data": {
      "image/png": "[encoded data removed]",
      "text/plain": [
       "<Figure size 432x288 with 1 Axes>"
      ]
     },
     "metadata": {
      "needs_background": "light"
     },
     "output_type": "display_data"
    }
   ],
   "source": [
    "logreg = run_regression_accuracy(X_train, y_train, X_test, y_test)"
   ]
  },
  {
   "cell_type": "markdown",
   "metadata": {},
   "source": [
    "## 4.2  Random Forest <a id='4.2_Random Forest'></a>"
   ]
  },
  {
   "cell_type": "code",
   "execution_count": 61,
   "metadata": {},
   "outputs": [
    {
     "name": "stderr",
     "output_type": "stream",
     "text": [
      "[Parallel(n_jobs=1)]: Using backend SequentialBackend with 1 concurrent workers.\n",
      "[Parallel(n_jobs=1)]: Done   1 out of   1 | elapsed:    0.0s remaining:    0.0s\n",
      "[Parallel(n_jobs=1)]: Done  10 out of  10 | elapsed:    0.0s finished\n",
      "[Parallel(n_jobs=1)]: Using backend SequentialBackend with 1 concurrent workers.\n",
      "[Parallel(n_jobs=1)]: Done   1 out of   1 | elapsed:    0.0s remaining:    0.0s\n"
     ]
    },
    {
     "name": "stdout",
     "output_type": "stream",
     "text": [
      "building tree 1 of 10\n",
      "building tree 2 of 10\n",
      "building tree 3 of 10\n",
      "building tree 4 of 10\n",
      "building tree 5 of 10\n",
      "building tree 6 of 10\n",
      "building tree 7 of 10\n",
      "building tree 8 of 10\n",
      "building tree 9 of 10\n",
      "building tree 10 of 10\n"
     ]
    },
    {
     "name": "stderr",
     "output_type": "stream",
     "text": [
      "[Parallel(n_jobs=1)]: Done  10 out of  10 | elapsed:    0.2s finished\n"
     ]
    },
    {
     "name": "stdout",
     "output_type": "stream",
     "text": [
      "Features [0.00174759 0.00399902 0.05179107 0.90904781 0.0334145 ]\n"
     ]
    },
    {
     "data": {
      "image/png": "[encoded data removed]",
      "text/plain": [
       "<Figure size 432x288 with 1 Axes>"
      ]
     },
     "metadata": {
      "needs_background": "light"
     },
     "output_type": "display_data"
    },
    {
     "name": "stdout",
     "output_type": "stream",
     "text": [
      "[[3017   46]\n",
      " [  91  446]]\n"
     ]
    },
    {
     "data": {
      "image/png": "[encoded data removed]",
      "text/plain": [
       "<Figure size 288x288 with 2 Axes>"
      ]
     },
     "metadata": {
      "needs_background": "light"
     },
     "output_type": "display_data"
    }
   ],
   "source": [
    "# Import the model we are using\n",
    "from sklearn.ensemble import RandomForestClassifier\n",
    "\n",
    "# Instantiate model with 1000 decision trees\n",
    "rf = RandomForestClassifier(n_estimators = 10, random_state = 42, max_depth=50, class_weight=dict({1:48, 0:1}), verbose=2)\n",
    "# Train the model on training data\n",
    "rf.fit(X_train, y_train)\n",
    "\n",
    "y_pred1 = rf.predict(X_test)\n",
    "\n",
    "\n",
    "print(\"Features\",rf.feature_importances_)\n",
    "\n",
    "importances = rf.feature_importances_\n",
    "indices = np.argsort(importances)\n",
    "features = X_train.columns\n",
    "plt.title('Feature Importances')\n",
    "plt.barh(range(len(indices)), importances[indices], color='b', align='center')\n",
    "plt.yticks(range(len(indices)), [features[i] for i in indices])\n",
    "plt.xlabel('Relative Importance')\n",
    "plt.show()\n",
    "\n",
    "\n",
    "\n",
    "roc1 = roc_auc_score(y_test, y_pred1)\n",
    "\n",
    "roc1\n",
    "\n",
    "#conf1 = confusion_matrix(y_test, y_pred1)\n",
    "#conf1\n",
    "\n",
    "print(confusion_matrix(y_test, y_pred1))\n",
    "matrix = confusion_matrix(y_test, y_pred1)\n",
    "matrix = matrix.astype('float') / matrix.sum(axis=1)[:, np.newaxis]\n",
    "#print(matrix)\n",
    "\n",
    "\n",
    "# Build the plot\n",
    "plt.figure(figsize=(4,4))\n",
    "sns.set(font_scale=1.4)\n",
    "sns.heatmap(matrix, annot=True, annot_kws={'size':10},\n",
    "            cmap=plt.cm.Greens, linewidths=0.2)\n",
    "\n",
    "# Add labels to the plot\n",
    "class_names = ['Non-adopted', 'Adopted']\n",
    "tick_marks = np.arange(len(class_names))\n",
    "tick_marks2 = tick_marks + 0.5\n",
    "plt.xticks(tick_marks, class_names, rotation=25)\n",
    "plt.yticks(tick_marks2, class_names, rotation=0)\n",
    "plt.xlabel('Predicted label')\n",
    "plt.ylabel('True label')\n",
    "plt.title('Confusion Matrix for Random Forest Classifier Model')\n",
    "plt.show()"
   ]
  },
  {
   "cell_type": "code",
   "execution_count": 62,
   "metadata": {},
   "outputs": [
    {
     "name": "stdout",
     "output_type": "stream",
     "text": [
      "0.9077610404959537\n"
     ]
    },
    {
     "data": {
      "image/png": "[encoded data removed]",
      "text/plain": [
       "<Figure size 432x288 with 1 Axes>"
      ]
     },
     "metadata": {},
     "output_type": "display_data"
    }
   ],
   "source": [
    "roc1 = roc_auc_score(y_test, y_pred1)\n",
    "print(roc1)\n",
    "fpr1, tpr1, thresholds = roc_curve(y_test, y_pred1)\n",
    "\n",
    "plt.figure()\n",
    "plt.plot(fpr1, tpr1, label='Random forest classifier (area = %0.2f)' % roc1 )\n",
    "plt.plot([0, 1], [0, 1],'r--')\n",
    "plt.xlim([0.0, 1.0])\n",
    "plt.ylim([0.0, 1.05])\n",
    "plt.xlabel('False Positive Rate')\n",
    "plt.ylabel('True Positive Rate')\n",
    "plt.title('Receiver operating characteristic')\n",
    "plt.legend(loc=\"lower right\")\n",
    "plt.savefig('Log_ROC')\n",
    "plt.show()\n"
   ]
  },
  {
   "cell_type": "markdown",
   "metadata": {},
   "source": [
    "## 4.3  XGBClassifier <a id='4.3_XGBClassifier'></a>"
   ]
  },
  {
   "cell_type": "code",
   "execution_count": 63,
   "metadata": {},
   "outputs": [
    {
     "name": "stdout",
     "output_type": "stream",
     "text": [
      "[15:08:57] INFO: src/tree/updater_prune.cc:74: tree pruning end, 1 roots, 74 extra nodes, 0 pruned nodes, max_depth=15\n",
      "[15:08:57] INFO: src/tree/updater_prune.cc:74: tree pruning end, 1 roots, 72 extra nodes, 0 pruned nodes, max_depth=16\n",
      "[15:08:57] INFO: src/tree/updater_prune.cc:74: tree pruning end, 1 roots, 66 extra nodes, 0 pruned nodes, max_depth=14\n",
      "[15:08:57] INFO: src/tree/updater_prune.cc:74: tree pruning end, 1 roots, 98 extra nodes, 0 pruned nodes, max_depth=16\n",
      "[15:08:57] INFO: src/tree/updater_prune.cc:74: tree pruning end, 1 roots, 94 extra nodes, 0 pruned nodes, max_depth=14\n",
      "[15:08:57] INFO: src/tree/updater_prune.cc:74: tree pruning end, 1 roots, 122 extra nodes, 0 pruned nodes, max_depth=20\n",
      "[15:08:57] INFO: src/tree/updater_prune.cc:74: tree pruning end, 1 roots, 120 extra nodes, 0 pruned nodes, max_depth=20\n",
      "[15:08:57] INFO: src/tree/updater_prune.cc:74: tree pruning end, 1 roots, 136 extra nodes, 0 pruned nodes, max_depth=21\n",
      "[15:08:57] INFO: src/tree/updater_prune.cc:74: tree pruning end, 1 roots, 128 extra nodes, 0 pruned nodes, max_depth=25\n",
      "[15:08:57] INFO: src/tree/updater_prune.cc:74: tree pruning end, 1 roots, 148 extra nodes, 0 pruned nodes, max_depth=25\n"
     ]
    },
    {
     "data": {
      "text/plain": [
       "0.9477444795240362"
      ]
     },
     "execution_count": 63,
     "metadata": {},
     "output_type": "execute_result"
    }
   ],
   "source": [
    "# Import the model we are using\n",
    "import xgboost\n",
    "from xgboost import XGBClassifier\n",
    "from sklearn.metrics import accuracy_score\n",
    "\n",
    "# Instantiate model with 100 decision trees\n",
    "xgb = XGBClassifier(n_estimators = 10, max_depth=30, max_delta_step=4, scale_pos_weight=49, random_state = 42, verbosity=2, n_jobs=-1, oob_score=True)\n",
    "# Train the model on training data\n",
    "xgb.fit(X_train, y_train)\n",
    "\n",
    "y_pred2 = xgb.predict(X_test)\n",
    "\n",
    "roc2 = roc_auc_score(y_test, y_pred2)\n",
    "\n",
    "roc2"
   ]
  },
  {
   "cell_type": "code",
   "execution_count": 64,
   "metadata": {},
   "outputs": [
    {
     "name": "stdout",
     "output_type": "stream",
     "text": [
      "[[2914  149]\n",
      " [  30  507]]\n"
     ]
    },
    {
     "data": {
      "image/png": "[encoded data removed]",
      "text/plain": [
       "<Figure size 288x288 with 2 Axes>"
      ]
     },
     "metadata": {},
     "output_type": "display_data"
    }
   ],
   "source": [
    "print(confusion_matrix(y_test, y_pred2))\n",
    "matrix = confusion_matrix(y_test, y_pred2)\n",
    "matrix = matrix.astype('float') / matrix.sum(axis=1)[:, np.newaxis]\n",
    "#print(matrix)\n",
    "\n",
    "\n",
    "# Build the plot\n",
    "plt.figure(figsize=(4,4))\n",
    "sns.set(font_scale=1.4)\n",
    "sns.heatmap(matrix, annot=True, annot_kws={'size':10},\n",
    "            cmap=plt.cm.Greens, linewidths=0.2)\n",
    "\n",
    "# Add labels to the plot\n",
    "class_names = ['Non-adopted', 'Adopted']\n",
    "tick_marks = np.arange(len(class_names))\n",
    "tick_marks2 = tick_marks + 0.5\n",
    "plt.xticks(tick_marks, class_names, rotation=25)\n",
    "plt.yticks(tick_marks2, class_names, rotation=0)\n",
    "plt.xlabel('Predicted label')\n",
    "plt.ylabel('True label')\n",
    "plt.title('Confusion Matrix for XG boost Model')\n",
    "plt.show()"
   ]
  },
  {
   "cell_type": "code",
   "execution_count": 65,
   "metadata": {},
   "outputs": [
    {
     "name": "stdout",
     "output_type": "stream",
     "text": [
      "              precision    recall  f1-score   support\n",
      "\n",
      "         0.0       0.99      0.95      0.97      3063\n",
      "         1.0       0.77      0.94      0.85       537\n",
      "\n",
      "    accuracy                           0.95      3600\n",
      "   macro avg       0.88      0.95      0.91      3600\n",
      "weighted avg       0.96      0.95      0.95      3600\n",
      "\n"
     ]
    }
   ],
   "source": [
    "print(classification_report(y_test, y_pred2))"
   ]
  },
  {
   "cell_type": "code",
   "execution_count": 66,
   "metadata": {},
   "outputs": [
    {
     "name": "stdout",
     "output_type": "stream",
     "text": [
      "0.9477444795240362\n"
     ]
    },
    {
     "data": {
      "image/png": "[encoded data removed]",
      "text/plain": [
       "<Figure size 432x288 with 1 Axes>"
      ]
     },
     "metadata": {},
     "output_type": "display_data"
    }
   ],
   "source": [
    "roc2 = roc_auc_score(y_test, y_pred2)\n",
    "print(roc2)\n",
    "fpr, tpr, thresholds = roc_curve(y_test, y_pred2)\n",
    "\n",
    "plt.figure()\n",
    "plt.plot(fpr, tpr, label='XGB classifier (area = %0.2f)' % roc2 )\n",
    "plt.plot([0, 1], [0, 1],'r--')\n",
    "plt.xlim([0.0, 1.0])\n",
    "plt.ylim([0.0, 1.05])\n",
    "plt.xlabel('False Positive Rate')\n",
    "plt.ylabel('True Positive Rate')\n",
    "plt.title('Receiver operating characteristic')\n",
    "plt.legend(loc=\"lower right\")\n",
    "plt.savefig('Log_ROC')\n",
    "plt.show()"
   ]
  },
  {
   "cell_type": "markdown",
   "metadata": {},
   "source": [
    "## 4.4 Hyperparameter Grid Search with XGBoost  <a id='4.4_Hyperparameter Grid Search with XGBoost'></a>"
   ]
  },
  {
   "cell_type": "code",
   "execution_count": 67,
   "metadata": {},
   "outputs": [],
   "source": [
    "def algorithm_pipeline(X_train, X_test, y_train, y_test, \\\n",
    "                       model, param_grid, cv=10, scoring_fit='roc_auc', do_probabilities=False):\n",
    "                       #model, param_grid, cv=10, scoring_fit='ne_mean_squared_error', do_probabilities=False):\n",
    "                       \n",
    "    gs = GridSearchCV(estimator=model, \\\n",
    "                      param_grid=param_grid, \\\n",
    "                      cv=cv, \\\n",
    "                      n_jobs=-1, \\\n",
    "                      scoring=scoring_fit, \\\n",
    "                      verbose=2)\n",
    "    \n",
    "    fitted_model = gs.fit(X_train, y_train)\n",
    "    \n",
    "    if do_probabilities:\n",
    "        pred = fitted_model.predict_proba(X_test)\n",
    "    else:\n",
    "        pred = fitted_model.predict(X_test)\n",
    "    return fitted_model, pred"
   ]
  },
  {
   "cell_type": "code",
   "execution_count": 68,
   "metadata": {},
   "outputs": [],
   "source": [
    "xgb = XGBClassifier(n_estimators = 10, max_depth=30, max_delta_step=4, \n",
    "                    scale_pos_weight=49, random_state = 42, verbosity=2, n_jobs=-1, oob_score=True)\n",
    "\n",
    "\n",
    "param_grid = {'n_estimators':[10,20,50,100,150,200],\\\n",
    "              'eta': [0.01, 0.05, 0.1], \\\n",
    "              'max_depth': [9, 10, 11], \\\n",
    "              'scale_pos_weight': [49, 50, 51], \\\n",
    "              'max_delta_step': [4, 6, 8], \\\n",
    "              'grow_policy':['depthwise', 'losswise']}\n",
    "\n",
    "#model = XGBClassifier(objective='binary:logistic', n_jobs=-1, random_state = 42, verbosity=2)\n",
    "model = XGBClassifier(n_jobs=-1, random_state = 42, verbosity=2)\n",
    "\n"
   ]
  },
  {
   "cell_type": "code",
   "execution_count": 69,
   "metadata": {},
   "outputs": [],
   "source": [
    "#model, pred = algorithm_pipeline(X_train, X_test, y_train, y_test, model, param_grid, cv=5, scoring_fit='roc_auc')"
   ]
  },
  {
   "cell_type": "code",
   "execution_count": 70,
   "metadata": {},
   "outputs": [],
   "source": [
    "#print(model.best_score_)\n",
    "#print(model.best_params_)\n",
    "\n",
    "#used best parameters from grid search below"
   ]
  },
  {
   "cell_type": "code",
   "execution_count": 71,
   "metadata": {},
   "outputs": [
    {
     "name": "stdout",
     "output_type": "stream",
     "text": [
      "[15:08:58] INFO: src/tree/updater_prune.cc:74: tree pruning end, 1 roots, 48 extra nodes, 0 pruned nodes, max_depth=9\n",
      "[15:08:58] INFO: src/tree/updater_prune.cc:74: tree pruning end, 1 roots, 42 extra nodes, 0 pruned nodes, max_depth=9\n",
      "[15:08:58] INFO: src/tree/updater_prune.cc:74: tree pruning end, 1 roots, 48 extra nodes, 0 pruned nodes, max_depth=9\n",
      "[15:08:58] INFO: src/tree/updater_prune.cc:74: tree pruning end, 1 roots, 62 extra nodes, 0 pruned nodes, max_depth=9\n",
      "[15:08:58] INFO: src/tree/updater_prune.cc:74: tree pruning end, 1 roots, 68 extra nodes, 0 pruned nodes, max_depth=9\n",
      "[15:08:58] INFO: src/tree/updater_prune.cc:74: tree pruning end, 1 roots, 66 extra nodes, 0 pruned nodes, max_depth=9\n",
      "[15:08:58] INFO: src/tree/updater_prune.cc:74: tree pruning end, 1 roots, 66 extra nodes, 0 pruned nodes, max_depth=9\n",
      "[15:08:58] INFO: src/tree/updater_prune.cc:74: tree pruning end, 1 roots, 66 extra nodes, 0 pruned nodes, max_depth=9\n",
      "[15:08:58] INFO: src/tree/updater_prune.cc:74: tree pruning end, 1 roots, 70 extra nodes, 0 pruned nodes, max_depth=9\n",
      "[15:08:58] INFO: src/tree/updater_prune.cc:74: tree pruning end, 1 roots, 78 extra nodes, 0 pruned nodes, max_depth=9\n",
      "[15:08:58] INFO: src/tree/updater_prune.cc:74: tree pruning end, 1 roots, 68 extra nodes, 0 pruned nodes, max_depth=9\n",
      "[15:08:58] INFO: src/tree/updater_prune.cc:74: tree pruning end, 1 roots, 84 extra nodes, 0 pruned nodes, max_depth=9\n",
      "[15:08:58] INFO: src/tree/updater_prune.cc:74: tree pruning end, 1 roots, 72 extra nodes, 0 pruned nodes, max_depth=9\n",
      "[15:08:58] INFO: src/tree/updater_prune.cc:74: tree pruning end, 1 roots, 90 extra nodes, 0 pruned nodes, max_depth=9\n",
      "[15:08:58] INFO: src/tree/updater_prune.cc:74: tree pruning end, 1 roots, 82 extra nodes, 0 pruned nodes, max_depth=9\n",
      "[15:08:58] INFO: src/tree/updater_prune.cc:74: tree pruning end, 1 roots, 76 extra nodes, 0 pruned nodes, max_depth=9\n",
      "[15:08:58] INFO: src/tree/updater_prune.cc:74: tree pruning end, 1 roots, 108 extra nodes, 0 pruned nodes, max_depth=9\n",
      "[15:08:58] INFO: src/tree/updater_prune.cc:74: tree pruning end, 1 roots, 102 extra nodes, 0 pruned nodes, max_depth=9\n",
      "[15:08:58] INFO: src/tree/updater_prune.cc:74: tree pruning end, 1 roots, 94 extra nodes, 0 pruned nodes, max_depth=9\n",
      "[15:08:58] INFO: src/tree/updater_prune.cc:74: tree pruning end, 1 roots, 90 extra nodes, 0 pruned nodes, max_depth=9\n",
      "[15:08:58] INFO: src/tree/updater_prune.cc:74: tree pruning end, 1 roots, 108 extra nodes, 0 pruned nodes, max_depth=9\n",
      "[15:08:58] INFO: src/tree/updater_prune.cc:74: tree pruning end, 1 roots, 104 extra nodes, 0 pruned nodes, max_depth=9\n",
      "[15:08:58] INFO: src/tree/updater_prune.cc:74: tree pruning end, 1 roots, 110 extra nodes, 0 pruned nodes, max_depth=9\n",
      "[15:08:58] INFO: src/tree/updater_prune.cc:74: tree pruning end, 1 roots, 114 extra nodes, 0 pruned nodes, max_depth=9\n",
      "[15:08:58] INFO: src/tree/updater_prune.cc:74: tree pruning end, 1 roots, 118 extra nodes, 0 pruned nodes, max_depth=9\n",
      "[15:08:58] INFO: src/tree/updater_prune.cc:74: tree pruning end, 1 roots, 118 extra nodes, 0 pruned nodes, max_depth=9\n",
      "[15:08:58] INFO: src/tree/updater_prune.cc:74: tree pruning end, 1 roots, 122 extra nodes, 0 pruned nodes, max_depth=9\n",
      "[15:08:58] INFO: src/tree/updater_prune.cc:74: tree pruning end, 1 roots, 128 extra nodes, 0 pruned nodes, max_depth=9\n",
      "[15:08:58] INFO: src/tree/updater_prune.cc:74: tree pruning end, 1 roots, 118 extra nodes, 0 pruned nodes, max_depth=9\n",
      "[15:08:58] INFO: src/tree/updater_prune.cc:74: tree pruning end, 1 roots, 136 extra nodes, 0 pruned nodes, max_depth=9\n",
      "[15:08:58] INFO: src/tree/updater_prune.cc:74: tree pruning end, 1 roots, 128 extra nodes, 0 pruned nodes, max_depth=9\n",
      "[15:08:58] INFO: src/tree/updater_prune.cc:74: tree pruning end, 1 roots, 130 extra nodes, 0 pruned nodes, max_depth=9\n",
      "[15:08:58] INFO: src/tree/updater_prune.cc:74: tree pruning end, 1 roots, 128 extra nodes, 0 pruned nodes, max_depth=9\n",
      "[15:08:58] INFO: src/tree/updater_prune.cc:74: tree pruning end, 1 roots, 128 extra nodes, 0 pruned nodes, max_depth=9\n",
      "[15:08:58] INFO: src/tree/updater_prune.cc:74: tree pruning end, 1 roots, 164 extra nodes, 0 pruned nodes, max_depth=9\n",
      "[15:08:58] INFO: src/tree/updater_prune.cc:74: tree pruning end, 1 roots, 134 extra nodes, 0 pruned nodes, max_depth=9\n",
      "[15:08:58] INFO: src/tree/updater_prune.cc:74: tree pruning end, 1 roots, 138 extra nodes, 0 pruned nodes, max_depth=9\n",
      "[15:08:58] INFO: src/tree/updater_prune.cc:74: tree pruning end, 1 roots, 126 extra nodes, 0 pruned nodes, max_depth=9\n",
      "[15:08:58] INFO: src/tree/updater_prune.cc:74: tree pruning end, 1 roots, 150 extra nodes, 0 pruned nodes, max_depth=9\n",
      "[15:08:58] INFO: src/tree/updater_prune.cc:74: tree pruning end, 1 roots, 158 extra nodes, 0 pruned nodes, max_depth=9\n",
      "[15:08:58] INFO: src/tree/updater_prune.cc:74: tree pruning end, 1 roots, 152 extra nodes, 0 pruned nodes, max_depth=9\n",
      "[15:08:58] INFO: src/tree/updater_prune.cc:74: tree pruning end, 1 roots, 128 extra nodes, 0 pruned nodes, max_depth=9\n",
      "[15:08:58] INFO: src/tree/updater_prune.cc:74: tree pruning end, 1 roots, 114 extra nodes, 0 pruned nodes, max_depth=9\n",
      "[15:08:58] INFO: src/tree/updater_prune.cc:74: tree pruning end, 1 roots, 112 extra nodes, 0 pruned nodes, max_depth=9\n",
      "[15:08:58] INFO: src/tree/updater_prune.cc:74: tree pruning end, 1 roots, 106 extra nodes, 0 pruned nodes, max_depth=9\n",
      "[15:08:58] INFO: src/tree/updater_prune.cc:74: tree pruning end, 1 roots, 120 extra nodes, 0 pruned nodes, max_depth=9\n",
      "[15:08:58] INFO: src/tree/updater_prune.cc:74: tree pruning end, 1 roots, 98 extra nodes, 0 pruned nodes, max_depth=9\n",
      "[15:08:58] INFO: src/tree/updater_prune.cc:74: tree pruning end, 1 roots, 88 extra nodes, 0 pruned nodes, max_depth=9\n",
      "[15:08:58] INFO: src/tree/updater_prune.cc:74: tree pruning end, 1 roots, 92 extra nodes, 0 pruned nodes, max_depth=9\n",
      "[15:08:58] INFO: src/tree/updater_prune.cc:74: tree pruning end, 1 roots, 118 extra nodes, 0 pruned nodes, max_depth=9\n",
      "[15:08:58] INFO: src/tree/updater_prune.cc:74: tree pruning end, 1 roots, 66 extra nodes, 0 pruned nodes, max_depth=9\n",
      "[15:08:58] INFO: src/tree/updater_prune.cc:74: tree pruning end, 1 roots, 98 extra nodes, 0 pruned nodes, max_depth=9\n",
      "[15:08:58] INFO: src/tree/updater_prune.cc:74: tree pruning end, 1 roots, 80 extra nodes, 0 pruned nodes, max_depth=9\n",
      "[15:08:58] INFO: src/tree/updater_prune.cc:74: tree pruning end, 1 roots, 84 extra nodes, 0 pruned nodes, max_depth=9\n",
      "[15:08:58] INFO: src/tree/updater_prune.cc:74: tree pruning end, 1 roots, 72 extra nodes, 0 pruned nodes, max_depth=9\n",
      "[15:08:58] INFO: src/tree/updater_prune.cc:74: tree pruning end, 1 roots, 124 extra nodes, 0 pruned nodes, max_depth=9\n",
      "[15:08:58] INFO: src/tree/updater_prune.cc:74: tree pruning end, 1 roots, 82 extra nodes, 0 pruned nodes, max_depth=9\n",
      "[15:08:58] INFO: src/tree/updater_prune.cc:74: tree pruning end, 1 roots, 64 extra nodes, 0 pruned nodes, max_depth=9\n",
      "[15:08:58] INFO: src/tree/updater_prune.cc:74: tree pruning end, 1 roots, 70 extra nodes, 0 pruned nodes, max_depth=9\n",
      "[15:08:58] INFO: src/tree/updater_prune.cc:74: tree pruning end, 1 roots, 62 extra nodes, 0 pruned nodes, max_depth=9\n",
      "[15:08:58] INFO: src/tree/updater_prune.cc:74: tree pruning end, 1 roots, 72 extra nodes, 0 pruned nodes, max_depth=9\n",
      "[15:08:58] INFO: src/tree/updater_prune.cc:74: tree pruning end, 1 roots, 44 extra nodes, 0 pruned nodes, max_depth=9\n",
      "[15:08:58] INFO: src/tree/updater_prune.cc:74: tree pruning end, 1 roots, 50 extra nodes, 0 pruned nodes, max_depth=9\n",
      "[15:08:58] INFO: src/tree/updater_prune.cc:74: tree pruning end, 1 roots, 50 extra nodes, 0 pruned nodes, max_depth=9\n",
      "[15:08:58] INFO: src/tree/updater_prune.cc:74: tree pruning end, 1 roots, 100 extra nodes, 0 pruned nodes, max_depth=9\n",
      "[15:08:58] INFO: src/tree/updater_prune.cc:74: tree pruning end, 1 roots, 78 extra nodes, 0 pruned nodes, max_depth=9\n",
      "[15:08:58] INFO: src/tree/updater_prune.cc:74: tree pruning end, 1 roots, 90 extra nodes, 0 pruned nodes, max_depth=9\n",
      "[15:08:58] INFO: src/tree/updater_prune.cc:74: tree pruning end, 1 roots, 76 extra nodes, 0 pruned nodes, max_depth=9\n",
      "[15:08:58] INFO: src/tree/updater_prune.cc:74: tree pruning end, 1 roots, 46 extra nodes, 0 pruned nodes, max_depth=9\n",
      "[15:08:58] INFO: src/tree/updater_prune.cc:74: tree pruning end, 1 roots, 100 extra nodes, 0 pruned nodes, max_depth=9\n",
      "[15:08:58] INFO: src/tree/updater_prune.cc:74: tree pruning end, 1 roots, 54 extra nodes, 0 pruned nodes, max_depth=9\n",
      "[15:08:58] INFO: src/tree/updater_prune.cc:74: tree pruning end, 1 roots, 88 extra nodes, 0 pruned nodes, max_depth=9\n",
      "[15:08:58] INFO: src/tree/updater_prune.cc:74: tree pruning end, 1 roots, 68 extra nodes, 0 pruned nodes, max_depth=9\n",
      "[15:08:58] INFO: src/tree/updater_prune.cc:74: tree pruning end, 1 roots, 46 extra nodes, 0 pruned nodes, max_depth=9\n",
      "[15:08:58] INFO: src/tree/updater_prune.cc:74: tree pruning end, 1 roots, 68 extra nodes, 0 pruned nodes, max_depth=9\n",
      "[15:08:58] INFO: src/tree/updater_prune.cc:74: tree pruning end, 1 roots, 50 extra nodes, 0 pruned nodes, max_depth=9\n",
      "[15:08:58] INFO: src/tree/updater_prune.cc:74: tree pruning end, 1 roots, 66 extra nodes, 0 pruned nodes, max_depth=9\n",
      "[15:08:58] INFO: src/tree/updater_prune.cc:74: tree pruning end, 1 roots, 50 extra nodes, 0 pruned nodes, max_depth=9\n",
      "[15:08:58] INFO: src/tree/updater_prune.cc:74: tree pruning end, 1 roots, 32 extra nodes, 0 pruned nodes, max_depth=9\n",
      "[15:08:58] INFO: src/tree/updater_prune.cc:74: tree pruning end, 1 roots, 32 extra nodes, 0 pruned nodes, max_depth=9\n",
      "[15:08:58] INFO: src/tree/updater_prune.cc:74: tree pruning end, 1 roots, 44 extra nodes, 0 pruned nodes, max_depth=9\n",
      "[15:08:58] INFO: src/tree/updater_prune.cc:74: tree pruning end, 1 roots, 112 extra nodes, 0 pruned nodes, max_depth=9\n",
      "[15:08:58] INFO: src/tree/updater_prune.cc:74: tree pruning end, 1 roots, 48 extra nodes, 0 pruned nodes, max_depth=9\n",
      "[15:08:58] INFO: src/tree/updater_prune.cc:74: tree pruning end, 1 roots, 60 extra nodes, 0 pruned nodes, max_depth=9\n",
      "[15:08:58] INFO: src/tree/updater_prune.cc:74: tree pruning end, 1 roots, 56 extra nodes, 0 pruned nodes, max_depth=9\n",
      "[15:08:58] INFO: src/tree/updater_prune.cc:74: tree pruning end, 1 roots, 50 extra nodes, 0 pruned nodes, max_depth=9\n",
      "[15:08:58] INFO: src/tree/updater_prune.cc:74: tree pruning end, 1 roots, 48 extra nodes, 0 pruned nodes, max_depth=9\n",
      "[15:08:58] INFO: src/tree/updater_prune.cc:74: tree pruning end, 1 roots, 50 extra nodes, 0 pruned nodes, max_depth=9\n",
      "[15:08:58] INFO: src/tree/updater_prune.cc:74: tree pruning end, 1 roots, 118 extra nodes, 0 pruned nodes, max_depth=9\n"
     ]
    },
    {
     "name": "stdout",
     "output_type": "stream",
     "text": [
      "[15:08:58] INFO: src/tree/updater_prune.cc:74: tree pruning end, 1 roots, 52 extra nodes, 0 pruned nodes, max_depth=9\n",
      "[15:08:58] INFO: src/tree/updater_prune.cc:74: tree pruning end, 1 roots, 60 extra nodes, 0 pruned nodes, max_depth=9\n",
      "[15:08:58] INFO: src/tree/updater_prune.cc:74: tree pruning end, 1 roots, 50 extra nodes, 0 pruned nodes, max_depth=9\n",
      "[15:08:58] INFO: src/tree/updater_prune.cc:74: tree pruning end, 1 roots, 80 extra nodes, 0 pruned nodes, max_depth=9\n",
      "[15:08:58] INFO: src/tree/updater_prune.cc:74: tree pruning end, 1 roots, 84 extra nodes, 0 pruned nodes, max_depth=9\n",
      "[15:08:58] INFO: src/tree/updater_prune.cc:74: tree pruning end, 1 roots, 80 extra nodes, 0 pruned nodes, max_depth=9\n",
      "[15:08:58] INFO: src/tree/updater_prune.cc:74: tree pruning end, 1 roots, 64 extra nodes, 0 pruned nodes, max_depth=9\n",
      "[15:08:58] INFO: src/tree/updater_prune.cc:74: tree pruning end, 1 roots, 60 extra nodes, 0 pruned nodes, max_depth=9\n",
      "[15:08:58] INFO: src/tree/updater_prune.cc:74: tree pruning end, 1 roots, 86 extra nodes, 0 pruned nodes, max_depth=9\n",
      "[15:08:58] INFO: src/tree/updater_prune.cc:74: tree pruning end, 1 roots, 48 extra nodes, 0 pruned nodes, max_depth=9\n",
      "[15:08:58] INFO: src/tree/updater_prune.cc:74: tree pruning end, 1 roots, 52 extra nodes, 0 pruned nodes, max_depth=9\n"
     ]
    },
    {
     "data": {
      "text/plain": [
       "XGBClassifier(base_score=0.5, booster='gbtree', colsample_bylevel=1,\n",
       "              colsample_bynode=1, colsample_bytree=1, eta=0.01, gamma=0,\n",
       "              grow_policy='depthwise', learning_rate=0.1, max_delta_step=4,\n",
       "              max_depth=9, min_child_weight=1, missing=None, n_estimators=100,\n",
       "              n_jobs=-1, nthread=None, objective='binary:logistic',\n",
       "              random_state=42, reg_alpha=0, reg_lambda=1, scale_pos_weight=49,\n",
       "              scoring_fit='roc_auc', seed=None, silent=None, subsample=1,\n",
       "              verbosity=2)"
      ]
     },
     "execution_count": 71,
     "metadata": {},
     "output_type": "execute_result"
    }
   ],
   "source": [
    "xgb = XGBClassifier(eta=0.01,n_estimators=100, max_delta_step=4, max_depth=9,grow_policy='depthwise',scoring_fit='roc_auc', scale_pos_weight=49, n_jobs=-1, random_state = 42, verbosity=2)\n",
    "xgb.fit(X_train, y_train)\n"
   ]
  },
  {
   "cell_type": "code",
   "execution_count": 72,
   "metadata": {},
   "outputs": [
    {
     "name": "stdout",
     "output_type": "stream",
     "text": [
      "Test 0.9410453110380338\n"
     ]
    },
    {
     "data": {
      "image/png": "[encoded data removed]",
      "text/plain": [
       "<Figure size 432x288 with 1 Axes>"
      ]
     },
     "metadata": {},
     "output_type": "display_data"
    }
   ],
   "source": [
    "y_pred3 = xgb.predict(X_test)\n",
    "\n",
    "roc = roc_auc_score(y_test, y_pred3)\n",
    "\n",
    "print(\"Test\",roc)\n",
    "fpr3, tpr3, thresholds = roc_curve(y_test, y_pred3)\n",
    "\n",
    "plt.figure()\n",
    "plt.plot(fpr3, tpr3, label='XGB Classifier (area = %0.2f)' % roc)\n",
    "plt.plot([0, 1], [0, 1],'r--')\n",
    "plt.xlim([0.0, 1.0])\n",
    "plt.ylim([0.0, 1.05])\n",
    "plt.xlabel('False Positive Rate')\n",
    "plt.ylabel('True Positive Rate')\n",
    "plt.title('Receiver operating characteristic')\n",
    "plt.legend(loc=\"lower right\")\n",
    "plt.savefig('Log_ROC')\n",
    "plt.show()"
   ]
  },
  {
   "cell_type": "code",
   "execution_count": 73,
   "metadata": {},
   "outputs": [
    {
     "name": "stdout",
     "output_type": "stream",
     "text": [
      "              precision    recall  f1-score   support\n",
      "\n",
      "         0.0       0.99      0.96      0.97      3063\n",
      "         1.0       0.79      0.93      0.85       537\n",
      "\n",
      "    accuracy                           0.95      3600\n",
      "   macro avg       0.89      0.94      0.91      3600\n",
      "weighted avg       0.96      0.95      0.95      3600\n",
      "\n"
     ]
    }
   ],
   "source": [
    "print(classification_report(y_test, y_pred3))"
   ]
  },
  {
   "cell_type": "code",
   "execution_count": 74,
   "metadata": {},
   "outputs": [
    {
     "name": "stdout",
     "output_type": "stream",
     "text": [
      "[[2930  133]\n",
      " [  40  497]]\n"
     ]
    },
    {
     "data": {
      "image/png": "[encoded data removed]",
      "text/plain": [
       "<Figure size 288x288 with 2 Axes>"
      ]
     },
     "metadata": {},
     "output_type": "display_data"
    }
   ],
   "source": [
    "print(confusion_matrix(y_test, y_pred3))\n",
    "matrix = confusion_matrix(y_test, y_pred3)\n",
    "matrix = matrix.astype('float') / matrix.sum(axis=1)[:, np.newaxis]\n",
    "#print(matrix)\n",
    "\n",
    "\n",
    "# Build the plot\n",
    "plt.figure(figsize=(4,4))\n",
    "sns.set(font_scale=1.4)\n",
    "sns.heatmap(matrix, annot=True, annot_kws={'size':10},\n",
    "            cmap=plt.cm.Greens, linewidths=0.2)\n",
    "\n",
    "# Add labels to the plot\n",
    "class_names = ['Non-adopted', 'Adopted']\n",
    "tick_marks = np.arange(len(class_names))\n",
    "tick_marks2 = tick_marks + 0.5\n",
    "plt.xticks(tick_marks, class_names, rotation=25)\n",
    "plt.yticks(tick_marks2, class_names, rotation=0)\n",
    "plt.xlabel('Predicted label')\n",
    "plt.ylabel('True label')\n",
    "plt.title('Confusion Matrix for XG boost Model')\n",
    "plt.show()"
   ]
  },
  {
   "cell_type": "code",
   "execution_count": 75,
   "metadata": {},
   "outputs": [
    {
     "name": "stdout",
     "output_type": "stream",
     "text": [
      "              precision    recall  f1-score   support\n",
      "\n",
      "         0.0       0.99      0.96      0.97      3063\n",
      "         1.0       0.79      0.93      0.85       537\n",
      "\n",
      "    accuracy                           0.95      3600\n",
      "   macro avg       0.89      0.94      0.91      3600\n",
      "weighted avg       0.96      0.95      0.95      3600\n",
      "\n"
     ]
    }
   ],
   "source": [
    "print(classification_report(y_test, y_pred3))"
   ]
  },
  {
   "cell_type": "code",
   "execution_count": 76,
   "metadata": {},
   "outputs": [
    {
     "data": {
      "image/png": "[encoded data removed]",
      "text/plain": [
       "<Figure size 576x252 with 1 Axes>"
      ]
     },
     "metadata": {},
     "output_type": "display_data"
    }
   ],
   "source": [
    "import shap\n",
    "shap_values = shap.TreeExplainer(xgb).shap_values(X_train)\n",
    "shap.summary_plot(shap_values, X_train, plot_type=\"bar\")\n"
   ]
  },
  {
   "cell_type": "code",
   "execution_count": 77,
   "metadata": {},
   "outputs": [
    {
     "data": {
      "image/png": "[encoded data removed]",
      "text/plain": [
       "<Figure size 576x252 with 2 Axes>"
      ]
     },
     "metadata": {},
     "output_type": "display_data"
    }
   ],
   "source": [
    "shap.summary_plot(shap_values, X_train)"
   ]
  },
  {
   "cell_type": "markdown",
   "metadata": {},
   "source": [
    "## 4.5 Neural network  <a id='4.5_Neural network'></a>"
   ]
  },
  {
   "cell_type": "code",
   "execution_count": 78,
   "metadata": {},
   "outputs": [
    {
     "name": "stdout",
     "output_type": "stream",
     "text": [
      "9599 2400\n"
     ]
    }
   ],
   "source": [
    "X_train, X_test, y_train, y_test = train_test_split(df_encoded.drop(columns='adopted'), \n",
    "                                                    df_encoded.adopted, test_size=0.2, \n",
    "                                                    random_state=47)\n",
    "print(len(X_train),len(X_test))\n",
    "\n",
    "\n",
    "import random\n",
    "seed=5\n",
    "test_index=X_test.index\n",
    "valid_size=int(len(X_test)*0.5)\n",
    "valid_index=X_test.sample(valid_size,random_state=seed).index\n",
    "\n",
    "Xf_valid=X_test.loc[valid_index]\n",
    "yf_valid=y_test.loc[valid_index]\n",
    "\n",
    "valid_index=Xf_valid.index\n",
    "\n",
    "final_test_index=[]\n",
    "for i in test_index:\n",
    "    if i not in valid_index:\n",
    "        final_test_index.append(i)\n",
    "\n",
    "Xf_test=X_test.loc[final_test_index]\n",
    "yf_test=y_test.loc[final_test_index]"
   ]
  },
  {
   "cell_type": "code",
   "execution_count": 79,
   "metadata": {},
   "outputs": [
    {
     "name": "stdout",
     "output_type": "stream",
     "text": [
      "Sorted test index: Int64Index([4, 7, 11, 14, 15, 17, 18, 21, 28, 38], dtype='int64')\n",
      "Sorted Validation index:- Int64Index([7, 17, 18, 28, 38], dtype='int64')\n",
      "Sorted final test index:- Int64Index([4, 11, 14, 15, 21], dtype='int64')\n"
     ]
    }
   ],
   "source": [
    "X_test.sort_index().head()\n",
    "print(\"Sorted test index:\", X_test.sort_index().head(10).index)\n",
    "print(\"Sorted Validation index:-\", Xf_valid.sort_index().head().index)\n",
    "print(\"Sorted final test index:-\",Xf_test.sort_index().head().index)"
   ]
  },
  {
   "cell_type": "code",
   "execution_count": 80,
   "metadata": {},
   "outputs": [
    {
     "name": "stdout",
     "output_type": "stream",
     "text": [
      "target 0.0    8131\n",
      "1.0    1468\n",
      "Name: adopted, dtype: int64\n",
      " \n",
      "Train:- 9599 Validation:- 1200 Test:- 1200\n"
     ]
    }
   ],
   "source": [
    "from sklearn.preprocessing import StandardScaler\n",
    "scaler = StandardScaler()\n",
    "scaler.fit(X_train)\n",
    "X_train_scaled = scaler.transform(X_train)\n",
    "X_test_scaled = scaler.transform(Xf_test)\n",
    "X_valid_scaled = scaler.transform(Xf_valid)\n",
    "\n",
    "\n",
    "print(\"target\",y_train.value_counts())\n",
    "\n",
    "\n",
    "\n",
    "train_inputs=X_train_scaled\n",
    "train_targets=y_train\n",
    "\n",
    "validation_inputs=X_valid_scaled\n",
    "validation_targets=yf_valid\n",
    "\n",
    "test_inputs=X_test_scaled\n",
    "test_targets=yf_test\n",
    "print(\" \")\n",
    "print(\"Train:-\", len(train_inputs),\"Validation:-\", len(validation_inputs),\"Test:-\", len(test_inputs))"
   ]
  },
  {
   "cell_type": "code",
   "execution_count": 81,
   "metadata": {},
   "outputs": [
    {
     "name": "stdout",
     "output_type": "stream",
     "text": [
      "Epoch 1/100\n",
      "96/96 - 1s - loss: 0.5031 - accuracy: 0.8471 - val_loss: 0.4288 - val_accuracy: 0.8533\n",
      "Epoch 2/100\n",
      "96/96 - 0s - loss: 0.3781 - accuracy: 0.8471 - val_loss: 0.3265 - val_accuracy: 0.8533\n",
      "Epoch 3/100\n",
      "96/96 - 0s - loss: 0.2902 - accuracy: 0.8656 - val_loss: 0.2467 - val_accuracy: 0.9075\n",
      "Epoch 4/100\n",
      "96/96 - 0s - loss: 0.2124 - accuracy: 0.9329 - val_loss: 0.1698 - val_accuracy: 0.9442\n",
      "Epoch 5/100\n",
      "96/96 - 0s - loss: 0.1504 - accuracy: 0.9535 - val_loss: 0.1226 - val_accuracy: 0.9575\n",
      "Epoch 6/100\n",
      "96/96 - 0s - loss: 0.1190 - accuracy: 0.9624 - val_loss: 0.1000 - val_accuracy: 0.9683\n",
      "Epoch 7/100\n",
      "96/96 - 0s - loss: 0.1032 - accuracy: 0.9671 - val_loss: 0.0876 - val_accuracy: 0.9767\n",
      "Epoch 8/100\n",
      "96/96 - 0s - loss: 0.0946 - accuracy: 0.9684 - val_loss: 0.0816 - val_accuracy: 0.9767\n",
      "Epoch 9/100\n",
      "96/96 - 0s - loss: 0.0894 - accuracy: 0.9709 - val_loss: 0.0785 - val_accuracy: 0.9758\n",
      "Epoch 10/100\n",
      "96/96 - 0s - loss: 0.0866 - accuracy: 0.9708 - val_loss: 0.0755 - val_accuracy: 0.9767\n",
      "Epoch 11/100\n",
      "96/96 - 0s - loss: 0.0850 - accuracy: 0.9711 - val_loss: 0.0746 - val_accuracy: 0.9758\n",
      "Epoch 12/100\n",
      "96/96 - 0s - loss: 0.0841 - accuracy: 0.9702 - val_loss: 0.0742 - val_accuracy: 0.9750\n",
      "Epoch 13/100\n",
      "96/96 - 0s - loss: 0.0832 - accuracy: 0.9708 - val_loss: 0.0730 - val_accuracy: 0.9750\n",
      "Epoch 14/100\n",
      "96/96 - 0s - loss: 0.0821 - accuracy: 0.9706 - val_loss: 0.0725 - val_accuracy: 0.9767\n",
      "Epoch 15/100\n",
      "96/96 - 0s - loss: 0.0818 - accuracy: 0.9703 - val_loss: 0.0734 - val_accuracy: 0.9733\n",
      "Epoch 16/100\n",
      "96/96 - 0s - loss: 0.0806 - accuracy: 0.9703 - val_loss: 0.0725 - val_accuracy: 0.9742\n",
      "Epoch 17/100\n",
      "96/96 - 0s - loss: 0.0801 - accuracy: 0.9703 - val_loss: 0.0716 - val_accuracy: 0.9742\n",
      "Epoch 18/100\n",
      "96/96 - 0s - loss: 0.0797 - accuracy: 0.9703 - val_loss: 0.0710 - val_accuracy: 0.9750\n",
      "Epoch 19/100\n",
      "96/96 - 0s - loss: 0.0795 - accuracy: 0.9704 - val_loss: 0.0693 - val_accuracy: 0.9750\n",
      "Epoch 20/100\n",
      "96/96 - 0s - loss: 0.0788 - accuracy: 0.9706 - val_loss: 0.0709 - val_accuracy: 0.9742\n",
      "Epoch 21/100\n",
      "96/96 - 0s - loss: 0.0785 - accuracy: 0.9703 - val_loss: 0.0700 - val_accuracy: 0.9758\n"
     ]
    },
    {
     "data": {
      "text/plain": [
       "<tensorflow.python.keras.callbacks.History at 0x1a79774dd0>"
      ]
     },
     "execution_count": 81,
     "metadata": {},
     "output_type": "execute_result"
    }
   ],
   "source": [
    "#Use tensorflow\n",
    "import tensorflow as tf\n",
    "\n",
    "#Define model\n",
    "# Set the input and output sizes\n",
    "input_size = len(X_train.columns)\n",
    "output_size = 2\n",
    "# Use same hidden layer size for both hidden layers. Not a necessity.\n",
    "hidden_layer_size = 4\n",
    "    \n",
    "# define how the model will look like\n",
    "model = tf.keras.Sequential([\n",
    "    # tf.keras.layers.Dense is basically implementing: output = activation(dot(input, weight) + bias)\n",
    "    # it takes several arguments, but the most important ones for us are the hidden_layer_size and the activation function\n",
    "    tf.keras.layers.Dense(hidden_layer_size, activation='relu'), # 1st hidden layer\n",
    "    tf.keras.layers.Dense(hidden_layer_size, activation='relu'), # 2nd hidden layer\n",
    "    # the final layer is no different, we just make sure to activate it with softmax\n",
    "    tf.keras.layers.Dense(output_size, activation='softmax') # output layer\n",
    "])\n",
    "\n",
    "\n",
    "model.compile(optimizer='adam', loss='sparse_categorical_crossentropy', metrics=['accuracy'])\n",
    "\n",
    "### Training\n",
    "# That's where we train the model we have built.\n",
    "\n",
    "# set the batch size\n",
    "batch_size = 100\n",
    "\n",
    "# set a maximum number of training epochs\n",
    "max_epochs = 100\n",
    "\n",
    "# set an early stopping mechanism\n",
    "# let's set patience=2, to be a bit tolerant against random validation loss increases\n",
    "early_stopping = tf.keras.callbacks.EarlyStopping(patience=2)\n",
    "\n",
    "\n",
    "# fit the model\n",
    "# note that this time the train, validation and test data are not iterable\n",
    "model.fit(train_inputs, # train inputs\n",
    "          train_targets, # train targets\n",
    "          batch_size=batch_size, # batch size\n",
    "          epochs=max_epochs, # epochs that we will train for (assuming early stopping doesn't kick in)\n",
    "          # callbacks are functions called by a task when a task is completed\n",
    "          # task here is to check if val_loss is increasing\n",
    "          callbacks=[early_stopping], # early stopping\n",
    "          validation_data=(validation_inputs, validation_targets), # validation data\n",
    "          verbose = 2 # making sure we get enough information about the training process\n",
    "          )  \n"
   ]
  },
  {
   "cell_type": "code",
   "execution_count": 82,
   "metadata": {},
   "outputs": [
    {
     "name": "stdout",
     "output_type": "stream",
     "text": [
      "38/38 [==============================] - 0s 1ms/step - loss: 0.0891 - accuracy: 0.9683\n"
     ]
    }
   ],
   "source": [
    "#Test the model\n",
    "test_loss, test_accuracy = model.evaluate(test_inputs, test_targets)\n"
   ]
  },
  {
   "cell_type": "code",
   "execution_count": 83,
   "metadata": {},
   "outputs": [
    {
     "name": "stdout",
     "output_type": "stream",
     "text": [
      "Epoch 1/100\n",
      "96/96 [==============================] - 15s 7ms/step - loss: 1.2554 - auc: 0.5358 - val_loss: 0.7785 - val_auc: 0.5707\n",
      "Epoch 2/100\n",
      "96/96 [==============================] - 0s 1ms/step - loss: 0.7027 - auc: 0.5524 - val_loss: 0.5186 - val_auc: 0.7031\n",
      "Epoch 3/100\n",
      "96/96 [==============================] - 0s 1ms/step - loss: 0.4812 - auc: 0.6974 - val_loss: 0.3774 - val_auc: 0.8183\n",
      "Epoch 4/100\n",
      "96/96 [==============================] - 0s 1ms/step - loss: 0.3569 - auc: 0.8042 - val_loss: 0.2822 - val_auc: 0.9124\n",
      "Epoch 5/100\n",
      "96/96 [==============================] - 0s 1ms/step - loss: 0.2659 - auc: 0.9040 - val_loss: 0.2075 - val_auc: 0.9676\n",
      "Epoch 6/100\n",
      "96/96 [==============================] - 0s 1ms/step - loss: 0.1942 - auc: 0.9575 - val_loss: 0.1549 - val_auc: 0.9795\n",
      "Epoch 7/100\n",
      "96/96 [==============================] - 0s 1ms/step - loss: 0.1514 - auc: 0.9675 - val_loss: 0.1269 - val_auc: 0.9838\n",
      "Epoch 8/100\n",
      "96/96 [==============================] - 0s 1ms/step - loss: 0.1261 - auc: 0.9752 - val_loss: 0.1112 - val_auc: 0.9856\n",
      "Epoch 9/100\n",
      "96/96 [==============================] - 0s 1ms/step - loss: 0.1121 - auc: 0.9810 - val_loss: 0.1013 - val_auc: 0.9872\n",
      "Epoch 10/100\n",
      "96/96 [==============================] - 0s 1ms/step - loss: 0.1043 - auc: 0.9815 - val_loss: 0.0951 - val_auc: 0.9877\n",
      "Epoch 11/100\n",
      "96/96 [==============================] - 0s 1ms/step - loss: 0.0976 - auc: 0.9885 - val_loss: 0.0914 - val_auc: 0.9877\n",
      "Epoch 12/100\n",
      "96/96 [==============================] - 0s 1ms/step - loss: 0.0927 - auc: 0.9882 - val_loss: 0.0875 - val_auc: 0.9893\n",
      "Epoch 13/100\n",
      "96/96 [==============================] - 0s 1ms/step - loss: 0.0916 - auc: 0.9876 - val_loss: 0.0849 - val_auc: 0.9896\n",
      "Epoch 14/100\n",
      "96/96 [==============================] - 0s 1ms/step - loss: 0.0905 - auc: 0.9882 - val_loss: 0.0807 - val_auc: 0.9920\n",
      "Epoch 15/100\n",
      "96/96 [==============================] - 0s 1ms/step - loss: 0.0879 - auc: 0.9909 - val_loss: 0.0776 - val_auc: 0.9926\n",
      "Epoch 16/100\n",
      "96/96 [==============================] - 0s 1ms/step - loss: 0.0905 - auc: 0.9872 - val_loss: 0.0785 - val_auc: 0.9925\n",
      "Epoch 17/100\n",
      "96/96 [==============================] - 0s 1ms/step - loss: 0.0861 - auc: 0.9905 - val_loss: 0.0765 - val_auc: 0.9931\n",
      "Epoch 18/100\n",
      "96/96 [==============================] - 0s 1ms/step - loss: 0.0910 - auc: 0.9894 - val_loss: 0.0761 - val_auc: 0.9934\n",
      "Epoch 19/100\n",
      "96/96 [==============================] - 0s 1ms/step - loss: 0.0859 - auc: 0.9915 - val_loss: 0.0746 - val_auc: 0.9941\n",
      "Epoch 20/100\n",
      "96/96 [==============================] - 0s 1ms/step - loss: 0.0810 - auc: 0.9909 - val_loss: 0.0736 - val_auc: 0.9944\n",
      "Epoch 21/100\n",
      "96/96 [==============================] - 0s 1ms/step - loss: 0.0805 - auc: 0.9903 - val_loss: 0.0725 - val_auc: 0.9945\n",
      "Epoch 22/100\n",
      "96/96 [==============================] - 0s 1ms/step - loss: 0.0797 - auc: 0.9919 - val_loss: 0.0738 - val_auc: 0.9941\n",
      "Epoch 23/100\n",
      "96/96 [==============================] - 0s 1ms/step - loss: 0.0755 - auc: 0.9930 - val_loss: 0.0713 - val_auc: 0.9948\n",
      "Epoch 24/100\n",
      "96/96 [==============================] - 0s 1ms/step - loss: 0.0750 - auc: 0.9921 - val_loss: 0.0716 - val_auc: 0.9949\n",
      "Epoch 25/100\n",
      "96/96 [==============================] - 0s 1ms/step - loss: 0.0854 - auc: 0.9920 - val_loss: 0.0708 - val_auc: 0.9948\n",
      "Epoch 26/100\n",
      "96/96 [==============================] - 0s 1ms/step - loss: 0.0791 - auc: 0.9927 - val_loss: 0.0704 - val_auc: 0.9952\n",
      "Epoch 27/100\n",
      "96/96 [==============================] - 0s 1ms/step - loss: 0.0726 - auc: 0.9937 - val_loss: 0.0694 - val_auc: 0.9952\n",
      "Epoch 28/100\n",
      "96/96 [==============================] - 0s 1ms/step - loss: 0.0788 - auc: 0.9922 - val_loss: 0.0690 - val_auc: 0.9954\n",
      "Epoch 29/100\n",
      "96/96 [==============================] - 0s 1ms/step - loss: 0.0794 - auc: 0.9929 - val_loss: 0.0696 - val_auc: 0.9953\n",
      "Epoch 30/100\n",
      "96/96 [==============================] - 0s 1ms/step - loss: 0.0769 - auc: 0.9933 - val_loss: 0.0689 - val_auc: 0.9953\n",
      "Epoch 31/100\n",
      "96/96 [==============================] - 0s 1ms/step - loss: 0.0721 - auc: 0.9937 - val_loss: 0.0687 - val_auc: 0.9956\n",
      "Epoch 32/100\n",
      "96/96 [==============================] - 0s 1ms/step - loss: 0.0768 - auc: 0.9927 - val_loss: 0.0681 - val_auc: 0.9956\n",
      "Epoch 33/100\n",
      "96/96 [==============================] - 0s 1ms/step - loss: 0.0717 - auc: 0.9939 - val_loss: 0.0682 - val_auc: 0.9957\n",
      "Epoch 34/100\n",
      "96/96 [==============================] - 0s 1ms/step - loss: 0.0732 - auc: 0.9941 - val_loss: 0.0700 - val_auc: 0.9952\n",
      "Epoch 35/100\n",
      "96/96 [==============================] - 0s 1ms/step - loss: 0.0767 - auc: 0.9933 - val_loss: 0.0671 - val_auc: 0.9958\n",
      "Epoch 36/100\n",
      "96/96 [==============================] - 0s 1ms/step - loss: 0.0760 - auc: 0.9928 - val_loss: 0.0661 - val_auc: 0.9959\n",
      "Epoch 37/100\n",
      "96/96 [==============================] - 0s 1ms/step - loss: 0.0736 - auc: 0.9937 - val_loss: 0.0661 - val_auc: 0.9960\n",
      "Epoch 38/100\n",
      "96/96 [==============================] - 0s 1ms/step - loss: 0.0745 - auc: 0.9929 - val_loss: 0.0654 - val_auc: 0.9960\n",
      "Epoch 39/100\n",
      "96/96 [==============================] - 0s 1ms/step - loss: 0.0754 - auc: 0.9928 - val_loss: 0.0661 - val_auc: 0.9960\n",
      "Epoch 40/100\n",
      "96/96 [==============================] - 0s 1ms/step - loss: 0.0697 - auc: 0.9947 - val_loss: 0.0648 - val_auc: 0.9959\n",
      "Epoch 41/100\n",
      "96/96 [==============================] - 0s 1ms/step - loss: 0.0725 - auc: 0.9943 - val_loss: 0.0661 - val_auc: 0.9959\n",
      "Epoch 42/100\n",
      "96/96 [==============================] - 0s 1ms/step - loss: 0.0761 - auc: 0.9937 - val_loss: 0.0654 - val_auc: 0.9960\n",
      "Epoch 43/100\n",
      "96/96 [==============================] - 0s 1ms/step - loss: 0.0737 - auc: 0.9940 - val_loss: 0.0641 - val_auc: 0.9962\n",
      "Epoch 44/100\n",
      "96/96 [==============================] - 0s 1ms/step - loss: 0.0742 - auc: 0.9938 - val_loss: 0.0641 - val_auc: 0.9961\n",
      "Epoch 45/100\n",
      "96/96 [==============================] - 0s 1ms/step - loss: 0.0764 - auc: 0.9930 - val_loss: 0.0642 - val_auc: 0.9961\n",
      "Epoch 46/100\n",
      "96/96 [==============================] - 0s 1ms/step - loss: 0.0744 - auc: 0.9924 - val_loss: 0.0634 - val_auc: 0.9961\n",
      "Epoch 47/100\n",
      "96/96 [==============================] - 0s 1ms/step - loss: 0.0710 - auc: 0.9940 - val_loss: 0.0622 - val_auc: 0.9963\n",
      "Epoch 48/100\n",
      "96/96 [==============================] - 0s 1ms/step - loss: 0.0759 - auc: 0.9920 - val_loss: 0.0628 - val_auc: 0.9964\n",
      "Epoch 49/100\n",
      "96/96 [==============================] - 0s 1ms/step - loss: 0.0739 - auc: 0.9924 - val_loss: 0.0626 - val_auc: 0.9963\n",
      "Epoch 50/100\n",
      "96/96 [==============================] - 0s 1ms/step - loss: 0.0758 - auc: 0.9932 - val_loss: 0.0621 - val_auc: 0.9964\n",
      "Epoch 51/100\n",
      "96/96 [==============================] - 0s 1ms/step - loss: 0.0716 - auc: 0.9940 - val_loss: 0.0620 - val_auc: 0.9963\n",
      "Epoch 52/100\n",
      "96/96 [==============================] - 0s 1ms/step - loss: 0.0675 - auc: 0.9943 - val_loss: 0.0605 - val_auc: 0.9965\n",
      "Epoch 53/100\n",
      "96/96 [==============================] - 0s 1ms/step - loss: 0.0711 - auc: 0.9942 - val_loss: 0.0602 - val_auc: 0.9965\n",
      "Epoch 54/100\n",
      "96/96 [==============================] - 0s 1ms/step - loss: 0.0682 - auc: 0.9948 - val_loss: 0.0608 - val_auc: 0.9965\n",
      "Epoch 55/100\n",
      "96/96 [==============================] - 0s 1ms/step - loss: 0.0692 - auc: 0.9944 - val_loss: 0.0606 - val_auc: 0.9965\n",
      "Epoch 56/100\n",
      "96/96 [==============================] - 0s 1ms/step - loss: 0.0762 - auc: 0.9934 - val_loss: 0.0613 - val_auc: 0.9964\n"
     ]
    }
   ],
   "source": [
    "#In a two class problem, there is no difference at all between using a softmax with \n",
    "#two outputs or one binary output, assuming you use a sigmoid (logistic) function \n",
    "#to model the probability of the output. The two things are mathematically equivalent.\n",
    "\n",
    "import keras\n",
    "from keras.models import Sequential\n",
    "from keras.layers import Dense\n",
    "\n",
    "def build_model():\n",
    "    model = Sequential()\n",
    "    model.add(Dense(6, input_dim=15, activation='relu'))\n",
    "    model.add(Dense(6, activation='relu'))\n",
    "    model.add(Dense(1, activation='sigmoid')\n",
    "             )\n",
    "    # Compile model\n",
    "    model.compile(loss='binary_crossentropy', optimizer='adam', metrics=['AUC'])\n",
    "    return model\n",
    "\n",
    "early_stopping = tf.keras.callbacks.EarlyStopping(patience=3)\n",
    "\n",
    "from keras.wrappers.scikit_learn import KerasClassifier\n",
    "keras_model = build_model()\n",
    "history=keras_model.fit(train_inputs, train_targets,batch_size=100, epochs=100, callbacks=[early_stopping], validation_data=(validation_inputs, validation_targets), verbose=1)\n"
   ]
  },
  {
   "cell_type": "code",
   "execution_count": 84,
   "metadata": {},
   "outputs": [
    {
     "name": "stdout",
     "output_type": "stream",
     "text": [
      "0.9938514232635498\n",
      "0.9886062145233154\n"
     ]
    }
   ],
   "source": [
    "# evaluate the model\n",
    "_, train_acc = keras_model.evaluate(train_inputs, train_targets, verbose=0)\n",
    "_, test_acc = keras_model.evaluate(test_inputs, test_targets, verbose=0)\n",
    "\n",
    "print(train_acc)\n",
    "print(test_acc)"
   ]
  },
  {
   "cell_type": "code",
   "execution_count": 85,
   "metadata": {},
   "outputs": [
    {
     "data": {
      "text/plain": [
       "dict_keys(['loss', 'auc', 'val_loss', 'val_auc'])"
      ]
     },
     "execution_count": 85,
     "metadata": {},
     "output_type": "execute_result"
    }
   ],
   "source": [
    "history.history.keys()"
   ]
  },
  {
   "cell_type": "code",
   "execution_count": 86,
   "metadata": {},
   "outputs": [
    {
     "data": {
      "text/plain": [
       "<matplotlib.legend.Legend at 0x1a79993b90>"
      ]
     },
     "execution_count": 86,
     "metadata": {},
     "output_type": "execute_result"
    },
    {
     "data": {
      "image/png": "[encoded data removed]",
      "text/plain": [
       "<Figure size 1080x1080 with 1 Axes>"
      ]
     },
     "metadata": {},
     "output_type": "display_data"
    }
   ],
   "source": [
    "fig = plt.figure(figsize=(15, 15))\n",
    "\n",
    "# plot loss during training\n",
    "plt.subplot(211)\n",
    "plt.title('Loss')\n",
    "plt.plot(history.history['loss'], label='train loss')\n",
    "plt.plot(history.history['val_loss'], label='validation loss')\n",
    "plt.legend()\n",
    "\n",
    "\n",
    "# plot accuracy during training\n",
    "#plt.plot.subplot(212)\n",
    "#plt.plot.title('Accuracy')\n",
    "#plt.plot.plot(history.history['accuracy'], label='train')\n",
    "#plt.plot.plot(history.history['val_accuracy'], label='test')\n",
    "#plt.plot.legend()\n",
    "#plt.plot.show()"
   ]
  },
  {
   "cell_type": "code",
   "execution_count": 87,
   "metadata": {},
   "outputs": [
    {
     "data": {
      "image/png": "[encoded data removed]",
      "text/plain": [
       "<Figure size 432x288 with 1 Axes>"
      ]
     },
     "metadata": {},
     "output_type": "display_data"
    },
    {
     "name": "stdout",
     "output_type": "stream",
     "text": [
      "Confusion matrix without normalization\n",
      "[[1037    8]\n",
      " [  27  128]]\n",
      " \n"
     ]
    },
    {
     "data": {
      "image/png": "[encoded data removed]",
      "text/plain": [
       "<Figure size 288x288 with 2 Axes>"
      ]
     },
     "metadata": {},
     "output_type": "display_data"
    }
   ],
   "source": [
    "from sklearn.metrics import roc_curve\n",
    "from sklearn.metrics import auc\n",
    "y_pred_keras = keras_model.predict(test_inputs)\n",
    "fpr_keras, tpr_keras, thresholds_keras = roc_curve(test_targets, y_pred_keras)\n",
    "\n",
    "                          \n",
    "auc_keras = auc(fpr_keras, tpr_keras)\n",
    "auc_keras\n",
    "\n",
    "\n",
    "plt.figure(1)\n",
    "plt.plot([0, 1], [0, 1], 'k--')\n",
    "plt.plot(fpr_keras, tpr_keras, label='Keras NN (area = {:.3f})'.format(auc_keras))\n",
    "#plt.plot(fpr_rf, tpr_rf, label='RF (area = {:.3f})'.format(auc_rf))\n",
    "plt.xlabel('False positive rate')\n",
    "plt.ylabel('True positive rate')\n",
    "plt.title('ROC curve')\n",
    "plt.legend(loc='best')\n",
    "plt.show()\n",
    "\n",
    "\n",
    "rounded_predictions=[]\n",
    "for i in range(len(y_pred_keras)):\n",
    "    #print(y_pred_keras[i][0], round(y_pred_keras[i][0]))\n",
    "    rounded_predictions.append(round(y_pred_keras[i][0]))\n",
    "\n",
    "print(\"Confusion matrix without normalization\")\n",
    "print(confusion_matrix(y_true=test_targets, y_pred=rounded_predictions))\n",
    "\n",
    "\n",
    "#matrix = confusion_matrix(y_test, y_pred3)\n",
    "matrix=confusion_matrix(y_true=test_targets, y_pred=rounded_predictions)\n",
    "matrix = matrix.astype('float') / matrix.sum(axis=1)[:, np.newaxis]\n",
    "#print(matrix)\n",
    "\n",
    "print(' ')\n",
    "\n",
    "# Build the plot\n",
    "plt.figure(figsize=(4,4))\n",
    "sns.set(font_scale=1.4)\n",
    "sns.heatmap(matrix, annot=True, annot_kws={'size':10},\n",
    "            cmap=plt.cm.Greens, linewidths=0.2)\n",
    "\n",
    "# Add labels to the plot\n",
    "class_names = ['Non-adopted', 'Adopted']\n",
    "tick_marks = np.arange(len(class_names))\n",
    "tick_marks2 = tick_marks + 0.5\n",
    "plt.xticks(tick_marks, class_names, rotation=25)\n",
    "plt.yticks(tick_marks2, class_names, rotation=0)\n",
    "plt.xlabel('Predicted label')\n",
    "plt.ylabel('True label')\n",
    "plt.title('Confusion Matrix for neural network')\n",
    "plt.show()\n",
    "    "
   ]
  },
  {
   "cell_type": "code",
   "execution_count": 88,
   "metadata": {},
   "outputs": [
    {
     "name": "stdout",
     "output_type": "stream",
     "text": [
      "              precision    recall  f1-score   support\n",
      "\n",
      "         0.0       0.97      0.99      0.98      1045\n",
      "         1.0       0.94      0.83      0.88       155\n",
      "\n",
      "    accuracy                           0.97      1200\n",
      "   macro avg       0.96      0.91      0.93      1200\n",
      "weighted avg       0.97      0.97      0.97      1200\n",
      "\n"
     ]
    }
   ],
   "source": [
    "print(classification_report(test_targets, rounded_predictions))"
   ]
  }
 ],
 "metadata": {
  "kernelspec": {
   "display_name": "Python 3",
   "language": "python",
   "name": "python3"
  },
  "language_info": {
   "codemirror_mode": {
    "name": "ipython",
    "version": 3
   },
   "file_extension": ".py",
   "mimetype": "text/x-python",
   "name": "python",
   "nbconvert_exporter": "python",
   "pygments_lexer": "ipython3",
   "version": "3.7.6"
  }
 },
 "nbformat": 4,
 "nbformat_minor": 4
}
